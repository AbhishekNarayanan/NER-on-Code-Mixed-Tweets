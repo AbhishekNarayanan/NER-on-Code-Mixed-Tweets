{
 "cells": [
  {
   "cell_type": "markdown",
   "metadata": {},
   "source": [
    "# NLP PROJECT FOR UE16CS333 BY TEAM 13\n",
    "## Team Members :\n",
    "## Abhishek Narayanan (01FB16ECS016)\n",
    "## Abhishek Prasad (01FB16ECS017)\n",
    "## Abijna Rao (01FB16ECS019)"
   ]
  },
  {
   "cell_type": "markdown",
   "metadata": {},
   "source": [
    "# Word2Vec Models :-"
   ]
  },
  {
   "cell_type": "markdown",
   "metadata": {
    "colab_type": "text",
    "id": "NV3IdZoR57ZM"
   },
   "source": [
    "## Importing important Libraries :-"
   ]
  },
  {
   "cell_type": "code",
   "execution_count": 40,
   "metadata": {
    "colab": {
     "base_uri": "https://localhost:8080/",
     "height": 509
    },
    "colab_type": "code",
    "id": "vHovZGH9Swv9",
    "outputId": "8dbdd897-0e02-41a8-fb3b-0c954e2e387a"
   },
   "outputs": [
    {
     "name": "stdout",
     "output_type": "stream",
     "text": [
      "Requirement already satisfied: nltk in /home/abhishek/anaconda3/lib/python3.6/site-packages (3.4)\n",
      "Requirement already satisfied: six in /home/abhishek/anaconda3/lib/python3.6/site-packages (from nltk) (1.12.0)\n",
      "Requirement already satisfied: singledispatch in /home/abhishek/anaconda3/lib/python3.6/site-packages (from nltk) (3.4.0.3)\n",
      "Requirement already satisfied: gensim in /home/abhishek/anaconda3/lib/python3.6/site-packages (2.2.0)\n",
      "Requirement already satisfied: six>=1.5.0 in /home/abhishek/anaconda3/lib/python3.6/site-packages (from gensim) (1.12.0)\n",
      "Requirement already satisfied: smart-open>=1.2.1 in /home/abhishek/anaconda3/lib/python3.6/site-packages/smart_open-1.5.3-py3.6.egg (from gensim) (1.5.3)\n",
      "Requirement already satisfied: scipy>=0.19.0 in /home/abhishek/anaconda3/lib/python3.6/site-packages (from gensim) (1.1.0)\n",
      "Requirement already satisfied: numpy>=1.11.3 in /home/abhishek/anaconda3/lib/python3.6/site-packages (from gensim) (1.15.4)\n",
      "Requirement already satisfied: boto>=2.32 in /home/abhishek/anaconda3/lib/python3.6/site-packages (from smart-open>=1.2.1->gensim) (2.49.0)\n",
      "Requirement already satisfied: bz2file in /home/abhishek/anaconda3/lib/python3.6/site-packages/bz2file-0.98-py3.6.egg (from smart-open>=1.2.1->gensim) (0.98)\n",
      "Requirement already satisfied: requests in /home/abhishek/anaconda3/lib/python3.6/site-packages (from smart-open>=1.2.1->gensim) (2.21.0)\n",
      "Requirement already satisfied: chardet<3.1.0,>=3.0.2 in /home/abhishek/anaconda3/lib/python3.6/site-packages (from requests->smart-open>=1.2.1->gensim) (3.0.4)\n",
      "Requirement already satisfied: idna<2.9,>=2.5 in /home/abhishek/anaconda3/lib/python3.6/site-packages (from requests->smart-open>=1.2.1->gensim) (2.8)\n",
      "Requirement already satisfied: urllib3<1.25,>=1.21.1 in /home/abhishek/anaconda3/lib/python3.6/site-packages (from requests->smart-open>=1.2.1->gensim) (1.24.1)\n",
      "Requirement already satisfied: certifi>=2017.4.17 in /home/abhishek/anaconda3/lib/python3.6/site-packages (from requests->smart-open>=1.2.1->gensim) (2019.3.9)\n",
      "Requirement already satisfied: sklearn in /home/abhishek/anaconda3/lib/python3.6/site-packages (0.0)\n",
      "Requirement already satisfied: scikit-learn in /home/abhishek/anaconda3/lib/python3.6/site-packages (from sklearn) (0.20.1)\n",
      "Requirement already satisfied: numpy>=1.8.2 in /home/abhishek/anaconda3/lib/python3.6/site-packages (from scikit-learn->sklearn) (1.15.4)\n",
      "Requirement already satisfied: scipy>=0.13.3 in /home/abhishek/anaconda3/lib/python3.6/site-packages (from scikit-learn->sklearn) (1.1.0)\n",
      "/bin/sh: 1: setup.py: not found\n"
     ]
    }
   ],
   "source": [
    "#!pip install importlib\n",
    "!pip install nltk\n",
    "!pip install gensim\n",
    "!pip install sklearn\n",
    "!setup.py\n",
    "# Load the Drive helper and mount\n",
    "#!pip install google.colab\n",
    "#from google.colab import drive\n",
    "\n",
    "# This will prompt for authorization.\n",
    "#drive.mount('/content/drive')\n",
    "import numpy as np\n",
    "import csv\n",
    "import sys\n",
    "import math\n",
    "from numpy import concatenate\n",
    "# from matplotlib import pyplot\n",
    "from pandas import read_csv\n",
    "from keras.models import Sequential\n",
    "from keras.layers import Dense\n",
    "from keras.layers import LSTM\n",
    "from keras.layers import Embedding, TimeDistributed, Dropout\n",
    "import pandas as pd\n",
    "from sklearn.tree import DecisionTreeClassifier\n",
    "from sklearn.naive_bayes import GaussianNB\n",
    "from sklearn.metrics import f1_score\n",
    "from sklearn.model_selection import train_test_split\n",
    "from sklearn.metrics import classification_report\n",
    "from sklearn.model_selection import cross_val_predict\n",
    "from sklearn.naive_bayes import GaussianNB\n",
    "from sklearn.ensemble import RandomForestClassifier"
   ]
  },
  {
   "cell_type": "markdown",
   "metadata": {
    "colab_type": "text",
    "id": "MAL5J7vm6dXK"
   },
   "source": [
    "## Extracting data from \"taggedDatacsv\" :-"
   ]
  },
  {
   "cell_type": "code",
   "execution_count": 42,
   "metadata": {
    "colab": {},
    "colab_type": "code",
    "collapsed": true,
    "id": "Lku_StE6iIiM"
   },
   "outputs": [],
   "source": [
    "\n",
    "words_data=[]\n",
    "words_full=[]\n",
    "tags_1=[]\n",
    "data = pd.read_csv(\"NLP Colab/taggedData.csv\", encoding=\"latin1\")\n",
    "\n",
    "data = data.fillna(method=\"ffill\")\n",
    "words_full=data[\"Word\"].values\n",
    "words = list(set(data[\"Word\"].values))\n",
    "\n",
    "words.append(\"ENDPAD\")\n",
    "#y=data[\"Tag\"].values\n",
    "tags = list(set(data[\"Tag\"].values))\n",
    "tags_1=tags\n",
    "words_data=words\n",
    "    #print tags\n"
   ]
  },
  {
   "cell_type": "markdown",
   "metadata": {
    "colab_type": "text",
    "id": "u-qCjDXI67AI"
   },
   "source": [
    "## Reading data (words) to make the corpus :-"
   ]
  },
  {
   "cell_type": "code",
   "execution_count": 45,
   "metadata": {
    "colab": {},
    "colab_type": "code",
    "collapsed": true,
    "id": "j7LVEflZiWQd"
   },
   "outputs": [],
   "source": [
    "# Reading Data for making corpus to train with Gensim word2vec\n",
    "data = pd.read_csv(\"NLP Colab/taggedData.csv\", encoding=\"latin1\")\n",
    "data = data.fillna(method=\"ffill\")\n",
    "\n",
    "words = list(set(data[\"Word\"].values))\n",
    "words.append(\"ENDPAD\")\n",
    "tags = list(set(data[\"Tag\"].values))\n",
    "max_len = 50\n",
    "word2idx = {w: i for i, w in enumerate(words)}\n",
    "tag2idx = {t: i for i, t in enumerate(tags)}\n",
    "word2Suff2idx = {w[-2:]: i for i, w in enumerate(words)}\n",
    "word3Suff2idx = {w[-3:]: i for i, w in enumerate(words)}\n",
    "wordLower2idx = {w.lower(): i for i, w in enumerate(words)}\n",
    "binaryIdx = {\"True\": 1, \"False\": 0}\n",
    "getter = SentenceGetter(data)\n",
    "# sent = getter.get_next()\n",
    "sentences = getter.sentences\n",
    "sp=[]\n",
    "for i in sentences:\n",
    "    temp=[]\n",
    "    for j in i:\n",
    "      temp.append(j[0])\n",
    "      sp.append(temp)"
   ]
  },
  {
   "cell_type": "markdown",
   "metadata": {
    "colab_type": "text",
    "id": "VsBBpJR2BRNX"
   },
   "source": [
    "## Reading the values of Tags from the file :-"
   ]
  },
  {
   "cell_type": "code",
   "execution_count": 46,
   "metadata": {
    "colab": {
     "base_uri": "https://localhost:8080/",
     "height": 53
    },
    "colab_type": "code",
    "id": "qen0TkohijKl",
    "outputId": "ec0d8685-20e7-4c32-b97f-96e104146556"
   },
   "outputs": [
    {
     "name": "stdout",
     "output_type": "stream",
     "text": [
      "[4.0, 3.0, 3.0, 3.0, 3.0, 3.0, 3.0, 3.0, 1.0, 3.0]\n",
      "72143\n"
     ]
    }
   ],
   "source": [
    "# Reading from the file to get the value of Y(Tags)\n",
    "\n",
    "X_X=[]\n",
    "i=0\n",
    "with open('NLP Colab/featureVectors.csv') as csvfile:\n",
    "    readCSV = csv.reader(csvfile, delimiter=',')\n",
    "    for row in readCSV:\n",
    "      if(i==0):\n",
    "        i=i+1\n",
    "        continue\n",
    "      temp=[]\n",
    "      for value in row:\n",
    "        if(len(value)==0):\n",
    "          temp.append(0)\n",
    "        else:\n",
    "          temp.append(float(value))\n",
    "      i=i+1;\n",
    "      X_X.append(temp)\n",
    "      #print row\n",
    "      #break\n",
    "y1=[]\n",
    "for i in X_X:\n",
    "  #print(i)\n",
    "  y1.append(i[32])\n",
    "print(y1[:10])\n",
    "print(len(y1))"
   ]
  },
  {
   "cell_type": "markdown",
   "metadata": {
    "colab_type": "text",
    "id": "Q2yg6aezBXwo"
   },
   "source": [
    "## Creating word2vec vectors with the corpus :-"
   ]
  },
  {
   "cell_type": "code",
   "execution_count": 47,
   "metadata": {
    "colab": {
     "base_uri": "https://localhost:8080/",
     "height": 201
    },
    "colab_type": "code",
    "id": "0RKLCDoCiaUn",
    "outputId": "fbb9a8a8-bbb1-4624-8fae-2d90c2e3573e"
   },
   "outputs": [
    {
     "name": "stdout",
     "output_type": "stream",
     "text": [
      "['Bahubali', '2', 'ke', 'liye', 'line', 'lag', 'sakte', 'hai', 'desh', 'kyun', 'lage', 'me', '...', '#notebandi', '#Bahubali2', 'agar', 'time', 'political', 'party', 'bhi', '#rti', 'daayre', 'aa', 'jati', 'to', '#sukmaattack', '#kashmir', 'patthar', 'attack', 'na', 'hote', '@PMOIndia', 'baad', 'aam', 'janta', '#bankaccount', '15', 'laakh', 'rs', 'nahi', 'aaye', 'akele', 'sabka', 'paisa', 'kaise', 'ghot', 'hain', '@sambitswaraj', 'Masterstroke', 'Modiji', 'ne', 'usi', 'din', 'maar', 'diya', 'tha', 'jab', 'ki', 'thi', '0', 'Jin', 'logon', 'ko', 'President', 'aur', 'PM', 'tak', 'ka', 'naam', 'pata', 'woh', 'log', 'GST', 'pe', 'Chai ', 'par', 'charcha', 'kar', 'rahein', 'hain.', '#GST', '#GSTForNewIndia', 'petrol', ',', 'alcohol', 'tobacco', 'Kyo', '?', 'kya', 'iska', 'liya', '1', 'answer', 'milaga', 'phir', 'bhe', '!!', 'Wake', 'up', '!', 'aane', 'wala', 'h', 'tm', 'khamosh', 'ho', 'Utho', 'virodh', 'krke', 'raaiyta', 'failao.', 'Entertainment', 'chahiye', 'Hume', 'congress', 'bol', 'rahi', 'packed', 'egg', 'use', 'kyu', '0%', 'rakha', 'hua', '5%', 'dalo', 'Jb', 'ap', 'unmarried', 'hu', 'toh', 'apni', 'salry', 'mai', 'Maa,', 'bhai,', 'behan', 'hisa', 'dete', 'AUR', 'shadi', 'k', 'sb', 'kuch', 'biwi', 'dna', 'padta', 'Yh', 'India', 'score', 'se', 'west', 'indies', '18%', 'jyada', 'karna', 'padega,', 'kyuki', 'unki', 'batting', '12', 'baje', 'chalegi.', '#INDvWI', 'Aur', 'Kuch', 'Wajah', 'Commerce', 'baccho', 'syllabus', 'zarur', 'chhota', 'jayega', '#gstrollout', 'Aaj', 'india', 'team', 'dhoni', 'per', 'asar', 'dikh', 'rha', 'Yaha', 'sab', 'rahe', 'Hai', 'Samajh', 'nhi', 'rha...', 'And', 'm', 'like', 'aaj', 'kaunsa', 'tax', 'aaya', 'mujhe', 'Jo', 'ye', 'aayega', 'ek', 'gadget', 'kharid', 'lo..', 'bazaar', 'saari', 'sabziyaan', 'baaki', 'ghar', 'saamaan', 'le', 'Aaj!', 'Kya', 'kal', 'ho!!!', 'Sab', 'cahate', 'des', 'bikash', 'lekin', 'contribution', 'bat', 'aye', 'mhu', 'pherna', 'adat', 'sa', 'hogaya', 'Are', 'yaar', 'nsi', 'gya', 'koi', 'theory', 'gai', 'smajh', 'hi', 'nai', 'Ek ', 'feik', 'maarenge', 'bhool', 'jaaoge', 'karcha', 'kahaan', 'save', 'hai..', 'July', 'paida', 'huwe', 'bache', 'Expensive', 'ab', 'Raat', 'GHANTA', 'baja', 'implement', 'hoga', 'samajh', 'gaye', 'samaj', 'mein', 'Lol.', 'underwear', 'daam', 'badlaav', 'hone', 'wale', 'kya?', 'leta', 'stock.', 'kisi', 'problems', 'ya', '@INCIndia', 'problem', 'raat', 'laagu', 'raha', 'hai...', 'Waah', 're', 'raajneeti', 'Ab', 'piyakadd', 'anpad', 'maalum', 'payers', 'life', 'easy', 'banata', 'mushkil', 'nahi.', '#ModiNo1', '#ElectionResults', '#ResultsWithNDTV', '30', 'June', 'aadhi', 'Parliament', 'central', 'hall', 'jo', 'jashn', 'manaya', 'ja', 'h,', 'hamari', 'usme', 'shaamil', 'hogi:', 'GN', 'Azad', 'Aapki', 'sirf', 'aatankiyon', 'faansi', 'maaf', 'karwane', 'jaati', 'Mass', 'Murderer', 'Anderson', 'bhagane', 'bhai', 'VAT', 'hum', 'de', 'rhe,', 'consumer', 'rhe', 'dukan', 'hartal', 'baithe', 'hai?', '#gst', 'kisano', 'bhala', 'jetali', 'sahab', 'and', 'pm', 'ji', 'fertilizer', 'dam', 'bda', 'diye', 'anaj', 'vahi', 'guru', 'Atleast', 'Unhe', 'hona', 'Chahiye', 'Basic', 'rules', 'bare', ',Nahi', 'Sarkar', 'Galat', 'Message', 'De', 'traders', 'Bina', '#note', 'chaape', 'notebandi', 'lagu...Bina', 'number', 'lagu...', 'Dekh', 'lena', 'bina', 'patri', 'bichaye', '#bullet', '#train', 'dauda', 'dega....', 'RaGa', ':', 'Mujhe', 'matlab.', 'Maine', 'college', 'uss', 'dance', 'kiya', 'chill', 'chill..', 'Sara', 'prachar,', 'Bhavya', 'samaroh', 'theek', 'hai,', 'technical', 'support', 'taiyyar', 'karoge?', '#PMO', 'you', 'are', 'in', 'shock', '....', 'hawaiyan', 'udd', 'gyi', 'chal', 'Ka', 'thapad', 'pad', 'aap', 'chaplusi', 'Utar', 'jaiyega', 'We', 'can', 'educate', 'our', 'â\\x80\\x9cBetiâ\\x80\\x9d', '(Beti', 'Bachai,Beti', 'Padai)', '@mlkhattar', 'sir', 'unhe', 'darindo', 'bachao.', '#Nirbhaya', '#DarindoSeBachaoKanoonLao', 'Sahir', 'Lodhi', 'show', 'say', 'phelay', 'Pakistani', 'Sachay', 'Musalman', 'google', 'PORN', 'search', 'main', 'one', 'thay...', 'Aisay', 'Hogaya', 'Kasoor', 'waqeya...', 'Yeh', 'ik', 'frustrated,', 'corrupt', '(ethically', 'n', 'financially)', 'Jahil', 'Qaum', 'hai..madarsay', 'mulla', 'rape', 'kertay', 'bagair', 'dekhay', 'sazaa', 'ulemaa', 'nazdeek', 'bazu', 'taang', 'katna', 'sakti', 'ha.', 'Case', 'depend', 'karta', 'ha', 'chori', 'krta', 'uske', 'haat', 'kaatwa', 'jaaye', 'or', 'agr', 'uski', 'mardaangi', 'subut', 'ktwa', 'beech', 'sadak', 'pr', 'latka', 'kr', 'phaansi', 'honi', 'chahye..', 'Modi', 'Ji', 'satttaaa', 'aapke', 'bhrast', 'raaj', 'Gangrape', 'Loootmaar', 'Dalito', 'Ko', 'Maarna', 'Peechdi', 'jaatio', 'maarnaa', 'Hindu', 'Muslim', 'bhed', 'bhaav', 'karnaa.......Modi', 'Humaari', 'Congress', 'Jann', 'Ki', 'Baat', 'Karti', 'Mein', 'Ektaa', 'Kaa', 'Naam', 'Letti', 'karne', 'balo', 'year', 'saja', 'deni', 'Zara', 'si', 'sharam', 'unko', 'gale', 'lagao', 'jin', 'choti', 'betiyo', 'Hariyana', 'karke', 'Gaya', 'marne', 'chod', 'dikhta', 'wo', 'bikta', 'No', 'tauba', 'on', 'haryana', 'rape.', 'janata', 'janardan', 'faisala', 'Jaldi', 'sona', 'shubha', '8', 'hamare', 'future', 'lagega', 'jawab', 'Kash', 'teen', 'talaq', 'bill', 'pas', 'jata', 'bachiyun', 'Gang', 'Rape', 'Nahi', 'hota', '!!!!!!!', 'Aissa', 'odisha', 'state', 'hai,bina', 'kiye', 'hue', 'mei', 'ander', 'bhejte', 'sharm', 'karo', 'odia', 'Mallab', 'nirbhaya', 'headline', 'isliye', 'bani', 'qki', 'WO', 'general', 'Abe', 'kutte', 'Tum', 'karte', 'saboot', 'shambhu', 'regar', 'Hinduon', 'neta', 'kahan', 'bolkar', 'ladki', 'bikau', 'be', 'Shambhulal', 'ragar', 'khud', 'bahen', 'uska', 'afrajul', 'rang', 'men', 'nafrat', 'Karna', 'jahe', 'Per', 'baat', 'samajwadi', 'NE', 'abhi', 'gayatri', 'nikala', '@MamataOfficial', '@sardanarohit', 'Woh', '#NoteBandi', 'agst', '#AamaranAnshan', 'waale', 'the', 'Mare', 'nahin', 'Jab', 'aayesha', 'tab', 'Porki', 'kaha', 'mar', 'gye', '..', 'Sir', 'jan', 'man', 'accha', 'lagta', '3', 'MEDIA', 'dikha', 'rhi', 'sub', 'modi', 'jhappi', 'debate', 'Jignesh', 'has', 'come', 'raise', 'voice', 'against', 'scandals', 'hope', 'will', 'agree', 'with', 'that', 'Jis', 'Maa', 'Behan', 'Beti', 'Bahu', 'surakshit', 'us', 'P.M.', '56', 'inch', 'chaati', 'achar', 'dalenge.', 'Haryana', 'cand', 'dabane', 'togadia', 'gayab', 'karwaya', 'gaya', 'Yaar', 'hatti', 'hui', 'meri.', 'Matlab', 'har', 'jagah', 'tamasha', 'Marital', 'consider', 'krte', 'kanjar', 'kahi', 'Indians', 'kutay', 'maa', 'bahan', 'kerwa', 'ker', 'washrom', 'dhondtay', 'Respected', 'Amit', 'Bhai,', 'jai', 'shree', 'ram.', 'Kuda', 'Kachra', 'Safai', 'abhiyaan', 'jaisa', 'aisa', 'upaay', 'logo', 'gandi', 'mansikta', 'vichaar', 'gandagi', 'dil', 'dimaag', 'mitaee', 'jaa', 'sake.', 'Nirbhaya', 'case', 'centre', 'gpvt.thi,', 'kuchh', 'badla.', 'eik', 'bachi', 'usse', 'dia.', 'bande', 'goli', 'di', '16', 'goliyaan', 'di.', 'The', 'only', 'son', 'of', 'his', 'parents..', 'Intezar', 'Siddique', '#JusticeForIntezar', 'ussi', 'mudda', 'bhatkane', 'togadiya', 'wa', '#DALALI', 'mil', 'chuki', 'BJP', 'sare', 'Elections', 'jit', 'fir', 'v', 'opposition', 'public', 'Saath', '#UPPolls', 'Miya', 'itna', 'ghussa', 'kyu.', '9/10', 'street', 'kid', 'peshaver', 'waha', 'dikhao.', 'Pathano', 'kamal', 'hai.14', 'guna', 'jada', 'rate', 'Pakistan', '28.8', '1.8.', 'Anyway', 'aapki', 'hame', 'miya.', 'Dear', 'Anna', 'andolan', 'karenge', 'kaisa', 'sasan', 'Suprem', 'court', 'hal', 'sabke', 'samane', 'ekjudge', 'maut', 'hoti', 'puchne', 'Delhi', 'itne', 'hai.', 'Kewal', 'govt.', 'nazar', 'aata', 'tha.', 'lol', 'jao', 'porn', 'dekho', 'Chote', 'bacho', 'Bacha bazi.', 'Toh', 'channa', 'mereya', 'gao', 'wedding', 'married', 'kardo', 'aisi', 'taisi', 'Suhag', 'bolegi', \"DON'T\", 'TOUCH', 'ME', 'WARNA', 'RAPE', 'CASE', 'JAOGE', 'ANDAR', 'samay', 'saare', 'patrakaar', 'they', 'betiyan', 'dard', 'vichlit', '4-4', 'bachiyon', 'ati', 'wahan', '.doob', 'maro', 'All', 'Bhakts', 'Silent', 'Like', 'Rapes', 'Antaraatma', 'Mar', 'gayee', 'pagal', 'jaise', 'matter', 'drag', 'vote', 'jitne', 'after', '#Notebandi', '#Maharastra', '#Odhisa', '15L', '11', 'march', 'apko', 'Get', 'well', 'soon', 'andar', 'betiyon', 'walon', 'sarkar', 'khaas', 'plan', 'lab', 'ayega...', 'Pahale', 'rapist', 'jis', 'silai', 'machine', 'bhadawe', 'do', 'lagataar', 'ladkiyon', 'saath', 'jaisi', 'haivaniyat', 'kabhi', 'mile', 'Manak', 'aapne', 'bhalai', 'kitne', 'bade', 'kadam', 'uthaye', 'surgical', 'strike,demonitisation,', 'bahut', 'badi', '4th', 'largest', 'Rape.', 'plz', 'kanoon', 'banaiye', 'darindee', 'aisaa', 'sochne', 'tharthara', 'uthe.', 'i', 'something.', 'hamesha', 'corruption', 'loot', 'gov', 'milkar', 'karti', 'Teen', 'fayeda', 'dikhawa', 'jbki', 'is', 'qanoon', 'she', 'nuqsan', 'hamara', 'smjhna', 'chahye', 'milega', 'kynki', 'kon', 'fikr', 'SB', 'hiss', 'hn', 'This', 'bullshit.', 'Y', 'no', 'strict', 'rule', 'coming.', '@narendramodi', 'sote', 'rahoge.', 'beti', 'shikaar', 'banti', 'rahrngi.', 'Band', 'yaar.', 'Sarkaar', 'dukaan.', 'Ye', 'sach', 'khatara', 'sarkaar', 'h.', 'Ek', 'mein.', 'haal', 'dekh', 'lijiye,', 'Betiyoon', 'badgaye', ',Corruption', '2G', 'was', 'not', 'done,Mopalwar', 'clean,', 'Adarsh', \"didn't\", 'happen,Jijaji', 'honest', 'free', 'as', 'Jay', 'shah', 'clean..Mai', 'jhukne', 'Dunga', '...Sir', 'sharminda', 'aapko', 'Suna', 'chuna', 'Janta', 'kitni', 'pareshan', '#DeMonetisation', 'election', '@BJP4India', 'jalwa', 'badhta', '@myogiadityanath', 'Hamirpur', 'kand', 'news', 'sihar', 'utha.UP', 'rapists', 'adheen', 'Aapke', 'CM', 'bane', '1saal', 'but', 'UP', 'abtak', 'freely', 'anjaam', 'Poore', 'world', 'humaare', 'kharab', 'Sakht', 'action', 'lijiye.', 'Arre', 'Bhakt', 'Didi', 'do?Wo', 'Bahen', 'h,Rashtrwad', 'jaage', 'MP', 'Lady', 'teachers', 'apne', 'baal', 'mundwa', 'liye,ho', 'sake', 'unke', 'shamil', 'jao,Ye', 'taklif', 'h,Ummid', 'alag', 'hatkr', 'bolengi?Waiting', 'for', 'ur', 'reply?', 'Bharat', 'niyamit', 'roop', 'Bjp', 'rajye', 'murder', 'bjp', 'rahehain.', 'Meine', 'aise', 'nikami', 'dekhi', 'char', 'mamle', 'magar', 'aaise', 'bhand', 'anchor', 'uspar', 'debet', 'karayenge', 'enpar', 'shaq', 'hoga....', '...par', 'a', 'sumit', 'bhaisab', 'postar', 'leke', 'hai....', 'To', 'kya...', '#Modi', 'sun', 'dahal', 'Kanoon', 'vayvastha', 'lachar', 'chooki', 'feedback', 'leziye', 'Koi', 'safe', 'iss', 'me,', 'daily', 'Roj', 'roj', 'gaali', 'dekar', 'Khush', 'gang', '4', 'uspe', 'lo', 'Sumit', 'g', 'Beshak', 'puri', 'Tarah', 'LEKIN', 'phla', 'bhut', 'bada', 'rokne', '#AkhileshYadav', 'govt', 'gayi', 'kyaa????', 'Has', '#SamajwadiParty', 'taken', 'over', 'Haryana????', 'Bahut', 'ho...', 'bhiii', 'criminal', 'haii', 'seedha', 'faashi', 'saazaa', 'mini', 'chaiyee', 'supporter', 'huu', 'khaatar', 'request', 'iske', 'serious', 'rape...aur', '?..', 'abey', 'insaan', 'paiso', 'aatama', 'bech', 'chuke', 'ho???', 'R/s', 'thoda', 'bolo', 'upar', 'chupi', 'todo.', 'JIND,PANIPAT,FARIDABAAD.', 'Thoda', ',votes', 'sath', 'mat', 'tolo', 'JAI', 'HIND', 'saza', 'Sabse', 'behtareen', 'Islam', 'batai', 'aqal', 'mutabiq', 'chaurahey', 'Patthar', 'khatam', 'jaye.', 'gaing', 'raip', 'poora', 'hila', 'rakh', 'tha,', 'hr', 'Caindal', 'March', 'khi', 'najar', 'Media', 'so', 'Gau', 'mata', 'important', 'aurton', 'ajeeb', 'aadmi', 'karnataka', 'the,', 'rajneeti', 'shashit', 'rajyo', 'tweet', 'varna...Sharm', 'per...Sabke', 'bachhe', 'atankiyo', '#Nasbandi', 'karni', 'Kaka', 'Contraceptive', 'lekar', 'gae', 'Viagra', 'gift', 'Khattar', 'slogan', 'padhao', \"bachao'.\", 'In', 'practice', 'honay', 'do.', 'Nikamba', 'baysarm', 'dekhtay', 'raho.', 'banwaiye', 'sir,', 'bachhiyon', 'hain-', 'kitna', 'dukh', 'karthe', 'Wo', 'sy', 'darthe.', 'Jitni', 'phansiya', 'dalni', 'dal', 'Public', 'b', 'karo.', 'Leken', 'jub', 'tuk', 'awareness,', 'acceptance', 'taleem', 'hasil', 'tub', 'real', 'social', 'progression', 'hoga.', '#ZainabMurder', '#Kasur', '#ZainabZindaHai', '#zainabansari', '1947', '2014', 'Mahila', 'empowerment', 'congrees', 'triple', 'talak', 'lok', 'sabha', 'pass', 'rajya', 'fale.', 'wife', 'instant', 'dega', 'manta', '@prateektv', '@PrateektFanClub', 'question', 'pucha', 'sensitive', 'kise', 'Sir,', 'involved', 'Family', 'bicott', 'shayad', 'hoga.bcz', 'proof', 'Agar', 'Government', 'Kasur', '1st', 'he', 'lia', 'Rapist', 'pakarlia', 'saaray', 'bachon', 'zindagi', '#JusticeForZainab', 'culprits', 'jail', 'wajah', 'dia', 'jae', 'Kaunse', 'video', 'mein?', 'CD', 'humor', 'Bechari', 'majboor', 'wakil', 'promotion', 'gajar', 'Manu', 'Singhvi.', 'Rapisto', 'samne', 'esa', 'karoge', 'tabhi', 'kam', 'jayege', '#BMCelection', 'vyapariyo', 'appeal', 'Vote', 'progress', '@sanjaynirupam', '#DALALMEDIA', 'modiki', 'kahttar', 'baba', 'dasi', 'amitabh', 'bachan', 'twitter', 'kawita', 'dali', 'karoon', 'sambedna', 'leke.', 'Mai', 'jee', 'pure', 'puchhta', 'hoon', 'karu', 'dedbody', 'abroad', 'bhag', 'Gaye.', 'bana', 'leave', 'hospital', 'Tha', 'main.', 'khattar', 'inka', 'bacchao', 'abhiyan.', 'Again!', 'sabhya', 'languge', 'term', 'pehle', 'baari', 'soch', 'Kiyun', 'cutter', 'Apni', 'Maata', 'sewa', 'presionsers', 'Karwao', 'ge', 'Khud', 'Kar', 'Sakte', 'Yehi', 'Hain', 'hit', 'Biwi', 'Chor', 'Bhag', 'Jate', 'bc', 'Bhi', 'politics', 'Liye', 'GauMaa', 'waloun', 'Karo', 'Murder', 'u', 'HV', 'GaumAa', 'saale', 'humanity', 'jb', 'Palestinian', 'bolta', 'Israel', 'bandhi', 'bna', 'aurto', 'krenge', 'tb', 'hota....', 'Aise', 'kashmir', 'mudde', 'h...', 'kbhi', 'huye', 'honge', 'wahi', 'ravish', 'westbengal', 'nun', 'rss', 'ro', 'asli', 'gunehgar', 'naampata', 'chala', 'silent', 'mode', 'gaya,', 'dadri', 'roya,', 'malda', 'porniya', 'chup', 'raha?', 'karnatak', 'punjab', 'suiciede', 'aage', 'rajput', 'lagane', 'tumlog', 'asal', 'paidaish', 'protest', 'knw', 'tumoog', 'nhi_kroge', 'cz', 'tum', 'ladkiyo', 'respect', 'krte...', 'Tere', 'muslim', 'ladkiyona', 'hindu', 'aati', 'tere', 'dalit', 'dekhti', '@OfficeOfRG', '@yadavakhilesh', 'Iseeliye', 'humne', 'Gareeb', 'nirdosh', 'longonko', 'arrest', 'Koe', 'roke', 'ga', 'PML-N', 'child', 'abusing,', 'rape,', 'se,', 'Rupee', 'value', 'girane', 'educational', 'system', 'tabbah', 'galiyaan', 'dene', 'law', 'enforcement', 'tabah', 'call', 'LOC', 'khelaf', 'warzi', 'samny', 'bhikari', 'dikhane', 'aajj', '7', 'girl', 'pur', '24', 'ghante', 'hariyana', 'talve', 'chatne', 'deepak', '5', 'bachiyo', 'keroge', 'Hindustan', 'durbhagya', 'dekhie-', 'yaha', 'pidit.....', 'najro', 'gir', 'star', 'dilo', 'raj', 'krti', 'h....', 'tumhare', 'akaon', 'jahan', 'krne', 'phursat', 'kabi', 'kijiye', 'Bilkul', 'sahi', 'hain...', 'AAP', 'paas', 'police', 'power', 'tho', 'zimmedari', 'tehrana', 'ghatna', 'education,', 'bijli', 'paani', 'roads', 'hak', 'unhone', 'behtar', 'kaam', 'dikhaya', 'kiske', 'shasankaal', 'Capital', '....UPA', 'Sheila', 'Dixit', 'naak', 'neeche...', 'Shehar', 'sambhal', 'paye', 'chale', 'lanchhan', 'lagate', 'month', 'brutal', 'gangrape', 'prakash', 'dalenge', 'mahamahim', 'abhi_haal', 'hi_m', 'parso', 'minor', 'girls', 'hua...ab', 'khan', 'h_krni', 'sena....but', 'hype', 'chahea.....desh', 'm_50%', 'hu@an', 'being', 'unki_respect', 'hu_dil', 'se..tumlog', 'jase', 'fake', 'chola', 'odhkar_faltubazi_krre', 'ho_na', 'trp', 'pane', 'k_lie', 'Bas', 'photos', 'post', 'kerte', 'Mandir', 'meeting', 'ministers', 'ji.', 'kaafi', 'achha', 'laga', 'sankhya', 'badhi', 'surakasha', 'intejaam', 'chaiye...', 'insaaniyat', 'sharmsaar', 'rai', 'Sahi', 'Rapists', 'Hum', '1971', 'Country', 'asa', 'Bengaldesh', 'Oye', 'khatara?', 'Uth', 'ab..', 'Kitney', 'karwaega..', 'up..', 'Yogi', 'seekho', 'kuch..', 'Mard', 'bano..', 'Faisley', 'sakht', 'sakht..', 'manhoos', 'hudda', 'vapis..', 'sirji', 'hry', 'useless', 'cm', 'hatao', 'varna', 'agle', 'kafi', 'yrs', 'namleva', 'milega.non', 'jats', 'apki', 'jitaya', 'parwah', 'nam', 'panipat', 'faridbad', 'Allah', 'way', 'mutabik', 'dena', 'shru', 'waqia', 'mjhe', 'kahna', 'america', 'europe', 'azma', 'chukay', 'faida', 'mints', 'zyada', 'rapes', '#UttarPradesh', 'Aisa', 'Beta', 'nahee', 'chahiyeh', '90', 'Saal', 'khada', '#ModiGovt1000Days', '#UPElection2017', 'Karnatka', 'order', 'lug', 'padosi', 'dikhaie', 'jaha', 'What', 'hell!!', 'Roz', 'start', 'Insan', 'bhediye', 'bhare', 'pade', 'daalo', 'saalo', 'ko..', 'dikhe', 'thok', 'vase', 'chalane', 'zarurat', 'two', 'days', 'ended', 'mutilated', 'body', 'victim.', 'isse', 'bhi_to', 'rani_padmini', 'k_upar', 'movie', 'bni', 'thi...us_par', 'vivad', 'hua..isi', 'mv', 'm..pehle', 'saal', 'ldki', 'sena', 'kare....', 'freedom', 'speech', 'dedi', 'gundagardi', 'utar', 'aaye...aag', 'lga', 'denge', 'tht', 'ol', 'bullst', 'F**k!!!', 'Again', 'it', 'happened', 'jitna', 'kamine', 'aadami', '(', 'culprit)', 'sudharenge', 'Phir', 'Sena', 'chief', 'gali', 'gunda', 'bola', 'kis', 'muh', 'army', 'day', 'wish', 'Ho...ye', 'hmari', 'samje', 'jese', 'gadaaro', 'nahi..nahi', 'chaiye', 'jisme', 'zehar', 'bhara', 'zindabad..', 'murdabad', 'Kis', 'channel', 'suicide', 'dikhaya?wo', 'kaun', 'kolkata', 'dosh', 'rel', 'chala,chup', 'hogaye,malda', 'rahe,dadri', 'roye?', 'han', 'tu@hari', 'control', 'nhi_karpari', 'waade', 'kejriwal', 'mahilao', 'suraksha', 'ol...', 'Jaago....govts.', 'jaago....ya', 'citizens', 'hathiyaar', 'uthaaye....', 'paa', 'raha....', 'incompetancy', 'hadd', 'Haal', 'yeh', 'roz', 'NIRBHAYA', 'KAAND', 'Right', 'vaishnodevi', 'fauji', 's', 'mulakat', 'usne', 'kahane', 'sunai', 'kasmir', 'dardniya', 'bataya', 'gharon', 'ghuskar', 'mahilaon', 'reality', 'sharmnaak', '-', 'bachao', 'Lekin', 'rahenge', 'rahengi', 'niklegi', 'padhne', 'khauf', 'se.', 'Implement', 'strongest', 'punish', 'harshest', 'punishment.', 'whatâ\\x80\\x99s', 'this', 'taali', 'aik', 'haath', 'bajti', 'logic?', 'cases', 'hath', 'baj', 'skti', 'yahan', 'Asaram', 'Bapu', 'khilaf', '1bhi', 'aarop', 'saabit', 'huva,', 'Medical', 'report', 'Clean', 'molestation.', 'Ashram', 'Sari', 'properties', 'charity', 'trust', 'vo', 'Legal', '&', 'Audited', 'vedio', 'dekhne', 'pahle', 'anuj', 'loya', 'press', 'conference', 'lete', 'besharam', 'tujhe', 'pakistan', 'bohot', '/assault', 'rates', 'US', 'main,', 'wese', '/', 'adha', 'waqt', 'molest', 'hain,', 'shohor', 'marital', 'cheezein', 'aksar', 'something', 'joke', 'around...aurtai', 'please', 'khuda', 'karlo', 'galat', 'Islamic', 'q', 'Wahan', 'terrorists', 'bachcho', '2-4', 'fayde', 'ginva', 'jinse', 'gareebon', 'lagkr', 'alawa', 'salo', 'procedure', 'guruji', '@RoflGandhi_', 'hai??', '@msisodia', '@ArvindKejriwal', 'thik', 'nd', '10k', 'apke', '90%', 'eve', 'teaseing', 'khas', 'joki', 'bangladesh', 'illegally', 'Bachoo', 'sikhana', 'sez', 'education', 'seekhana', 'baiti', 'koe', 'teereka', 'doodhna', 'tarf', 'ana.', 'Great', 'showwe', 'doing', 'childrens.', 'verdict', 'deke', 'upakar', 'diya??', '(without', 'all', 'due', 'respect)', 'cheez', 'ankho', 'mukarne', 'gujaish', 'Fir', 'Kasab', 'sunane', 'Ratn', 'dede?', 'Is   ', 'hain,But', 'thappadd', 'Yakub', 'Menon', 'bole', 'aap.', 'Its', 'fine', 'moron', 'Hindus', 'll', 'understand.', 'Nhi', 'zainab', 'wonder', 'awaaz', 'uthae!!', 'sala', 'trend', 'peeche', 'jayenge', '#JusticeForAllChildren', '@Pappu', '@Maya', '@Kejri', 'pareshani', 'NAHI', 'Hoti', 'Kaise', 'Fake', 'currency', 'curroption', 'ilaj', 'teeke', '#AgarModiJiDoctorHote', 'Yahan', 'festival', 'manane', 'khusi', 'kahin', 'matam', 'Har', 'bachion', 'ish', 'esha', 'honna', 'band', 'jaye', 'Keya', 'app', 'jharkhand', 'asram', 'pundit', 'Education', 'Unho', 'Police', 'complain', 'keya', 'teacher', 'sadhu', 'unka', 'ta', 'dhandha', 'Dressing', 'kerti', 'tou', 'humari', 'industry', 'aj', 'chuka', 'Bhai', 'Tu', 'ab,', 'tension', 'Tension', 'jiska', 'gurgaon', 'Proud', 'Maryam', 'Safdar', 'Tumari', 'PMLN', 'Goverment', '250', 'howa', 'gaya.', 'Kahan', 'Corrupt', 'Security', 'pa.', 'True,shakal', 'milti,drama', 'baz', 'ne,PMLN', 'MPA', 'involve', 'pooray', 'pornography', 'mein,100', 'ooper', 'qasoor', 'since', '2015', 'zinda', 'auraton', 'Shame', 'morons..', 'yehi', 'pado', '1.5', 'mnth', 'videsh', '#StatePolls', 'Jitna', 'padmaavti', 'ban', 'utna', '#rape', 'walo', 'khilaaf', '#desh', 'hota..', 'paper', 'rahti', 'he..', '.log', 'naari', 'swabhiman', 'oppose', 'kyo', 'he????????????', 'baar', 'society', 'usko', 'galti', 'ho..', 'kahun', 'aurat', 'dushman', 'tagg', 'wali...kyu', 'victim', 'normal', 'jeene', 'haq', 'nai?', 'These', 'playing', 'divide', 'india...unko', 'nhi...par', 'pura', 'mahabharat', 'kardiye', '#shame', 'Koraput', 'Tha.', 'paya.', 'karliya', 'aaj.', 'dunia', 'Itna', 'dekha,', 'property', 'barbad', 'johar', 'kia', 'waja', 'asia', '98%', 'hotay', 'taluq', 'secularism,', 'liberalism', 'hain?', 'Liberal', 'seculars', 'ratio', 'kiyon', 'sir?', 'bata', 'saktay', 'ap?', 'Shahji,', 'Suraksha', 'taraf', 'Dhyan', 'dijiye.', 'badh', 'Party', 'image', 'YE', 'Kisan', '#IncomeTaxwale', 'BHI', 'notice', 'bhej', 'tang', 'RAHE', '???', '@anjanaomkashyap', 'ashok', 'pandit', 'kah', 'Rajsthan', '..us', 'casting', 'cautch', '@aajtak', '@Karni_Sena', '@UpdeshRana', '@@sardanarohit', '@SureshChavhanke', 'film', 'banned', 'hogya,', 'kisine', 'saalon', 'bad', 'bollywood', 'banayega', 'hero', 'dikhayenge', 'chomu', 'tareef', 'officer', 'TERRITORY', '#FAANSI', 'chahiye.', 'Sansad', 'kaanoon', 'laaiye...Police', 'apne-aap', 'sudhar', 'jaayenge', 'jaayega.', 'Afsoos', 'humey', '6-7', 'murders', 'intezar', 'para', 'isko', 'liye?', 'Sirf', 'shor', 'macha', 'tha?', 'Ya', 'elections', 'sar', 'pe?', 'Lies', 'lies', 'lies,', 'lettig', 'father', 'speak,', 'laughig', 'infront', 'him', 'lehaz', 'karay', 'yay', 'shaqs', 'barabar', 'baitha', 'jiski', 'mara', 'guzrti', 'hogi', 'biti', 'dikhao', 'tarah', 'muslims', 'bhagaya,', 'aurato', 'manu', 'short', 'sahi,', 'btw', \"I'm\", 'also', 'bramhin', '@ashokepandit', 'I', 'have', 'been', 'lately', 'coming', 'across', 'alot', 'fellas', 'who', 'saying', 'KI', 'KASH', 'JESA', 'VIRODH', 'PADAMAVATI', 'KA', 'HO', 'RHA', 'HAI', 'HOTA', 'Kisi', 'Kissi', 'Na', 'milna.', 'badlo', 'khtam', 'jaayenge.', 'Rapeis', 'solve', 'aatankvad', 'San', 'honai', 'Sawal', 'puchna', 'himmat', 'Pahle', 'Ne', 'Beda', 'Garq', 'Kiya', 'Jaitly', 'Ke', '#Budget2017', 'Rahul', 'Baba', 'Barse', 'Kare', ':(', 'huva', 'karane', 'aate', 'paise', 'kamane', 'kissi', 'history', 'ched', 'chad', 'karana', 'bordar', 'solder', 'shahid', 'jinke', 'comment', 'qasur', 'cricket', 'accused', 'samnay', 'Headline', 'Banate', 'Mediawale...', 'woh,', 'railway', 'station', 'maara', 'paralyze', 'under', 'sabse', 'high', 'rates.', 'itni', 'bakwas', 'Rakhi', 'theatre', 'jala', 'inke', 'pairo', 'mehndi', 'hatho', 'kangan', 'aajate', '#riprajput@NavbharatTimes', 'Is', 'neta-', '@KirronKherBJP', 'apradh', 'barawa', 'vomiting', 'kre', 'dur', 'Yes', 'by', 'bt', 'peole.padmavati', 'bde', 'issues', 'awaj', 'uthani', 'uthao.rape', 'strong', 'bnanya', 'taki', 'lnsan', 'phle', 'soche', 'uthao', 'bnd', 'ho.', 'mera', 'bus', 'poochna', 'aapse', 'jama', 'ku', 'still', 'me?', 'Ku', 'bhai?', 'Kabhi', 'marriage,', 'dowry', 'mehnat', 'soldiers', 'Marr', 'Unke', 'Koch', 'ouch', 'Politics', 'dharm', 'bich', 'laye', 'Dena', 'Brahma', 'A', 'small', 'farmer', 'Mahoba', 'matar', '6', 'kilo', 'hun', 'kaaran', 'chunaav', 'batayenge', 'inko', 'kehte', 'innocent', 'boys', 'lagaane', 'sanskaar', 'daughters', 'ko....feminist', 'crime', 'hai....girls', 'aajkal', 'rich', 'handsome', 'love', 'trap', 'fasakar', 'unse', 'nikaal', 'ladka', 'naa', 'deti', 'hai..crime', 'wali', 'beti..', '#BiasedMedia', 'Duniya', 'krna', 'dharne', 'PR', 'bethe', 'mental', 'Padmavat', 'Lia', 'sayad', 'jata......', 'Waiting', 'desperately', 'gia', 'cheezo', 'fight', 'crime,bharoon', 'hatiya,dowry', 'system,crupption,', 'ikathe', 'hokar', 'Film', 'Jati', 'bewaqoofo', 'dekha', 'Dekhi', 'Hero', 'bante', 'h.....', 'SC', 'filmo', 'But', 'issue', 'h..ab', 'isme', 'behas', 'krni', 'Saalo', 'dimag', 'mili', ',child', 'abused', '#isupportpadmaavat', '@RanveerOfficial', '@deepikapadukone', '@shahidkapoor', '#padmaavat', 'Kiran', 'kher', 'keh', 'socha', 'candle', 'nikalne', 'lagi', 'jaanta', '#scam', 'kiska', '#dharm', 'Ban', 'hote?', 'lakho', 'unemployed', 'log..', 'Highway', 'jam', 'Theatre', 'tod', 'aurote', 'raksha', 'chances', 'jayengi?', 'Gadhe', 'waise', 'l.', 'Producer', 'banne', 'chali', 'hain,iske', 'khake', 'isike', 'hotel', 'room', 'chodunga!Whose', 'words', 'dese?', '@SrBachchan', '@vineetjaintimes', '@rashtrapatibhvn', '@arunjaitley', '@sonalkalra', '@smritiirani', '@nandinibhalla', '@priyatanna', '@rajnathsingh', '@rajcheerfull', '#Padmavaat', 'Halla', 'Utna', 'corruption,', 'baki', 'khikaf', 'awaz', 'fayda', 'hoga!', 'ni', 'aayege', 'valentine', 'inki', 'shaan', 'Jitne', 'Tan-Mann', 'padmavati', 'virudh', 'hi..', 'Rape,', 'naxalite', 'activities', 'pak', 'related', 'chejo', 'Virudh', 'aacha', '#KarniSena', 'Milne', 'aana', 'Paise', 'emotionly', 'hun.', 'aajao.', 'mumbai', 'shelter', 'victims', 'project', 'Nirali', 'korodia', 'animal', 'welfare', 'sambhalegi', 'Or', 'kaar', 'lo...', 'majority', 'Baacho', 'kark', 'Acid', 'dala', 'hai...means', 'Asi', 'asi', 'harqate', 'Isnhan', 'Ruh', 'kaap', 'Logon', 'tujh', 'gawaron', 'Minister', 'review', 'banaya.', 'Ram', 'Rahim', 'chat', 'liye.', 'pratidin', 'le.', 'scam', 'Isse', 'sakta', 'violence', 'rok.', 'durdasha', 'murkh.', 'Bada', 'Deshbhakti', 'tekhedar', 'Am', 'Rajput', 'Padmaavat.Zaruri', 'Aap', 'Ho', 'Padmaavat', 'karo.Agar', 'Khilaf', 'strongly', 'Kisika', 'Hota.', '#SupportPadmaavat', '@filmpadmaavat', 'deshbhakti', 'sikhao.', 'katil', 'sewing', 'Sergical', 'strike', 'koun', 'suwar', 'mang', 'pahale', 'deshbhaft', 'bano', 'acha', 'rehta', 'masoom', 'rehte', '#ho', 'ladkiya', 'aayngi', 'Padmavati', 'sirf.sarkari', 'nuksaan', 'pahuchao..', 'the.', 'films', 'sex', 'bhari', 'hein', 'sharab', 'prachlan', 'hei.', 'Films', 'rok', 'bandi', 'hei', 'payengi', 'ghat', 'hein.', 'Itlay', 'waali', 'Bar', 'dancer', 'Indian', 'sanskar', 'bar', 'jisne', 'pappu', 'janma', 'sukanya', 'kare,', 'ladies', 'toilet', 'ghuse.', 'shame', '#karan', 'sirr..Kash', 'intna', 'hungama', 'AAJ', 'hogy', 'hota.', 'aawaj', 'ldkio', 'safety', 'dikhate', 'Sach', 'ldkiya', 'grv', 'see', 'khti', 'hm', 'rhne', 'h.!!', 'Bt', 'bacche', 'marte', 'statement', 'jimmedari', 'bhagna', 'kaya', 'ghuinyan', 'chhilne', 'sram', 'aani', 'netau', 'private', 'part', 'banao', 'jane', 'bike', 'wakt', 'achanak', 'meri', 'nazarein', 'un', 'mahaan', 'bhakton', 'dhundhne', 'jinhone', 'Patti', 'bura', 'leader', 'Hai,', 'inlogo', 'ko.', '#UPCM', '#AmitShah', '@samajwadiparty', '@pankhuripathak', '@NareshUttamSP', 'nalayak', 'admi', 'Ashwini', 'chaudhary', 'puchana', 'victams', 'kiya,Bhansali', 'director', 'matlab', 'maara,', 'ne,', 'jalaya', 'ne?', 'Tab', 'kiya.', 'C*******', 'bas', 'dalito', 'Kal', 'State', 'govts', 'dein', 'nikalna', 'warna', 'degi', 'vyavastha', 'bigadne', 'bahana', 'kar?', 'Beheno!', 'humlog', 'Apne', 'haq,', 'career,', 'safety,', 'security', 'ladh', 'nehi', 'paaye', 'female', 'foeticide', 'paaye.', 'muskil', 'chalo', '#Padmaavat', 'release', 'rokte', 'jaan', 'Gaaye', 'Seva', 'kraane', 'hue.', 'jaada', 'beshram,', 'CM,', 'Baar', 'mauka', 'deta', 'sabko,', 'bolne', 'pr,', 'voh', 'ho,', 'Brutal', 'hate', 'these', 'CMs', '#Useless', 'Baajirao', 'mastani', 'diff', 'based', 'their', 'story..Aur', 'itnaa', 'seriously', 'hain..Jo', 'dush', 'karam', 'hotey', 'morcha', 'nikalate??', 'Tumhara', 'kab', 'jii,', 'karwana', 'chahiye,', 'brave.', 'Aage', 'Bado', 'inspiration', 'bano.', 'tune', 'tk', 'tu', 'marwa', 'hai!', 'Pata', 'Ni', 'ka...ek', 'Bawal', 'Gaya....BC', 'Rajasthan', '....tab', 'jate', 'wale....child', 'marriage', 'jyada...tab', 'ghus', 'Gali', 'ischa', '...jab', 'nirbhya', 'soye', 'the...', 'Castinism', 'khaa', 'yarr', 'women', 'samman', 'Vale', 'itihas', 'bate', 'present', 'hoo...', 'Non', 'sense', 'blame', 'Modi.', 'Doklam', 'Modi,', 'solved', 'incidents', 'SANDHU', 'chaalu', 'help', 'dekhana', 'e', 'lazy', 'banaata', 'hai.ek', 'dusre', 'karega', '15saal', 'lalu', 'jungleraaj', 'wale...khud', 'Nautanki', 'Bihar', 'kayam', 'diya...Mahajungleraaj', 'rah', 'ahi..murder', 'sum', 'light', 'common', 'now!!its', 'called', 'vikas', 'rahega', 'bhul', 'Pappu', 'Corruption', 'job,', 'kha', 'terrorist', 'vale', 'Aare', 'Maam', 'serial', 'kaand', 'kyon', 'karti.', 'Yahi', 'states', 'saans', 'deti.', 'Why', 'silent.', 'am', 'quite', 'disappointed', 'O', 'schoolgirl', 'kiya?', 'U.P.', 'Dalit', 'bach', 'gaye.', 'paralyzed', 'Dalits', \"don't\", 'muslims.', 'They', 'hindus', '@kamaalrkhan', 'Shahrukh', 'Khan', 'insan', 'mout', 'hogyi', '150', 'gwa', 'zimmedar', 'Kon', '??????', 'kaunga', 'darty', 'Padmavathi', 'halat', 'hothi.', 'slogens', 'hume', 'naya', 'hoga..', 'honestly', 'happiest', 'person', 'hear', 'change', 'bade..ab', 'samjh', 'khel', 'kursi', 'hayen', 'bhaad', 'Bcz', 'NirbhayaKand', 'thi,', 'bahot', 'hogye', 'human?', 'chhote', 'gaon', 'vahan', 'camera', 'aata.', '2/2', 'Nd', 'One', 'more', 'thing', 'haqq', 'pseudo', 'intellectual', 'inntolarance,', 'murder,', 'Kyun', 'yaad', 'lagav', 'road', 'the?', '1/2', 'Everybody', 'ignores', 'such', 'cases.', 'Par', 'aansu', 'bahaenge,', 'dekho.', 'Yeduurappa', 'honest,', 'Shah', 'Mopalwar', 'Prakash', 'Mehta', 'Raja', 'hua,', 'Raha', 'Aapko', 'naitikta', 'bhakti', 'baatein', 'sir.', 'gyan', 'gyani', 'diya.', 'horahe', 'lecture', 'dedijiye', 'bheno', 'hogua', 'tamam', 'chahte', 'trah', 'bhadr', 'bnaye', 'bank', 'aap,', 'Fate', 'kurte', 'babu', 'kidhar', 'Sad', 'nationa', 'rather', 'than', 'Sanskriti...', 'kyouki', 'Sanskriti', 'karegi', 'woman', 'persecution', 'uthate', 'uthae,', 'du', 'kidnaper', 'khilji', 'Bhrasht', 'mansik', 'shareerik', 'jara', '#BogusCaseOnBapuji', 'Acha', 'economy', 'side', 'Rakh', 'dekhe', 'Ha', 'pahele', 'tumhe', 'jakhmari', 'bithaya', 'chalta', '2019', 'tumhari', 'tay', 'he....', 'hind', 'madam', 'salon', 'fund', 'badnam', 'ho?', 'Sharm', 'ati?', 'Maafi', 'mango', \"Manumental'\", 'abe', 'kalwe?', 'English', \"monumental'\", 'be?', 'chacha', '@AnupamPkher', 'aunty?', 'Sikandar', 'sikhaya', 'Chi', 'chi', 'fail', 'garibo', 'uthana', 'inhe', 'Pls', 'Awaz', 'K', 'uthayo....', 'khilaf.?', 'uthayo...', 'Rituals', 'ghoomar', 'gane', 'waist', 'dhakkar', 'dikhana', 'ho.?', 'Saree', 'dress', 'kayi', 'years', 'pehente', 'Usme', 'dikhti', 'Madam', 'article', 'padhkar', 'hasi', 'ho....', 'farzi', 'lac', 'jumla', '#Achhedin', 'Hadi', '#demonitisation', 'awara', '#GDP', 'down', 'error', 'chai', 'pokoda', 'Vikas', 'Aug', 'BC', '$&#&k', 'International', 'leval', 'wah', 'national', 'bharastachar', 'dhayaan', 'sakhat', 'dwara', 'karwai', 'faansi..', 'karoge??2', 'bail??', 'konsa', 'hai?Rape', 'age', '2saal', 'bail..??', 'penis', 'kaat', 'BAss@cmohry', 'Great!!!', 'lady', 'jarurat', 'hakk', 'jauhar', 'Kare...', 'Gov', 'jarur', 'hamre', 'sunega...', 'relation?', 'punishment', 'chaiye.', 'Jinki', 'pucho.', 'baap', 'samjho', 'medal', 'jeet', 'khushi', 'beta', 'jaakar', 'kya???', 'jahaan', 'achi', 'sabki', 'maane', 'jaate', 'chunav', 'tayyari', 'vapas', 'negative', 'base', 'pe,', 'Punjab', 'drugs', 'Raajneeti', 'kyunki', 'jaanch', 'molestation', 'hojai...', 'hahahaha', 'banaye', 'kare', 'rapiest', 'sidha', 'phhasi', 'hamdardi', 'â\\x80\\x9cMera', 'Satvir', 'Singh', 'mahine', 'auto', 'chalata', 'hu..', 'tabkyun', 'karni_sena', 'nari', 'shakti', 'nhi_aata', 'hazaro', 'mahillae', 'rajasthan', 'harasment', 'sikhar', 'hori_h', 'apna', 'gussa', 'dikhao_to', 'milegi', '@cmohry', ',uska', 'umar', 'dena.', 'sabhi', 'nirnay', '.Jab', 'marz', 'medicine', 'chaahiye', 'Vaise', 'media', 'maamle', 'saamne', 'kisne', 'ganda', 'nikalo', 'Hamare', 'culture', 'janane', 'deshbhakt', 'poverty', 'reservation', 'vichar', 'Shayad', 'pehla', 'chapter', 'khul', 'Idhar', 'boHut', 'halla', 'normalized', 'hogya', 'kamse', 'caeses', 'milte', 'Yakeen', 'maniye', 'kamar', 'dhakne', 'izzat', 'khrb', 'tumhara', 'payari', 'place', 'chaku', 'markar', 'karde', 'ahinsa', 'mukhota', 'pahankar', 'oose', 'samjao', 'bato', 'raste', 'chalkar', 'payar', 'samjaoge', 'kisiko', 'nakare', '????', 'NaMo', 'Mitron', 'bje', 'tejaswi', 'â\\x82¹', '1000', ')', 'tejP', '500', 'valid', '#NitishGharWapsi', 'Dekhiye', 'Feku', 'barbaad', '15m', 'jobs', 'khatm', 'huey', 'chowraha', 'wada', 'dhare', 'take', 'much', 'pain', 'studying', 'CA', 'assholes', 'Nakli', 'Saale', 'puncture', 'banake', 'kom', 'katl', 'burqe', 'kaid', 'bakriyon', 'sure', 'chillane', 'solid', 'argument', 'jinko', 'jisko', 'hta', 'Yezidi', 'poori', 'duniya', 'bataiye', 'powrful', '3saal', 'bacchiyo', 'ranveer', 'singh', 'bikni', 'seen', 'dikhne', 'uthata', 'maje', 'dekhte', 'padmavti', 'Jaan', 'maal', 'Hani', 'phuchne', 'khule', 'Aam', 'dhmki', 'chahe', 'divar', 'khadi', 'Karen', 'Jai', 'Hind', 'Karni', 'Can', \"'t\", 'own', 'from', 'bachane', 'Itihaas', 'rach', 'Wah', '#NewIndia', 'limit', 'sabit', 'survive', 'gayin', 'amit', 'rahul', 'lenge', 'dono', '#mannkibaat', 'survivor', 'expect', 'share', 'kariye', 'abadi', 'Crime', 'unemployment', 'karan', 'badti', 'student', '2.1', '3.12', 'krega', '#BJPHataoBetiBachao', 'apse', 'sehmat', 'bhavnaon', 'awashyak', 'Goa', 'Beach', 'Videsh', 'jaoge', 'Sare', 'chain', 'smoker', 'kai', 'ghanton', 'Smoking', 'Zone', 'V', 'need', 'administration', 'uthane', 'samaaj', 'disha', 'rakhna', 'molestor', 'chuni', 'paath', 'mante', 'prachar', 'karein', 'Baap', 'seedhe', 'bete', 'harami', 'voter', 'puchkar', 'aadikaalon', 'Jaise', 'jansankhya', 'badhti', 'ghatnayein', 'RK', 'Saini', '#Haryana', '10', 'RAJPUT', 'nikle', 'Women', 'gorakpur', 'children', 'death', 'adityanath', 'ujad', 'zaraa', 'parents', 'poochho', 'gau', 'hostel', 'padmaavat', 'aayi', 'napunsak', 'governance', 'narazgi', 'asp', 'jaogey', 'Kaahe', 'balidan', 'aiyaary', 'clash', 'bhagoda', 'akshay', 'kumar', 'Padman', 'jaata', 'holiday', 'darr', 'bhagta', 'Log', 'Jante', 'Blue', 'Whale', 'Game', 'Pehla', 'Task', 'antaryami', 'nikli', 'bta', 'kaladhan', 'kb', 'employment', 'aatmhatya', 'hongi', 'inquilaab', 'jindabad', 'sexy', 'photo', 'upload', 'likhegi', 'pyar', 'vardate', 'badhengi', 'khayal', 'kass', '@HMOIndia', 'cows', 'maang', 'Kyunki', 'rajyon', 'movies', 'crimes', 'evidence', 'tamper', 'rls', 'karwaa', 'chng', 'jayegi', 'sarhad', 'jawan', 'marta', 'roko', 'een', 'Netikta', 'istifa', 'mangne', 'beef', 'musalmano', 'maharashter', 'mp', 'natikta', 'resign', 'MLA', 'haan', 'sandip', 'lene', 'consensual', 'difference', 'nikal', 'nihalchand', 'barkarar', 'Shri', 'krishna', '16108', 'Shadi', 'Krishna', 'Rangoli', 'mana', 'Nahate', 'Woman', 'chhup', 'dekhna', 'Nude', 'Sath', 'manana', 'Gareebo', 'Asli', 'Face', '.....', 'Religion', 'study', 'kro', 'humara', 'World', 'capital', 'Hua', 'iski', 'chinta', 'rrahe', ',,,', 'PATA', 'IS', 'COUNTRY', 'KE', 'LOGO', 'SOCH', 'DEEVAR', 'SEE', 'PARDA', 'KAB', 'UTHEGA', 'Masla', 'janab', 'approach', 'mentality', 'masla', 'bachoun', 'karnay', 'waalay', 'Janab', 'isi', 'hissa', 'normalize', 'Chuka', '#Pakistan', '#Pedophilia', 'Jawan', 'lie', 'sahid', 'tarif', 'polticians', 'area', 'betio', 'Think', 'Horaha', 'Jahaan', 'Target', 'killing', 'Khatam', 'Hogayi', 'humare', 'gaurav', 'aaghat', 'uttar', 'milna', 'childrape', 'chetna', 'phansi', 'pariwaron', 'samajik', 'bahiskar', 'aparadhon', 'justification', 'look', 'at', 'honoured', 'questioning', 'how', 'stop', 'satta', 'shand', 'daat', 'dikhata', 'besharm', 'poochta', '@ddnews', '@ZeeNews', '#ModionZee', '#shameonindianleaders', 'develop', 'Uss', 'country', 'ladhkiyon', 'Khula', 'Ghumta', 'rakhti', \"'\", 'Bacho', 'naare', 'lgati', 'Kehne', 'waalon', 'machaya', 'jitney', 'dande', 'bajaye', 'machado', 'aabhar', 'Thank', 'bachchi', 'dilli', 'gunehgaar', 'unsafe', \"'s\", 'data', 'proves', 'netao', 'Bhrashtachar', 'income', 'li', 'Anyone', 'remembers', 'using', 'atyachaar', 'abki', '#ModiOnZee', 'dadaji', 'Lavanya', 'dehradun', 'old', 'Dadaji', 'chor', 'baare', 'janti', 'what', 'gande', 'Bhut', 'Ajeeb', '14%', 'Ghraph', 'Majority', 'equivalent', 'Kashmir', 'violent', 'protests', 'Vo', 'vaalon', 'padni', 'Mari', 'bhavnaye', 'hurt', 'bachchiyon', 'rajputon', 'fark', 'R/S', 'P.M.IP', 'mn', 'suggestion', 'mangte', 'lijiye', 'shanubhuti', 'dauran', 'zada', 'Unme', 'Dusro', 'hotta', 'mr', 'gandhi', 'batao', '60saal', 'youth', 'barbaadi', 'zimmevaar', 'bakht', 'ignore', 'Ma', \"'am\", 'sabkuch', '#BiggBoss11', 'winner', 'controversy', 'inn', 'sbhi', '#BB11winner', 'Please', 'reply', '1984', 'Sikho', 'Katleyam', 'Assets', 'Loot', '1990', 'Kasmiri', 'Pandito', 'apnahi', 'refujee', 'bankar', 'rahna', 'jinda', 'rahne', 'bahno', 'beshya', 'brittie', 'Aj', 'rohingaiko', 'basane', 'busy', 'khoon', 'badla', 'Main', 'whole', 'level', 'kami', 'padha', 'likhna', 'rokenge', '#IncredibleIndia', '#DeepikaPadukone', '#RanveerSingh', '#ShahidKapoor', '#SupremeCourt', '@timesofindia', 'Achanak', 'sochna', 'Chale', 'Hota', 'Moh', 'Utha', 'agents', 'maha', 'murkh', 'non', 'aandh', 'nakaamyabi', 'chupane', 'HinduMuslim', 'badal', 'ghatak', 'haÃ¯,', 'criminals', 'hosla', 'bhad', 'an', 'expl', '#PadmaavatWins', 'faltu', 'jise', 'banaya', 'Itne', '#Rape', '#TerroristActivity', '#Corruption', 'behatreen', 'badolat', 'hats', 'off', 'parhao', 'now', 'said', 'parkaro', 'haatiya', 'brake', 'kanun', 'banane', 'jaruri', 'imandaari', 'lagu', 'pardarshi', 'insaf', '#ISupportAkhilesh_Allahabad', '@anil100y', 'hoa', 'sunder', 'Damini', 'sabkl', 'mila', 'Bus', 'musalman', 'ghum', 'ladte', 'itniiii', 'C*yapa', 'late', 'Kaha', 'believes', 'Hon.', 'Supreme', 'Court', 'jahaa', 'bawaal', '#panipat', '#Vaah', 'Thats', 'we', 'â\\x80\\x99re', 'making', 'great', '#Hariyaana', 'Me', 'Din', 'Rahe', 'Iss', 'Kalpanik', 'Karne', 'Lagi', 'Hui', 'bhaduron', 'bohut', 'bacchiyon', 'berehmi', 'Diya', 'pls', '#Rajputi', 'udhar', 'dikhaao', 'fictious', 'kataane', 'better', '@TimesNow', 'N', 'payi', 'Bss', 'padmavat', 'roye', 'Jaa', 'rank', 'rd', 'focus', 'dakaiti', 'pradesh', 'hindutv', 'agenda', 'lekr', 'mahaul', 'khrab', 'atankwadi', 'sanghatan', 'milkr', 'haa', 'kh', 'skte', 'nfrat', 'failne', 'graph', 'bhdotri', '*', 'Unstoppable', 'dikhaenge', 'government', 'khalega', 'Bhansali', 'Khoon', 'Khaulate', 'TRP', 'Badhate', 'Mudi', 'bachate', 'Rahi', 'troll', 'advise', 'courts', 'Tune', 'gaaliya', 'nikali', 'shaant', 'rehna', 'Logo', 'maa-behen', 'gaaliyan', 'dhamkiya', 'Encounter', 'virodhiyo', 'hae', 'Warna', '200', '%', 'vishesh', 'parjati', 'khuleaam', 'aor', 'Hatyaye', 'Esi', 'fod', 'bolte', 'dosiyon', 'pakdwao', 'dhang', 'Padmawat', 'kese', 'neend', 'uda', 'sucide', 'fraud', 'udate', 'sal', 'kisko', 'believe', 'best', 'Ankh', 'Hath', 'Paon', 'Wala', 'kat', 'engrave', 'Hahaha', 'bikaau', 'News', 'last', 'dikhayi', 'karaane', 'simit', 'rup', 'dhire', 'expensive', 'sik', 'kharuch', 'medical', 'adhar', 'bapu', 'jaldi', 'nayaymile', 'hariom', 'stand', 'delhi', 'ustime', 'ate', 'uni', 'Bhagwaan', 'Berojgari', 'Health', 'department', 'health', 'zor', '#triple', '#tlaq', '#Qannon', '#ASHRAM', 'Badnaam', '#Betiya', 'aabro', 'Jinka', '#zameer', '#Angrezo', 'kharida', '#Satta', '#Gaarima', 'samjhege', 'Harr', 'Shambhulaal', 'niklega', 'Virat', 'So', 'think', 'Hinduism', 'Raping', 'ones', 'sister', 'Killing', 'human', 'TRUE', 'sanathan', 'dharma', 'bachche', 'bacchon', 'saram', 'bilkul', 'aad', 'karvana', 'dogle', 'insaano', 'care', 'anyways', 'agla', 'oped', 'likh', 'Swarajya', 'Badte', '#misplacedAttention', 'Lanat', 'polititians', 'betion', 'kuttay', 'karain', 'chalay', 'mazloom', 'takleeef', 'employees', 'vyapariyon', 'behave', '#pls', 'takleef', 'kamaal', 'jahn', 'encounter', 'Namard', 'Finale', 'episode', 'hina', 'kiss', 'desperate', 'priyank', 'pakad', 'bathroom', 'masturbate', 'baarein', 'reporting', 'shaayad', 'nyaay', 'jaayein', 'Mata', 'asharam', 'aake', 'teri', 'dallo', 'Says', 'tenure', 'Aurtun', 'chairs', 'khaali', 'then', 'Q', 'Munh', 'Golian', 'mari', 'hy', 'guts', 'Neta', 'NGO', '@KumarIve', '#hajam', '#modiji', 'ney', 'lakar', '#Antibited', 'tablet', 'aagai', 'dhekhlo', 'wtsaap', '50', 'dino', 'fair', 'lovely', 'Gori', 'Jaati', 'gadi', 'cow', 'phain', 'chalti', 'car', 'sachai', 'sabhyata', 'viksit', 'tv', 'khol', '@MinaxhiSeshadri', 'Kahi', 'Masoom', 'kamzor', 'darinda', 'Us', 'dus', 'ladkiyan', 'cheer', 'phadd', 'zulm', 'sunchega', 'Sharam', 'milti', 'mulk', 'puchta', 'bacchi', 'Asked', 'foreign', 'emplyee', 'qatar', 'milne', 'he,mehngayi', 'bandh', 'bhatka', '@News18India', '@awasthis', 'Itni', 'kroorta', 'hai.kya', 'harek', 'larki', 'hours', 'possible', 'hai?mat', 'bhoolo', 'hai.jo', 'bachhion', 'amaanwiya', 'kritya', 'humanright', 'banda', 'months', 'bahir', 'feel', 'kry', 'tumhary', 'usy', 'gareeb', 'bhookha', 'mary', 'parta', 'min', 'bak', 'pa', 'yaqeen', 'lety', 'afsos', 'Momad', 'baachi', 'tera', 'prophet', 'Tumhare', 'masjidoo', 'todne', 'burayi', 'People', 'should', 'ham', 'rights', 'liberal', 'raheti', 'karate', 'actually', 'sariyat', 'rote', 'jaagi', 'dead', 'maange', 'protestors', 'PTI', 'tanqeed', 'khatra', 'Z+', '#BabaRamdev', '#AmarSingh', 'conection', 'shamed', 'statment', 'ADGP', 'jago', 'kumbhkarni', 'nind', '@cmo', '@amitshah', '#ashamed', 'Deepak', 'ji,', '2006', 'ameithi', 'discuss', 'IG', 'DIJ', 'SP', 'dissmiss', 'karvai', 'chahie', 'hin', 'jimmevar', 'Lol', 'theh', 'politicise', '10-20', 'LPG', 'cylinder', 'dharna', '300', '700', 'Leader', 'rahene', 'masjido', 'giraya', 'vaha', 'Yahudi', 'showkh', 'sadi', 'mehi', 'marvaya', 'unbelievable', 'Bachon', 'chorra', 'nay', 'Justice', 'dumb', 'ass', 'purani', 'balatkaar', 'word', 'scene', 'dikhega', 'saaf', 'bolugi', 'hash', 'jimewar', 'lift', 'bahane', 'huya', 'leti', 'andhi', 'nashila', 'chiz', 'khila', 'ladko', 'khane', 'jatley', 'pucho', 'same', 'mujhe ', '#SuryaDeva', 'jinki', 'vision', 'leadership', 'roshni', '#KrantikariIndia', 'politicians', 'puch', 'aabhiyan', 'chl', 'worse', 'pta', 'mishra', 'pande', 'comlpend', 'mere', 'ata', 'bhaiyo', 'turant', 'yahi', 'tarika', 'sistem', '@NarayaniMahil', 'hatse', 'huae', 'shooting', 'bomb', 'pahkna', 'buildings', 'Buildings', 'jal', 'etc', 'Contd', 'game', '26', 'Jan', 'program', 'Harayana', 'jhankiyo', 'prakar', 'jhakiya', 'shameel', 'Meanwhile', 'acceleratin', 'sudharne', 'mamuli', 'Sex', 'Kab', 'krri', 'paesa', 'khaya', 'Kensi', 'heroine', 'students', 'week', '#remove60', '@ravishndtv', '@dibang', 'Rule', 'bnane', 'mtlb', 'todte', 'samjhana', 'padega', 'baithega', 'Adat', 'teasing', 'policy', 'bh', 'rkhte', 'Dehle', 'Baad', 'Lekar', 'Banaye', 'Gaye', 'Ketne', 'Waek', 'Uski', 'Pol', 'Khol', '.................', 'Govt', 'Central', 'baith', 'tyaar', 'Strict', 'Human', 'dhajjiya', '#4Days8RapesInHaryana', 'bhayion', 'publicity', '#DontKillPadmavati', '#supportPadmaavat', 'mahakaal', ',Now', \"it's\", 'wake', 'abuse', 'tek', 'chalga', 'fin', '7-8', 'bachhi', '#kya', '??', '#', 'Atyachryon', 'atyachar', 'Piecelam', 'atankvad', 'destroy', 'other', 'religious', 'palces', 'god', 'godess', 'Unka', 'religion', 'piecelam', 'purana', 'story', 'end', 'faridabad', 'market', 'mall', 'itnee', 'bheed', 'thee', 'khoob', 'spending', 'kash', 'paate', 'leker', 'hangama', 'raani', 'Waha', 'jaaker', 'bachhate', 'samjhte', 'raajput', 'Humare', 'nange', 'sant', 'batade', 'bharat', 'jain', 'naampe', 'tumare', 'diniya', 'jinendra', 'colleges', 'AMU', 'Jamia', 'Millia', 'liy', 'tough', 'bannaiy', 'Hy', 'ese', 'es', 'kariy', 'imandar', 'Ghumte', 'raho', 'bchao', 'bhadao', 'socho', 'gy', 'Kush', 'andaza', 'ghumne', '#justiceforgirls', 'Haryanvi', 'Womanizers', ',,', 'Karenge', 'Saab', 'Bade', 'Rangeen', 'Mizaz', 'Maamle', 'lgta', 'concerned', 'kasam', 'kasoor', 'bacha', 'campaign', 'Fr', 'leaders', 'FEEL', 'SHAMED', 'OF', 'BIENG', 'AN', 'INDIAN', 'mard', 'karty', 'ghalat', 'aurtain', 'karvati', 'touch', 'every1', 'knows', 'majhab', 'caste', 'tucche', 'khabar', 'chapne', 'patrkar', 'mazak', 'banate', 'uthai', 'giro', 'Shoot', 'out', 'robbery', '@DelhiPolice', '@sudhirchaudhary', 'black', 'listed', 'babao', 'list', 'madarse', 'aashram', 'behno', 'rozgar', 'crisis', 'haqiat', 'door', 'bhagti', 'bhar', 'hyue', '14th', 'jhoothe', 'Kyuki', '@priyankac19', 'panchkula', 'jeend', 'inme', 'ispe', 'karwayega', 'putle', 'fookega', 'big', 'samjha', '#SurgicalStrike', 'sabut', '#JNU', 'bhakt', '#republicday', 'celebrate', 'azaadi', '!!!', '#Demonetisation', '#VikasGoneCrazy', '#ModiRafaleScam', '@Mohit_JNU', '@Shehla_Rashid', '@UmarKhalidJNU', '@kanhaiyajnusu', 'maza', 'Student', '#AMU', 'Those', 'trolls', 'supporting', '#ZairaWasim', 'passion', 'saat', '#najeeb', 'batado', 'paap', 'dhuljaingay', '#jnu', 'separetist', 'chamche', 'dedhdrohi', 'dhoodh', 'pilaye', 'Inke', 'phan', 'kuchlne', 'padege', 'online', 'budhdhe', 'propaganda', '3-4', '#DU', 'relative', 'bula', 'samjhaya', 'bolna', 'sahela', 'rasheed', 'antinational', 'batayegi', 'Isko', 'job', 'Company', 'tukde', 'Inshaallah', 'lagayega', 'Pehle', '#IIT', 'entrance', 'marks', 'laa', 'standard', 'kariyo', 'jaahil', 'janaab', 'biscuits', 'baant', 'meah', 'zaroor', 'Reddys', 'jeb', 'daliye', 'Abhi', 'subah', 'mileyga', 'sheela', '#CondomAds', 'samajhte', 'enko', 'Afzal', 'batna', 'enka', 'Gandu', 'Pass', 'Reservation', 'ganja', 'phoonka', 'akkal', 'ayegi', 'jakar', 'Maoist', 'Kanaiya', 'interview', 'moment', 'jankari', 'StonePelters', 'Terrorist', 'burhanwani', 'koshish.', '#BrahMos', 'bithake', 'bhejdo', '#Naional', 'anthem', 'point', 'rkhne', ',,,,,', 'rashtra', 'shi', '#game', 'Gujarat', 'Kamaal', 'JNU', 'dustbin', 'condom', 'dhundh', 'Najeeb', 'rahe.', '#najeebahmed', 'Chill', '#freeloaders', 'job!', 'university', 'yanha', 'wanha', 'nare', 'lagte', 'barbadi', 'key', 'doosrey', 'universities', '#ArmyTanks', 'install', 'karney', 'demand', 'lagey', 'Sochna', 'dour', 'agaye', 'Papa', 'thha', 'Admission', 'kehate', '#DeshVirodhi', 'gharpe', '#JNUSU', 'Kidhar', 'Tukre', 'Haan', 'mee', 'Anti', 'Creatures', 'Shouted', '#BharatTereTukreHunge', 'tuo', 'certificate', 'bantete', '1mint', 'Mita', 'dhamki', 'shaatir', 'Thodi', '#bakchodi', 'kee', 'famous', 'hee', '#reservation', 'She', 'veer', 'Kanhaiya', 'product', 'patak', 'Actualy', 'khtm', 'sidhi', 'sadhi', 'kyahi', 'malya', 'adani', 'doosari', 'anti-national', 'Iske', 'aaka', '@padhalikha', 'chhapa', 'pada', 'DU', 'Haqeeqat', 'aish', 'Jawanon', 'sochi', 'samjhi', 'sajish', 'chalte', 'campus', '#RSS', 'aesa', 'Uncle', 'pachde', 'upaj', 'generation', 'Khub', 'khilaya', 'pilaya', 'mare', 'operation', 'ration', 'card', '#khalistan', 'chanda', 'Communist', 'Ideology', 'conspiracy', 'reputed', 'institutions', 'seperate', 'provoke', 'Ganesh', 'zaroorat', 'nahi..Aapko', '#FTII', 'direct', 'entry', '70-80', 'padho', 'imagine', '#nasbandi', '#GathbandhanWithGhotala', '#SarvaGyani', '#PMji', 'practical', 'difficulty', 'raimashwira', 'sabak', 'treasure', 'museum', 'banega', 'jaroor', 'Have', 'some', 'bulwao', 'barsao', '#Hindulivesmatter', '@Sagatikaghose', '@sardesairajdeep', 'Nidhi', 'Razdan', 'Deshdrohi', '#KulbhushanJadhav', 'faasi', 'inh', '@ndtv', 'bechare', 'your', 'debates', 'cattles', 'nikalte', 'set', 'cigarette', 'daaru', 'jaane', 'next', 'bhaukna', 'thu', 'Gholo', 'zeher', 'gholo', 'sikhate', 'phd', 'Veteran', 'aslo', 'bhajan', 'kirtan', 'birodhi', 'kala', 'safed', 'appko', 'chayee', 'because', 'aaplogon', 'dhan', 'thanks', '#Gujratelections2017', 'jaao', 'naxal', 'den', 'wahaan', 'sabkuchch', 'bikegaa', 'Gamcha', 'angle', 'tihadi', 'mazdoor', 'antinationals', 'GUjarat', 'Aazadi', 'Andolan', 'admission', 'interested', 'pagalkhane', 'anti-', 'National', 'mahan', 'kejari', 'sunte', '#kanahiya', 'cheap', 'Mene', 'Teri', 'dekhi..achi', 'hai..Good', 'work..but', 'name', 'JAVAHARLAL', 'NEHRU', '......', 'kaafee', 'samjhnekeliye', 'Waise,', 'Did', 'any', 'return', 'his/her', '#award', 'him?', '#Bhakt', 'money', 'swiss', 'switzerland', 'Deshvasi', 'chhod', 'cheezon', 'wait', '1)', 'account', 'lakh', '2)', 'Ayodha', 'RamMandir', '#bhagwan', 'padhai', 'khaake', 'chutiyapa', 'Samaj', 'aati,', 'anti-Indians', 'Rubbish', '#Presstitutes', '#SonuNigam', 'kya.', 'FOS', 'copyright', 'logonke', 'kya..', 'producing', 'ISIS', 'terror', '.Wow', '#Najeeb', 'usike', 'Just', 'thing:', '#TripleTalaq', '#RamMandir', '#congress', '#KapilSibal', 'andho', 'paksh', 'dalil', 'abhivyakti', 'Azadi', '@sonunigam', 'azadi', 'uthya', 'becoming', 'secular', 'y?', 'where', 'were', 'when', 'Virodhi', 'lagg', 'me.', 'feke', 'Jawano', 'par.', 'dhyan', 'j&k', 'h..chahe', 'stone', 'pelting', 'hafij', 'burhan', 'mamla..fir', 'badtar!', '#Kashmir', '#stonepelter', '#LOGON', 'kahunga', 'bcoz', 'gayae', '125', 'crore', 'population', 'liyae', 'khush', 'dikkt', 'hi..bt', '#jazbe', '#backward', '..SHUKR', 'H', '#GADDAR', 'BAN', 'KAR', 'BAHAR', 'NIKALTE', 'Parody', 'ac', 'ginti', 'bachaye', 'Arrey', 'muft', 'subsidised', 'Tabhi', '40', 'buddhe', 'ghoday', 'May', 'Arnab', 'thinking', 'thaa', 'kya,', 'karlete', 'saala', 'my', 'kispe', '@Pun_Starr', 'Tank', 'Puri', 'Army', 'kardi', 'ise', 'kahte', 'sunaar', 'lauhar', 'ki..', ':)', \"Ma'am\", 'subject', '#Masters', '#Phd', '29', 'Jnu', 'dekhkar', 'Teachers', 'jihadi', 'dekhke', 'yar.', '35', 'rho', 'kabhe', '#allthebest', 'confusion', 'ginavaya', 'clear', '#modi', 'paye.', 'confuse', 'Demonisation', 'hogaye', 'people', 'jod', 'grow', 'Gods', '@PiyushGoyalOffc', 'institute', 'padi', ',ab', 'gae...', 'Wish', 'slogans', 'vande', 'mataram', '#YogiAdityanath', 'phele', 'interfere', 'bandhe', '!!!!', 'Cowards', 'suicide.', 'Colleges', 'prdarshan,', 'marpeet,', 'naarebaazi', 'pdaaai', 'scope', 'aajkal.', '@WoCharLog', 'this.', 'Maza', 'University', 'padne', 'karne?', 'rajnneti', 'sinha', 'taan', 'Victim', '@swatrisha', 'peace', 'chakkar', '@itsSSR', '#duplicate', 'note', '#blackmoney', 'about', '100', 'mandali', '#FreedomofExpression', 'majaq', 'lagaye', 'naye', 'poster', 'brigade', '#FreedomofSpeech', 'bardast', 'chahiye?', '#JaatAarakshan', 'Jaat', 'bhaiyon', '20%', 'Aarakshan', 'three', 'forever', 'result', '#Ramjas', 'santi', 'gyi....bechare', 'tumne', 'Pathological', 'liar', '#AfzalPremiGang', '#VoteBank', 'rajniti', '#ShokShabha', 'attend', 'pahuchate', 'nahi.....!', 'fest', 'lage.', 'mill', 'Kya.', '@narendramodi_in', 'Notebandi', 'fyada', 'ghaata', 'girayenge.....', 'canteen', 'udhaari', '#mustwatch', 'Super', 'duper', 'flop', 'jignya', 'Jane', 'Lena', 'aag', 'buzane', 'he?', 'Red', 'lighting', 'tovnhi', '#JigneshFlopShow', 'Bistar', 'apana', 'bewkoof', 'payega', 'bay', 'dramebaaz', 'work', 'netagiri', 'professor', 'pattharbaji', 'laat', '#MannKiBaat', 'trf', 'jaega', 'dirohio', 'toli', 'dikhegi', 'chhodoge', 'hahaha', 'ccriminals', 'doodh', 'dhula', 'yah', 'EVMS', 'anti', 'nationals', 'vajah', 'murga', 'daru', 'chalegi', 'vijay', 'divas', '#NarendraModi', 'finish', 'them', 'kewal', 'chalega', 'Shah-Zade', 'Rupees', 'company', 'shuru', 'invoice', 'payments', '81', 'Crore', 'turn', 'close', 'Dallo', 'gala', 'phar', '#BHU', '#UnSafeBHU', 'Laal', 'chadhdhi', 'gate', 'Di', 'union', 'bujurg', 'For', 'once', '@KailashOnline', 'statement,', 'Good', 'riddance', '#ABVP', 'Lagta', 'tank', '#NuclearBomb', 'plant', 'jaayega', 'addmission', 'sochte', '#university', 'things', '#Protest', 'kyonki', 'fat', 'agli', '#antinational', 'activity', 'Kunki', 'bofors', 'lagani', 'jisse', 'nehru', 'poot', 'muzaira', 'Then', 'jawahar', 'lal', '40+', 'pahdne', 'Chacha', 'chachiji', '#Jnu', 'rahem', 'karoo', 'land', 'mines', 'lagni', 'gaddaro', 'pair', 'rakhne', 'fate', '#Radicalthinking', 'p', 'Aftr', 'dis', '#JnU', 'scholars', 'nikale', '#freedomfighters', 'Zaroor', 'nikalenge', '2016', 'Nov', 'notes', '2017', 'saansein', '#DelhiSmog', 'Basss', 'desdroh', 'aaropiyo', 'khade', 'decide', '#doublestandards', 'kanhaiya', 'gurmeher', '---', '@Javedakhtarjadu', '#JolllyLLB', 'riya', 'gunj', 'Mr.', 'LITERATE', 'lafda', 'Muje', '#Delhi', 'War', 'ghosit', 'Dimag', 'CHEMICAL', 'LOCHA', 'U', 'representative', '#Agra', 'Ilaaz', 'Karayen', 'banke', 'dikhavo', '#antinationals', '#AzadiBrigade', 'rats', 'r', 'patriot', 'Khuda', 'Jana', '@vinod_sharma', '@tuzasanju', 'Mr', 'udyogpatio', 'majak', '#AntiNationalist', 'sahara', 'jabran', 'hoshiyari', 'jhadne', 'politician', 'dubenge', '#janhitmejari', '#Ramjasclash', 'drama', 'aarhe', 'charsi', 'gaanja', 'lagenge', '@ANTI-National', '@DU', '@GovtOfIndia_', 'jald', 'kesi', 'virodhi', 'Comrade', 'bahar', 'nikalta', '#AzaadiDebate', '#AISA', 'Image', 'Shit', 'When', 'ru', 'finishing', 'degree', 'rotiyan', 'todega', 'chargesheet', 'combined', 'judgement', 'hairani', 'judge', 'sahiba', 'Another', 'shehla', 'chanel', 'pathar', 'kankar', 'badah', 'hoh', 'din-imaandaar', 'career', 'seekers.', 'bhakto', 'bajao', 'kaho', 'sanghi', 'aache', 'anivary', 'naraj', 'gaddar', 'badhai', 'Murdabad', 'kara', 'mature', '#upelections2017', '#Congress', '#BJP', '@RajatSharmaLive', '@TajinderBagga', 'aao', '#lucknow', 'Protest', '#ArvindKejriwal', 'Rona', 'award', 'chehro', 'pariwar', 'karz', '@Being_Humor', 'special', 'force', 'lagaya', '#azadi', 'goonj', 'thay', '#MaithunIsBack', 'bandhu', 'jamaat', 'Should', 'declared', 'New', 'Political', 'School', 'Padhai', 'pagalo', 'bhoke', 'hamaare', '#foreveralone', 'engineers', 'dhund', 'acche', 'din?', 'Sabhi', 'college/university', 'deshdrohi', 'pampered', 'Politicians', 'khichane', 'kadi', 'ninda', '@RashtrapatiBhvn', '#dadri', '#du', 'chuppi', 'jawano', 'mitega', 'pollution', 'too', 'kosis', '#delhipollution', '#delhi', '#delhicm', '#kuchtookarokejri', '#DelhiPollution', 'intention', '#Metro', 'fare', 'hike', 'metro', 'rat', 'hogai,', 'atleast', 'Sar-Kar', 'smabhal', 'rakhna.', '#delhismog', 'rahi?', '@drharshvardhan', 'failure', '#Kumbhakaran', 'humme', 'mille.', 'yatra', 'subh', 'aarmbh', '@AamAadmiParty', 'treasury', 'khali', 'Raghu', 'Ramrajan', 'amantrana', 'gas', 'chembar', 'Hame', 'saantvana', 'jayegi.', '#AAP', 'Kejri', 'bawal', 'sakey', 'bhagwan', 'barish', 'Relief', 'Be', 'prepared', 'Kadakey', 'thand.', ';-)', 'Accha', \"Dhuaon'\", '#2017', 'leejie', 'padegi.', 'Hashtag', 'Question', 'Bass', '#CM', 'ramleela', 'maidaan', 'jashan', 'Sabke', '#Pollution', 'Free', 'Hawa', '#Gurgaon', '#India', '#DelhiMetro', '#pricehike', 'istemaal', 'Iska', 'Jawab', 'Sarkar,', 'phone', 'lijiye!', 'Bohot', 'Some', 'plans', 'calls', 'well!', '#yokejrisoslow', '#delhiAirpollution', 'Swag', 'Smog', 'diye.', 'Kejriwalji', 'logic-', 'wajhe', 'pehele', 'Tha?', 'dramebaaji', 'waah', 'khelo', 'bass..', 'bewakoof', '#smogindelhi', '@ashokshrivasta6', 'Twitter', 'outdoor', 'idhar', '#280charcters', 'gya...', '@capt_amarinder', 'sari', 'baten', 'li....', 'zameen', 'haqiqat', 'samasya', 'nidan', 'karega????', '@KapilMishraAAP', '@DrKumarVishwas', 'retweet', 'CM?', 'gaane', 'kujh', 'rukh', 'weekend', 'khubsoorat', 'Rukh', 'pariyavarn', 'bachao..', '#climatechange', '#cleanair', '#environment', 'haay', 'machane', 'kaali', 'kamai', 'doob', 'Baki', 'blackmoney', 'manayenge', '#Padmavati', 'kamo', 'toh.', 'jabardasti', 'h..', '#padmavatifight', '#PadmavatiControversy', 'Let', '#RahulRoy', 'campaigning', 'Saanson', 'jaroorat', 'zindegi', 'liye..', 'challan', 'Kejriwal', 'baton', 'd', 'jabse', 'badha', 'Khaasi', 'bi', 'nae', 'Rae.', 'Sabki', 'Kejrival', 'sae', 'Mahapurush', 'Suboot.', '#KejriwalChokedDelhi', '#saansbandi', 'Bagwan', 'Hamari', 'authorities', 'Gyan', 'pel', 'shaam', 'cigarettes', 'fook', 'Patakhe', 'bann', 'patakhe', 'phode', '@delhi', 'Garib', 'Carib', 'garib', 'presstitute', 'charhca', 'wahin', 'Kedarnath', 'jinhe', 'diwali', 'manegi', 'khub', 'jalenge', 'Patriotism', 'log....ab', 'jeetenge??', 'OMG', 'lord', 'gya,', 'pant', 'aukat', 'bihar', 'mehsoos', 'DHUAA', 'DIYA', 'X-Mus', 'NewYear', 'hai..Abhi', 'patake', 'do,kya', 'kosna', '#SupremeCourtOfIndia', '#CJI', '#CrackerBan', '#AvoidFoggyNewYearInDelhi', 'Srilankan', 'Bache', 'jiske', 'bhaag', '#INDvSL', 'tradition', 'harmony', 'ncr', 'smog', 'environment', 'minister', 'Mask', 'Srilanka', 'lagye', 'Hanumanji', 'lanka', 'lagayi', '#Virupanti', 'Whenever', 'Mitro', 'bhrastachar', 'safaya', 'digital', 'transaction', 'Inner', 'Dilli', 'boond', 'baarish', 'want', 'breathe', '#Frustration', '#DelhiGasChamber', 'Match', 'Debate', 'Aajtak', '#kejriwal', '#officeofRG', '#cricketmatchdelhismog', '#BJP4Delhi', '#kavitaashok', '#BCCI', 'guests', 'mask', 'pehn', 'Lo', 'sports', 'equipment', 'bikegi', 'tested', 'technology', 'offer', 'kri', 'Delihi', 'kismat', 'footi', 'kre.', 'chahta', '#SmogInDelhi', 'ilaaj', 'results', 'chk', 'waalo', 'shandar', 'solution', 'mukti', 'paane', 'kaa', 'brain', 'bechaare', 'smjh', 'fefde', 'Mathews', '#NehraJi', 'just', 'commentary', '#INDvAUS', '#bright', '#sunlight', 'rahi,', '#future', 'milega.', 'god,', 'KOI', 'MIL', 'GAYA', 'made', '2003', 'Jadu', 'dhup', 'milta', '#pollution.', 'Bahana', 'Kabil', 'rahe!', '@sagarcasm', 'dehli', 'Dikhai', 'dete....', '#smog', 'climate', 'Doshi', 'hai..kuch', 'Car', 'doshi', '#Delhipollution', 'kehne', 'air', 'purifier', 'companies', 'pahuchane', 'modiji', 'Aalam', 'jahir', 'AC', 'rooms', 'rhte', 'lgwa', 'ghr', 'andr', 'bhasanbazi', '#dirtypolitics', 'hookah', 'kiya,', '#dheentDelhi', 'Atakk', 'maine', 'launde', 'Hookah', 'Ring', 'dekha.', 'bajariyon', 'ud', 'thankful', 'waiting', 'Arvind', 'pranaam', 'sir..', 'inner', 'AAPas', 'pe.', 'Fog', 'kissa', 'elected', 'kehti', 'chaal', 'Air', 'Purifier', 'sale', 'badhaane', '#Twitter280Characters', 'Pahele', 'fog', 'bhaiyya', 'ailaan', 'do,', 'laws', 'sakte,', 'bahri', 'dushmano', 'bachaiyenge..?', '@SupremeCourtFan', 'dikat', 'Chal', 'padiye', '@MukeshAmbaniJio', '@gautam_adani', 'businessman', 'bechne', 'yojna', '@deepikapadukone.', '@KareenaKapoorIN', '@RealHistory', 'SMOG', 'dunga', '#DelhiChokes', '#SmogCapital', 'papa', 'katke', 'interest', 'active', 'kya.khud', 'dusro', 'raho.!', 'Soldiers', \"aren't\", 'getting', 'enough', 'Siachen.', 'sakte?', 'DELHI', 'lungs', 'cancer', 'CIGERETE', 'pite', '#Polution', 'Best', 'easily', 'dikhai', 'Centre', 'management', 'grant', 'jaayegi', '#AirPollution', 'Samay', 'chita', 'jalne', 'rokh', 'de.', 'analysis', 'cha', 'sambhog', 'ramrahim', 'asaram', '4-5', 'krlo', 'chla', 'jayega.', '#OddEven', 'then.', 'Kids', 'smoke', 'cigarettes,', 'legends', 'live', 'Delhi;', 'Kamar', 'kaslo', '70', '#FDI', '#UNEMPLOYMENT', '#more', 'IT', 'asan', 'saudi', 'arab', 'Srilanakan', 'players', 'pari', 'declare', 'bhana', '@Atheist_Krishna', '@cricketaakash', 'pehene', 'dekhenge', 'drohi', 'ghoshit', 'denge.', 'Aakhir', 'hawa', 'Sri', 'Lankan', 'Players', 'Se', 'Swagat', 'ne....', '#KingKohli', '..ye', 'shaher', 'dhua', 'dhua..', 'Play', 'interrupted', 'weather', 'pataakhe', '#INDvsSL', '#crackersban', '#wahMeraIndia', 'jeena', 'aayein', 'Mirza', 'Ghalib', 'had', 'said,', 'khayenge', 'Today,', 'say,', 'le?', 'â\\x80\\x9c7', 'purifiersâ\\x80\\x9d', '#AAPKiHawaBaazi', 'fursat', 'mile,', 'hoga,', '2021', '#NautankiBaaz', 'jhelna', 'Seems', '@ashoswai', 'lost', 'balance', 'Bechara', 'Bikhari', 'Gaali', '#DelhiAirQuality', 'Nayi', 'gayi....shame', '...pls', 'jaag', 'toh...Kyu', 'khilwaad', 'ho!!', 'Cabwala', '#Jio', 'missus', 'dila', 'rehti', 'minute', '#SoSad', '##Jio', '##', '#IPL', '#MI', 'users', '#KKR', '#SRK', 'fans', 'dua', '#RCB', 'banks', 'baddua', '#RCBvKKR', 'teaser', 'trailer', '#Youtube', 'Record', 'Sb', 'meharbaani', 'milege', 'Jio', 'reduced', 'speed', 'Airtel', 'afford', 'Internet', 'nashe', 'lat', 'kharch', '#jio', 'shop', 'blak', 'jio', 'becha', 'advance', 'bathe', '@yaduvansheesr', 'Ohhh', 'mehengai', 'jamane', 'capabilities', 'net', 'kidh', 'sudhro', 'behanchod', 'jhooti', 'recharge', 'padte', 'Meethi', 'baate', 'Kyu', '@IamCbf_', 'Ambani', 'pakka', '12:00', 'AM', 'GB', 'gadbad', 'Review', 'units', 'Mila', 'unn', 'valo', 'bulaya', 'relatives', '#Banks', '@MukeshAmbaani', '@JioCare', '@reliancejio', '@TRAI', 'tower', ',,,,', '#JIO', 'irada', 'agreed', 'Also', 'Fail', 'Fault', 'MENE', 'SIM', 'DATE', 'BADVA', 'DI', 'AB', '32', 'DEC', 'TAK', 'USE', 'KR', 'SAKTE', 'Mera', 'slow', 'chahia', 'many', 'Khudke', 'Paiso', 'Net', 'Chalane', 'Jigar', 'High', 'bakwaas', 'sathiya', 'employee', 'Jesse', 'lagti', 'wasehi', '#Starbucks', '#UPA', '#NDA', '#Airtel', 'fokat', 'mahenat', 'calling', 'bsnl', 'lagata', 'sim', 'Lag', '#JioFilmfareAwards', 'ads', 'Network', 'jite', 'steg', 'jhate', 'matke', 'kaye', 'sabko', 'tarfse', 'SRK', 'theter', '#Online', '#Gaytrends', '#Irony', 'open', 'jabab', 'sochate', 'Dono', 'house', 'ruk', 'karaya', 'leni', 'internet', 'chutiya', 'bhaari', 'matra', '#Net', 'fre', 'wifi', 'Launch', 'Bad', 'arvind', 'MCD', 'jitnr', 'London', 'Lane', 'sharmnak', 'neya', 'bebash', 'sorry', 'taqatwar', 'rakhel', 'gspectrum', '@Narendramodi', '_', '@ZeeNewsHindi', 'new', 'sapna', 'Dekho', '..............', 'kahta', 'o', 'definitely', 'network', 'site', 'Slow', 'Magar', 'Customer', 'service', 'bekar', 'Bhaiya', 'refund', 'nikammi', 'mujh', 'Umar', '#namo', 'hajaro', 'profit', 'BSNL', 'HIGH', 'RATE', 'LEKAR', 'LOSS', 'CHAL', 'RAHI', 'HE', 'problam', 'friend', 'Thi', 'saaala', 'khatwaria', 'sarai', '110016', 'th', 'floor', 'chadna', 'danya', '@JioMukesh', 'Doosre', 'Data', 'It', 'Phele', 'Recharge', 'Chuke', 'Unko', '75', 'Rs', 'Cash', 'Back', 'Milega', 'Time', 'Mukesh', 'ambani', 'meme', 'Chamber', 'likha', 'ilake', 'taar', 'gadhbad', 'pate', 'Chalo', 'Queue', 'kisse', '#aniversary', '@myfmindia', '#jiyodilse', '#ChaloAajKuchAchchaSunteHain', 'Kadai', 'communal', 'riot', '.!!', 'Humey', 'shanti', 'Carry', 'forward', 'layak', 'Bhala', 'G', '/3', 'dns', 'resolve', 'Aajkal', 'surname', 'middle', 'Surname', '#sarcasm', 'pack', 'sasta', 'kripa', 'Talk', 'saheb', 'padh', 'aachi', 'saam', 'pTA', 'ky', 'announcement', 'jaae', '#NOTEBANDI', 'Bolte', 'Hour', 'Thik', 'Hojaega', 'maaja', 'uthaega', 'waaoo', 'loogo', 'stupid', 'baana', 'fast', 'karaunga', 'Yadi', 'Digital', 'payment', 'fukhti', 'chu', 'hungry', 'contry', 'vaada', 'kana', 'raja', 'koshih', 'fr', 'langda', 'bhagega', '#Vodafone', 'raam', 'milae', 'jodi', 'andha', 'kodi', 'pehli', 'Vyaapari', 'Jita', 'worst', '@jio', '#Trending', 'Saare', 'peene', 'task', 'Shilpa', 'mam', 'D', 'Live', 'switch', 'services', 'Kitne', 'lifetime', '#ipl', '#Punjab', 'cancel', '303', 'dekr', 'april', 'fool', 'shona', 'jaanu', 'baby', 'karwado', 'waala', 'chutiyappa', 'hojayega', 'Tera', '#Snapchat', 'owner', 'khareed', 'Lageta', '#Indra', 'bhagvan', 'Sim', 'NetVelocity', 'Test', 'Result', 'Bewakoof', 'Bana', 'Rakha', 'convince', 'jhoot', 'batane', 'siwa', 'orr', 'ad', 'pahad', 'recover', '#DeMo', 'faide', 'gina', 'Last', 'thogo', 'tayyar', 'JIO', 'bhandara', 'ey', 'ullu', 'blank', 'page', '@spikeyarjun', 'website', '#JioPhone', 'book', 'karwa', 'dalali', 'mitra', 'nikkami', 'chaloo', 'Bhartiya', 'prashansa', '100%', 'Salute', 'Once', 'again', 'add', 'shaq@hai', 'Saharnpur', 'sewaye', 'Â\\xa0', 'maharbani', 'ayi', 'khela', 'message', '#jiocare', 'location', 'Mahavir', 'chhapara', 'gorakhpur', '273401', 'mahilaye', 'salaam', 'U.P', 'Saala', 'Aab', 'chodi', 'jioAbhi', 'Bhaaii', 'chate', 'kyaa', '#idea', 'chutiyappaa', 'WIFI', 'connection', 'taake', '31', 'st', 'Achha', 'Duaao', 'Yaad', 'Rakhna', '@Mukeshjio', 'chattisgarh', 'Sukma', 'lagwa', 'dijiye', 'Umpire', '#mumbaiindians', 'Jaao', 'umpires', 'Trai', '#airtel', '#tripletalaq', 'jaiso', 'jant', 'chuste', 'Akbar', 'darbaar', 'birbal', 'jhopda', 'complaint', 'TRAI', 'maaka', 'bhosda', '#TRAI', 'Don', 't', 'mind', 'Saf', 'saf', '.,,', '#AprilFool', '#Ambani', 'twtr', 'Chain', 'pal', '~', 'Other', 'operators', 'yhi', 'intzaar', 'uncle', 'dhamaka', 'hme', 'Kasmir', 'samjhe', 'single', 'rakhi', 'KYAA', 'FREE', 'MOBILE', 'YA', 'DTH', 'LAPTOP', 'CHAHTE', 'PAHLE', 'ISSE', 'DEKHE', '?????????????', 'sabne', 'enjoy', 'kaaram', 'namala', 'nalla', 'April', 'aakitaan', 'Adde', 'ton', 'lokki', 'te', 'dekhde', 'chlegi', '#DURGA', '#LAXMI', 'mani', 'wha', '#BaalVivah', 'Happy', 'Day', 'Yehh', 'Gujju', 'vaah', 'MukeshBhai', 'Vaah', 'saall', '#JioSummerSurpriseOffer', 'mujhse', 'roothkar', 'prime', 'membership', 'aakar', 'Summer', 'Surprise', 'Offer', '#JioSummerSurprise', 'samil', 'kauno', 'firki', 'boa', 'summer', 'surprise', 'Jee', 'Bher', ':P', 'smjha', 'dekhni', '#Wikipedia', 'hmare', 'Canadian', '******', 'Mere', 'ehsaan', 'kuy', 'Kr', 'cash', 'back', 'MUFT', 'AISI', 'LAAT', 'LAGI', 'RECHARGE', 'KARNE', 'KO', 'DIL', 'NEHI', 'MANTA', 'Mashup', 'chhu', 'Bhosdiwalo', 'Prime', 'member', 'bne', 'kl', 'phek', 'maarunga', 'Speed', 'kaisi', '#JioPrime', '#Lokpal', 'Niyukti', 'MODI', 'TURN', 'Privacy', 'kho', 'Vidio', '#Chatting', 'bij', 'Bo', 'My', '@republic', 'Bahan', 'Mukt', 'Vande', 'Mataram', 'Gayenge', 'Video', 'Cal', 'lu', 'Ytube', 'Pesh', 'Patanjali', 'takkar', 'happening', '#bevkufBaba', '#Dokhlam', '#PVSindhu', 'though', 'bs', 'thande', 'SandipSikdar', '.:', 'choker', 'PV', '#pvsindhu', 'lead', '@Nsaina', 'SirJi', 'FDI', 'Single', 'brand', 'approve', 'Multibrand', 'gumraah', 'Definition', 'nikah', 'Jaha', 'Hyd', '@Pvsindhu1', 'khelti', 'ladke', '#Badminton', 'spelling', 'vipaksh', '........', '.......', 'boss', 'badhiya', 'badminton', 'Jiyo', 'Manav', 'Dharam', 'Hamara', 'Sikh', 'Isai', 'Aara', 'jaaniye', 'Sadhna', 'TV', 'Pavitra', 'Sastra', 'Aadhar', '7:40', 'Pratidin', 'Baazigar', 'Int', 'l', '#badminton', 'championships', 'truly', 'know', 'haar', 'jeeta', 'Kaltak', 'opionion', 'liberals', 'banehue', '#BhaktGang', 'opinion', 'bhokalagaye', '#JaagoBhaktoJaago', 'chauka', 'done', 'Jiski', 'Player', 'Lambi', \"5'.10\", 'Ch', '***', '@ManishTewari', 'bheje', 'repeat', 'loking', 'Matches', 'pathake', 'phod', 'Vimal', 'pasand', 'zubaan', 'kesree', 'Aitbaar', 'humein', 'Isi', 'sehra', 'dariya', '@nozomi_o11', 'okuhara', 'hara', 'siddh', '0.1', '@ghoshworld', 'roast', 'Bharatia', 'run', 'Dhoni', 'Lanka', 'manish', 'pandey', '#RohitSharma', '#dhoni', '#sleep', '#cricket', '#silver', 'disease', 'which', 'keep', 'far', 'away', '#Gold', 'Two', 'kind', 'planet', 'Haro', 'ESA', 'haro', '#Champiom', 'proud', '#sainanehwal', 'ok', 'haara', 'Well', 'played', 'Sindhu', 'chhori', 'chhoro', '#Sindhu', '#Okuhara', 'behenji', 'uthati', '#halala', '#Polygamy', 'Pakistanion', 'kheli', 'match', '#WorldBadmintonChampionships', 'WBC', 'Japan', 'ladai', 'harne', 'OKUHARA', 'HARA', '#BWF', 'jitni', 'der', 'utni', 'paaya', 'Gold', 'jeetna', 'gave', '@startupindia', '@makeinindia', '@PMKVY_INDIA', '@JanDhanYojana', '#PMawasyojana', '#antiTerrorism', 'abi', 'Bharatiyo', 'ko?', 'Phukat', 'guzarna', 'chahre', '65', 'refree', 'maan', 'Badminton', 'janne', 'Come', 'COOL', 'koshish', 'karre', 'Dhara', 'Bibaranee', 'Sanjaya', 'Sambit', 'C', 'mon', 'Go', 'gold', 'Misaal', '#Glasgow', '#SindhuvsOkuhara', 'Congratulations', 'Kanun', 'Bnauna', 'eek', 'Bhada', 'Punnay', 'Mehlao', 'Praud', 'jeeny', 'ley', 'Power', '@PrernaBisht11', 'Shabash', 'Adhaar', '#RightToPrivacy', 'Inhi', 'puppy', 'ashutosh', '#righttoprivacy', 'Call', 'Unki', 'privacy', '@Google', '@YouTube', 'videos', 'Burkha', 'mahashay', 'selective', 'amnesia', 'mobile', 'aadhar', 'Utter', 'Bakchodi', 'content', 'barsaat', '#rapistbaba', '#china', '#MumbaiRains', 'Logic', 'hujuri', 'pushton', 'pahuchne', '9-', 'bench', '@AmitShah', 'suda', 'Biwiya', 'check', 'Relatives', 'bataunga', 'Ladke', 'tatte', 'khuja', 'Intolerance', 'standing', 'leftists', 'Triple', 'rahmat', 'dahej', 'sati-pratha', 'dhong', 'ladti', 'defend', 'nakaam', 'Koshish', 'SIYAAPA', 'AT', 'ITS', 'BEST', '#RightTo', 'pados', 'auntiyon', 'samajhta', 'Adhar', 'geya', 'tel', 'Engineering', 'viva', 'bachaayega', 'idea', 'azaad', 'Filhaal', 'susu', 'allow', 'banana', 'Haye', 'kahana', '@Nidhi', '#RightToPrivacyVerdict', 'fridge', 'womens', 'dohra', 'charitr', '@shaziailmi', 'roka', 'gana', 'send', 'Kisake', 'batana', 'Aunty', 'binoculars', 'apka', 'intezaar', '#Hallabol', 'midiya', 'quya', 'chij', 'achchha', 'Mom', 'tri', 'Tee', 'dilai', 'Girls', 'iradon', 'suli', 'chadhaya', 'abh', 'bataye', '#FreedomOfSpeech', 'sickulars', 'NHI', 'Resignationprasad', 'kehta', 'proceedings', 'doglapan', 'aurkuch', 'Facebook', 'jakaar', 'hashtag', 'dalne', 'nana', 'nirahu', 'ordinary', 'right', '1962', 'Arey', 'niche', 'building', '#police', 'wireless', '#satelite', '#phone', '#gharbhar', '#gopniya', 'jankaari', '#gharelu', '#hackers', '#gustaakhi', 'hmesha', 'dedo', 'duplicatesim', 'receive', 'Bach', 'baachoge', 'fyda', 'pahuncha', 'Root', 'cheej', 'Dega', 'savko', 'joker', 'sardana', 'bdle', 'irade', 'utarta', 'Opposition', 'Jashan', 'manaye', 'Umeed', 'bolenge', 'bypoll', 'DM', 'detail', 'khaak', 'Badi', 'begairat', 'jumlebaj', 'shariyat', 'chalne', 'uniform', 'civil', 'code', 'ayega', 'watch', 'gajab', 'palti', 'bhaiya', 'Olym', 'wedal', 'kahe', '#Aadhaar', 'maroge', 'Marne', 'link', 'ehe', 'Khudko', 'khuli', 'kitaab', '#sunnyleone', 'shaksh', '#robert', 'dikhaane', 'Kunal', 'ladykiller', 'bayan', 'Kahe', 'jhut', 'faila', 'chara', 'sad', 'beheno', 'hifazat', 'rasta', 'samaz', 'lago', '@JhaSanjay', '@mukeshtiwariji', '@DwaipayanM', 'Swiss', 'Paisa', 'sting', 'nanga', 'maare', 'Nagna', 'awasta', 'Jain', 'Muni', 'Assembly', 'address', 'Phirse', 'chutyapa', 'isne', 'Train', 'Mobile', 'Chori', 'pakde', 'Chhin', 'Jaate', 'Greebon', 'Subcidy', 'khaane', 'manaa', 'nagna', 'awastha', 'mey', 'bhashan', 'adhikar', 'Ravi', 'Shankar', 'Prasad', 'priceless', 'protect', '#Sarahah', 'App', 'screenshot', 'Subah', 'liberty', 'duhaai', 'padhe', 'Law', 'RS', 'application', 'access', 'rail', 'privatisation', 'isteefa', '#SureshPrabhu', 'Where', '#TripleTalaq?', 'Behne', 'Sack', 'culprit', '@PremShuklaBJP', 'Aurto', 'bhaashan', 'Jumla', 'PAN', 'delink', 'doon', 'information', 'yes', 'Columbian', 'drug', 'damaad', 'dhoond', 'Lagane', 'methods', '#righttoequality', 'laakar', 'hataa', 'ma', 'double', 'jaydatar', '@anuraggarg11', 'Bangkok', 'trip', 'details', 'Relative', 'Nepali', 'Babu', 'aagye', '2-3', 'Narendra', 'Saari', 'FB', 'gaand', '#Aadhar', 'dangerous', 'choor', 'sarkaari', 'Subcity', 'AADHAAR', 'He', 'reverify', 'Bajrang', 'dhandaa', 'liyaa', 'nephew', 'puche', 'Whatsapp', 'saqta', 'jindegi', 'suspension', 'bara', 'Tameez', 'Gobar', 'Head', 'Trespasser', 'nahane', 'mummy', 'krhe', 'freind', 'girlfriend', 'karunga', 'Guruji', 'Faayda', 'Secret', 'Dog', 'gira', 'pahuche', 'madad', 'Rone', 'Card', 'Photo', 'achhi', 'Chaava', 'Chaavi', 'Park', 'Khul', 'Jaye', 'Ge', 'Dal', 'Shiv', 'Ukhaad', 'Paye', 'Gi', 'manege', 'Jabki', 'decision', 'aya', 'fundamental', 'Hasmukh', 'bhang', 'hogayi', 'Guggiji', 'khabardar', 'identity', 'mangi', 'padhna', 'G1', 'G2', 'usey', 'apney', 'notepad', 'bro', 'China', 'china', 'duplicate', 'Tumhe', 'bharosa', 'VISA', 'dusare', 'Sandeep', 'digvijay', 'must', 'scandal', 'bio', 'metric', 'attendence', 'wh', 'pan', 'chilla', 'Deewar', 'fame', 'dialog', 'wil', 'Amitji', ';', 'bungla', 'Shashiji', 'pasd', 'nijta', 'mohar', 'supreme', 'cort', 'lahadhi', 'Oh', 'Anil', 'muje', 'chupa', 'riots', 'killed', 'Bashirhat', 'bachaa', 'rahey', 'saara', 'credit', 'kaala', 'karaoge', 'Sandip', 'Kumar', 'historic', 'bolonge', '????????', 'Sapna', 'Vyas', 'Patel', 'hot', 'latest', 'vyas', 'photoshoot', '#Fitness', '#sexy', '#ThursdayThoughts', 'Rail', 'Ticket', 'Hi', 'Isteefa', 'List', 'Pe', 'SS', 'leak', 'TL', 'daal', 'Bhim', 'tala', 'lagna', 'chiye', 'islifa', '#AadhaarCard', 'lambi', 'aasaani', 'taqleefein', 'mushkilon', 'dhakele', 'agnst', 'wse', 'Sec', '377', 'IPC', 'samuday', 'umiden', '#LGBT', 'Kharidne', 'Lye', 'Jankari', 'Dene', 'sc', 'palat', 'dakhal', '#rightToprivacy', 'Apna', 'duga', 'Crowd', 'Sorry', 'indians', 'hub', 'chalate', 'faisale', 'chutiye', 'dekhtha', 'Bathroom', 'keechtha', 'hey', 'darwaaja', 'kula', 'Nahaunga', 'Purane', 'chalu', 'faisle', 'istife', 'border', 'aarmy', 'outgoing', '#ClericsForChildMarriage', 'incoming', 'khatre', 'Historic', 'Hon', 'ble', 'mainey', 'nijhta', 'sammanit', 'taur', 'CHUKA', 'qubool', 'Rashtrapati', 'Bhavan', 'Durga', '#SureshPrabhuDontQuit', '#ColPurohit', '#ColPurohitTruth', 'Russia', 'Mil', 'Kam', 'Zaruri', 'naamo', 'nishaan', 'mitt', 'jana', 'dum', 'JO', '#Trump', '#TrumpNailsPakistan', 'good', 'move', 'shosha', '#SocialMedia', 'may', '#Pakistani', 'visa', 'millay', 'gha', 'Sunne', 'jakr', 'Qubool', 'replace', '#bolozubaankesri', '#vimaaltroll', '#TRUMP', '#Quint', 'MOAB', 'gire', '#ModiG', 'kabtalak', 'chorhte', 'Rahoge', 'Le', '#UP', '#EVM', 'Madad', '#America', 'PAS', '#HoliHai', 'Hara', 'Sakta', 'Shart', '#INDIAN', 'Machine', 'Voting', 'Hogi', ':p', 'â\\x80\\x94', 'feeling', 'fed', '#Verdict', '#trump', 'sadme', '#INDvsAUS', 'Muslimo', 'Mulle', 'Yadav', 'Jaatiwaad', 'BIHAR', '#c.m', '#yogi', 'sarma', '#u.p', 'Sale', 'atankwaadi', 'American', 'drones', 'abb', 'khana', 'girega', '#donald', '#LALUPRASAD', '#YADAV', 'JI', 'INTER', 'VIEW', 'EK', '#sath', 'dikhaye', 'Haha', 'if', '#baloch', 'japanese', 'Shar', 'gona', '@srikrishnasark7', 'bede', 'kujam', 'baloch', 'en', 'tao', '#ShivRajSinghChauhan', 'herani', 'Meri', 'Post', 'Aaisey', 'Julteey', 'Jaisey', 'Jitwayaa', '#GharWapas', 'aaney', 'Kho', 'USA', '#Gabbar', 'rehtha', 'Shumali', 'Koria', 'Kay', 'Bari', 'Jang', 'Charh', 'Sakti', 'given', '3talaq', 'bearing', 'male', '@asaadowaisi', 'aawaz', 'utha', 'fenk', 'powerful', '#handmaidstale', '#ModiCheatsHimachal', '#ModiJi', 'bigaad', 'Bai', '#MOAB', '#Moists', '#CRPF', '#CRPFMartyrs', 'havan', 'Dhamkion', 'Kharja', 'Policy', 'Badalnay', 'Elaan', 'Khittay', 'Tabdilian', 'Faislay', 'Jald', 'Karnay', 'HonGe', 'Afghanistan', 'Drone', 'Hamla', 'Afrad', 'Halak', '18', 'parri', 'Phuppo', 'larka', '#PMNawazSharif', 'mulaqat', 'sochiye', 'Hasben', 'jahil', 'os', 'yad', '#Andhbhakto', 'shyd', 'envious', 'Sochta', 'follow', '#MakeInIndia', 'Aliens', 'Dunuo', 'kharb', 'kuo', 'dekta', '#IslamicCort', 'Zariye', 'jaj', 'pawor', 'full', 'khtra', 'padd', 'nazre', 'tikk', 'suit', 'rahay', 'bhaiyaa', 'bik', 'gormint', '#FuckingTrump', '#BhosriKa', 'Donald', 'badho', 'Duck', '#NorthKoreaNukes', 'bakhi', 'dost', '#healthcare', '#mitchmcconell', 'lana', 'islamic', 'banakr', 'tutega', 'get', '#Rakhis', 'Village', '#Israel', 'najayez', 'wajood', '#india', '#Palestinian', '#ZarooratHai', 'uthe', '#MotabhaiJaiAmitShahjee', 'nara', 'embassy', 'banaege', '#Jerusalem', '25', 'January', '#Padmavat', 'first', 'dekhane', 'january', 'Lal', 'kille', 'virata', 'puraskar', 'sanmanit', 'Khilaaf', '....?', 'khyal', 'waqi', 'nasal', 'murde', 'jalane', '#RadicalIslamm', 'gun', 'gaan', 'mazaa', 'afridi', 'retirement', 'England', '#Queen', 'bulao', 'paagal', 'luta', '#KimJonghyun', 'Mubarak', 'pideeton', 'thodi', 'pideet', 'madam??', 'Vin', 'Diesel', 'chahete', '#MandirWahinBanayenge', '#YogiRocks', 'Koun', 'replica', 'Badhai', '#ModiAtConclave', '17', '#DesiTrump', 'Hila', 'haad', 'Muslims', 'competition', 'Inko', 'smjhao', 'yr', '#rjraunac', '#babua', '#zeenews', '#DonaldTrump', '#Balochistan', '#PMLQ', 'pathano', 'hur', 'hoe', 'zamana', 'guzar', 'barma', 'aapka', 'sehte', 'kide', 'sanvidhan', 'samarthan', 'dega.', 'Give', 'economic', 'EBC', 'shouldn', 'Mam', 'batya', 'sayed', 'jismey', 'trple', 'aprad', 'ilzam', 'sabot', '#AMERICA', '#NEWS', 'SOCIAL', 'martaba', 'Imran', 'awam', 'ache', 'mahno', '#PMLN', 'pechle', 'saloon', 'dehshatgari', 'lar', 'qabaniyan', 'opar', 'nakami', 'daagh', 'hata', 'dosre', 'lagana', 'likin', 'bardasht', 'qabil', 'pojte', 'galiyan', 'date', 'policies', 'wajha', '@Pakistan', 'balke', 'polices', 'amal', 'giya', 'gheera', 'sahib', 'kasar', 'billion', 'dollars', 'jhaang', 'dehshagardi', 'Height', 'flights', 'jisase', '#bigg', '#ShilpaShinde', '#HinaKhan', '#VikasGupta', '#PuneeshSharma', 'season', '#bb12', '#NationalYouthDay', '#JudgesAtWar', '@SirJadeja', '#IndvSA', 'humhi', '!.', '#China', 'khunnas', '#XiJinping', 'dabake', 'chehra', 'dear', 'Obama', 'Ja', '#Abe', 'taarif', 'Chara', '#Laluchorhai', 'Illiterate', '#Gurdaspur', '#Godfather', '#PakArmy', 'ghtya', 'language', '@TejYadav', '14', '@yadavtejashwi', 'Jahan', '#jufge', 'favour', 'Janam', '#WhiteHouse', 'Bahar', 'Chai', 'Becha', 'Karte', 'Jiska', 'Khulasa', 'Tour', '#AmithShahKiLoot', '#pappu', 'Richard', 'thats', 'why', 'Noble', 'price', 'B', '#IRAN', 'Bigar', 'Trump', 'kaan', 'rakho', 'EAM', 'oppn', 'comments', '#ParisAgreement', 'khair', 'karey', '#NorthKorea', '@ajmaljami', 'khudara', 'apnay', 'Dr', 'sey', 'poochiye', 'sattu', 'pee', 'yhan', '@Xadeejournalist', 'karode', '#santramplji', 'anuyayeeyon', 'suno', '681', 'nyaya', '#ProteinPledge', '#CriminalAAP', 'Mujhay', '!???!!', '#StephenBannon', '#Nawazsharif', 'faad', 'Sid', 'Mark', 'Zukerburg', 'Ache', 'Kadak', 'Sakt', 'Zarurat', '#eBay', 'Supari', 'kehekar', '#Amazon', 'bimari', 'dain', 'waqae', '@Cristiano', 'bary', 'Bahot', 'zamaane', 'Fayda', '@bobbydeol', 'popularity', 'teji', 'chhut', '#Nawaz', 'Biryani', 'Dinner', 'Yarana', 'bheekh', 'nango', 'dy', 'islambd', '#Islamabad', 'bhookh', 'marega', 'aukad', '#ParisClimateDeal', 'chhoda', 'bhuchal', 'irony', 'Mujhko', 'pehchaan', 'DON', '#NATO', '@vsknagpur', 'fact', 'bharpoor', '#Secular', '#MuslimWomen', 'rampal', 'maharaj', 'c.b.i', 'krwao', 'Yo', 'Lage', 'bikar', '#IndiansUnite', '#Shilpa', 'Challenge', 'Trah', 'Muh', 'Om', '#Manhattan', '#NewYorkCity', '#NewYork', '#USA', 'Aaya', '#Lahore', '#Biryani', 'lootne', 'Aao', '#Gujarat', 'Dhokla', 'Swaad', 'Joosne', 'Sunata', 'buddhiwapsi', 'hawan', 'yagya', 'krwa', 'qurbani', 'jaegi', 'responsibility', 'bhasan', 'chaloge', '#LoveJihad', '#unemployment', '#poverty', '#pharmacist', '#medical', '#loss', '#business', 'samasyao', 'sudhariye', 'saab', 'America', 'garnu', 'badegi', 'Shayed', 'Dhande', '#climatedeal', 'Uff', 'Baniye', 'TrumpBhai', 'daring', '#Parisagreement', 'Paris', 'Bol', 'Uska', 'Sign', 'Karega', '#parisclimatechange', '#Nagpur', 'bhejo', 'president', '@IvankaTrump', 'chhayi', '@BarackObama', 'fiqr', '#ObamaInIndia', 'pyaase', 'bhuke', 'duja', 'badshah', 'marzi', 'dosra', 'zabardasti', 'deshwaasiyon', 'Chunne', 'bhuktenge', 'Ivanka', 'GES', 'â\\x80\\x9c', 'prosperity', 'â\\x80\\x9d', 'adharit', 'sammelan', 'udghatan', 'Cultural', 'events', 'underway', '#GlobalEntrepreneurshipSummit', 'Kaan', 'Bta', 'rkha', 'deal', 'haramkhor', 'Putin', 'surroundings', 'poty', '#Obama', 'kadu', 'sarkari', 'naukri', 'haramkhori', '3.3', 'dhulai', 'kumbkaran', 'bap', 'shakal', 'BTW', 'tharey', 'foran', 'Bhootnikay', 'buzdil', 'Khussraay', 'Khusray', 'rahogee', '.!!!', 'Bat', 'hairaan', 'itane', 'Small', 'village', 'Kabi', '#Kashmiri', '#Up', '#Yogi', 'niklo', '18+', 'Sewan', 'Sharif', 'blast', 'kie', 'Waqar', 'Zaka', 'GOVT', '#ISIS', '#Afghan', 'Galliyan', 'zyda', '#BurqaBibi', '#USMedia', 'waat', 'beizzat', '#ERROR!', 'Chunavi', 'wadde', 'poore', 'pore', 'Nation', '#immigrants', '#MuslimWomenEmpowerment', 'arrangement', '#Software', 'Banaa', 'Loge', 'Bande', 'Bhejoge', '@virendersehwag', 'pajee', 'fan', 'Sue', '#id', 'apnae', 'kutta', '#No', 'Santa', 'Along', '#YogiEffect', 'marge', 'war', 'karge', '#Afghanistan', 'bari', 'hye', 'parliament', 'attendance', 'kioo', 'PAPA', 'PAPPI', 'bhonk', 'rasm', 'najayaj', 'Mazak', 'Bored', 'Talaq', 'nayi', 'lai', 'Tbhi', 'dakhl', 'RDX', '#Syria', 'bambari', 'elaan', 'hum ', 'IK', 'Tuje', 'jalan', 'aja', 'photu', 'khichwate', 'Ethasik', '#Monalisa', '@MaryamNSharif', '@CMShehbaz', 'katora', '190', 'million', 'USD', 'jhatka', 'mujhay', 'Melania', 'milay', 'ziyada', 'terrorism', 'shikast', '#RiyadhSummit', 'FAIL', 'naacha', '#saudiz', 'naachay', 'gay', '#US', '#Russian', 'relations', 'zaleel', 'jalte', '#endians', 'Chala', 'Hay', 'Pocket', 'katt', 'Saudi', 'husband', 'bhugte', 'nah8', 'Saza', 'pati', 'milni', '#NS', 'shak', 'Nigah', 'daikh', '@PTIofficial', '@iamExPMLN', '@PTI_News', 'Jhoot', 'eis', 'jhoote', 'witter', 'choro', 'usa', 'samajhdar', 'bewra', 'chodega', 'chehry', 'paon', 'farq', 'Esko', '#PM', 'nyota', 'Dekhna', 'relation', 'Saayad', 'barwadi', 'Mann', 'isiliye', '#WashingtonDC', '#Americi', 'Sadar', '#Qattar', 'Sangeen', 'Elazamon', 'Bochar', 'Krdi', 'Ghanta', 'badnaam', '#ProudHindu', 'maaro', 'ghas', 'ghuske', 'nawaz', 'sharif', 'Sep', '2001', 'dety', 'sulza', '#Harward', 'talue', 'chatna', 'Salon', 'diyo', 'kabr', 'latke', 'pacha', 'karle', 'auqat', 'bhot', 'aaayegi', 'giving', 'prasad', '#indian', '#modibhakts', 'bali', 'Khamoshi', 'Hairat', 'Angeezi', 'Bara', 'Dushman', 'Qarar', 'Dy', 'awaam', 'Rozi', 'roti', 'sehet', 'Auqat', 'takkay', 'batein', 'kra', 'Tumhari', 'bheek', 'mangnay', '#Pak', 'With', 'Ummah', 'unite', '#JerusalemEmbassy', 'aisy', 'react', 'ktrhy', 'krskta', 'hoskta', 'bhol', 'kharay', 'hngy', '#Pappu', 'purey', '#Palestine', 'criticizes', 'someone', 'having', '#Namo', 'hugged', 'Banta', 'jake', 'hug', '#ModiTrumpMeet', '#ModiInUS', '#pyaarho', '#mohabbat', '#lou', 'Amriki', 'Saddar', 'White', 'House', 'Sacha', 'Dost', 'Betha', 'samjhai', 'dosti', 'behter', 'aqalmand', ':-)', '#TrumpModi', 'Jii', 'Lagg', '#TrumpCardModi', '@yogi_adityanath', 'womans', 'GAU', 'RAKSHAK', 'MUSLIMS', 'Hatya', '#lvankatrump', '#ModiMeetTrump', 'gi', 'shaath', '#EidMubarak', '#SaveDrDeenMohdBaloch', '@NarendraModi', 'balochistan', 'uthaiye', 'apny', 'junggles', 'Aag', 'smbhalti', 'chalen', 'humary', 'lgany', '#americans', 'byan', 'pay', 'Iran ', 'bolay', 'waqai', 'aisay', 'ziada', 'bezti', '#TrumpDog', 'harkat', 'InShaALLAH', 'Qoam', 'hashar', 'community', 'janwr', 'bachake', 'insano', 'dilane', 'Strange', 'Khwaja', 'Asif', 'daro', 'family', 'yee', 'hojaye', 'Begherat', 'ghatiya', 'dobara', 'Musharraf', 'Zia', 'mily', 'Dana', 'block', 'krdo', 'TM', 'listen', 'fron', 'sheikh', 'Dil', 'mardun', 'sara', 'mun', 'gata', 'kholta', '#COAS', 'mangny', 'dien', 'ghairat', '@KhawajaMAsif', 'even', 'did', 'never', 'Yar', 'khoof', 'ny', 'raseeden', 'kua', 'unrest', 'shabd', '@ImranKhanPTI', 'JIT', 'rona', 'sharum', 'haya', '@realDonaldTrump', 'biggest', 'chootiyas', '#GoogleKerlo', 'Shekal', 'bandaro', '#Dhamki', '#Gandou', '#IK', 'khelaaf', 'bhonko', 'defense', 'ministry', 'khamoshi', 'faisla', 'kigye', 'jang', '70000', 'janen', 'billions', 'phonk', 'hamen', 'Defense', 'Ministry', 'outsource', 'jawaab', 'sbse', 'divorce', 'udher', 'bandobast', 'rahy', 'P', '#pmln', 'Jiske', 'bachay', 'shohar', 'saccha', 'Americans', 'haalat', 'Raj', 'Thackerey', 'Maharashtra', 'North', 'Ise', '#MentorOfPapu', '#GreatModi', 'Mara', 'kuta', 'peche', '#ItalianPressitutes', 'chamcha', 'loog', 'specially', '#radicals', 'lambe', '#TrumpBan', '#Ban', '#kuwait', '#Agent', 'desho', '#kuwaitbans', 'munh', 'chhipaye', 'nainsafi', 'Dhobi', 'deshwasiyon', 'Hindustani', 'bolega', 'dusra', 'sunega', 'taqat', 'Rok', 'past', 'frustration', 'Becharay', '#HouseOfCards', 'ratings', 'SM', 'ghuss', 'salwaar', 'waliyon', '#MuslimBan', 'humarey', 'Mumalik', '#RefugeesWelcome', '#ImmigrantsWelcome', '#Gst', 'vedesh', 'trh', 'bhokega', '#bhaiyao#behano', 'aagaye', 'widows', 'shaadi', 'chahate', 'Jeetna', 'dilon', 'jito', 'chahal', 'nikalega', 'Rajnigandha', 'khaate', 'ameer', 'aakhir', 'Paki', 'Chilla', '#Dhamkaya', 'nasbandi', 'bashartey', 'smriti', 'irani', 'baadme', 'doosro', 'stands', '@TarekFatah', 'pae', '.1......', '#arrest', 'chut', 'khisak', 'Agay', 'agay', 'Kia', 'ending', 'kehdiya', 'Subha', 'flight', 'chalejata', '#flightmodepm', '@DOCTORATLARGE', 'neeche', 'tumko', 'wohi', 'kahenge', '#VoterFraud', 'tag', 'button', '#KimJongUn', 'lee', 'unfortunately', 'urdu', 'sher', 'krty', 'kroo', 'apis', 'umer', 'larty', 'rahnaa', 'let', 'hearted', 'camps', 'shiddat', 'hathon', 'ukhadna', 'aara', '#Funding', 'maksad', 'cheen', '#TrumpDumpsPak', '#terror', 'milane', 'shriman', 'Shut', 'Jihadi', 'Sanghan', 'Abdul', 'Aukat', 'piddu', 'fadd', 'chaLai', '#Faizabad', 'Language', '#English', 'version', 'Siri', '#Pakistanio', 'reh', 'paya', ',,,,,,,,,', 'hamain', 'waly', '???????', 'pol', 'kholte', 'Very', '#hug', 'Basically', 'hamaray', 'itnay', 'barey', 'loootairey', 'choona', 'bechara', '#GoNawazGo', 'Behenon', 'behen', 'AAG', '#tripleTalaq', '#haryanaBurning', 'admire', 'don', '#nafrat', 'needs', 'make', 'abortion', 'Asap', '#AaGayaNayaHero', 'Abay', 'aese', 'qayamat', 'taap', 'Sincerely', 'Yours', 'J', 'TRUMP', '...!!', '#RAEES', '#Donald', '#president', '#markTaylor', '#DeanJones', 'kohli', 'aaplog', 'kutto', '#kohli', '#Dhoni', '#msdhoni', 'adhaar', 'waisi', 'Mahilao', 'Awaj', 'uthayegi', 'Husband', 'chota', 'Shadab', 'praise', 'kartay', 'huway', 'moat', 'parhti', 'Banda', 'banay', '#SachinTendulkar', 'Prabhuuuu', '#one_sun_one_moon', '#one', '#msd', '#Kohli', 'rota', 'ghaddar', 'watan', 'NS', 'patwariyon', 'especially', 'bhagoori', '#taaraa', '#dog', '#Beating', 'tuj', 'nhe', 'chase', 'Nawaz', 'talwar', 'dhar', 'goliyon', 'bouchaar', 'bowler', 'dartaa', 'Viru', 'Chakko', 'Choukko', '295*', '#SRT', '#virat', '#records', '#sanjsamacar', 'kock', 'dusri', 'rahke', 'WK', 'Hamra', 'raftar', 'Meto', 'currently', 'khelate', 'College', 'paka', 'Isme', '#sushant', 'itra', 'raabta', 'disastrous', 'actor', 'gol', '@jigneshmevani80', 'halala', 'farmula', 'paaji', 'autographed', 'shirt', 'chaye', '#GODji', '#Sachin', 'thebillion', 'dreams', 'khelta', 'runs', 'holi', 'Ghar', '#bangldesh', 'Totally', 'sided', 'series', 'Dekhke', '#vijay', '#pujara', '@imVkohli', 'gt', '#IndvBan', '#dada', '@SGanguly99', 'behtarin', 'margdarshak', '#proudtobemarathi', '#PeshwaBajirao', 'Hathi', 'Marathi', '#KedarJadhav', 'Eng', 'haha', '#INDvENG', '#T20', '#Viru', 'shikhar', 'virat', 'asani', 'century', 'Aapka', '60', '39', 'MY', 'LOVE', '#MSD', '20', '42', '#Legendforever', 'Amrapali', 'Now', 'Playing', 'Sachin', 'Vayu', 'Kanika', 'Kapoor', 'Beat', 'Booty', '#sachin', 'jigar', '#vayu', '#kanikakapoor', 'ukhaad', 'kehna', 'dikkat', 'hori', '#ShameOnYou', 'www', 'bbc', 'co', 'uk', 'music', 'artists', 'fdf', 'c', 'f', '4-4736-', '24-', 'bf', '2286', '61254', 'tujhse', 'champion', '#Toilet', 'Jayega', 'haters', 'badhate', '#Liberals', 'Vohi', 'Imaandari', 'Batana', 'Aapne', 'Arun', 'suna', 'Khali', 'awr', 'Pose', '#Hindu', '#Sikh', 'dekhlo', 'mention', 'mood', 'Haj', 'subsidy', '#Sania', 'rose', 'Nahin', '#IndiaChokers', 'Radhika', 'Apte', 'Photoshoot', '#oppo', 'jersey', '@oppo', 'sponsorship', 'Amazing', '#harmanpreet', '#WomensWorldCup', '#Semifinal', 'hatsoff', '#AUSvIND', 'akash', 'Definately', 'style', 'dikhadeti', 'pakdna', 'namunkin', 'inns', 'outs', '#SLvIND', 'Achcha', 'Fair', 'play', 'jeetne', 'Pura', 'Faida', '#GSTBill', 'furniture', 'chandigarh', 'Gilani', 'Daughter', 'kamjor', 'instead', 'hubby', 'Anushka', 'Maazrat', 'On', 'lighter', '#Virat', 'captain', 'haaregi', 'samjhoge', 'lye', '#gift', '@raiisonai', '@TheArijitSingh', 'flim', 'Songs', 'Fan', 'charan', 'sparsh', 'arey', 'chasme', 'genius', 'loss', 'yese', 'target', 'akela', 'ms', 'Anhoni', 'Multan', 'Sultan', 'paji', 'ware', 'Tweet', 'Paap', 'hogaa', '#ViruPanti', 'miss', 'rehi', 'manne', 'iman', 'Sehwag', 'prove', 'sthan', 'train', 'chorh', 'cricketer', 'TC', 'Khadakpur', 'Holi', '#HappyHoli', 'everyone', '@BCCI', 'tez', 'inning', '...!', 'BSP', 'CONG', 'Patriotic', '#IndVAus', '#Jadeja', 'pareshaan', '#rahane', 'lefty', 'Bhenchod', 'catch', 'pakadte', '#Rahane', 'delete', '#anushka', '#drmashoorgulati', 'paata', 'samhjo', '@SaurabhM16', '#ValentinesDay', 'yar', 'Wait', 'jadeja', 'rajpoot', 'bhejna', '#captaincy', '#sir', '#jadeja', 'Thalaivar', 'daa', '#Champ', '#IndvsBan', 'Ramesh', 'Tendulkar', '!!!!!', 'Rajesh', 'Seshadri', '#godofcricket', 'After', 'Series', ':-', 'Jhuth', 'BOlte', 'tumlOg', 'Captain', '#Babar', '#Azam', 'kardiya', 'bats', '#aapkihatrahihaina', 'dai', 'fantastic', 'vaye', 'aakha', 'laaudai', 'kyarnu', 'herna', 'chhaina', 'Bibi', '@RanaAyyub', 'samjhti', 'hogga', 'balla', 'pakadna', 'seekha', '@sachin_rt', 'stump', 'ball', 'pressure', 'baahar', 'chhedega', 'Gone', '..........', '#dhonisarmy', '#dhonism', '@msdhoni7781', 'msd', 'lifeline', '#verupanti', 'nice', 'helicopter', 'shot', '#Sehwag', 'helicoptes', 'Australian', 'Team', 'mukaddama', 'Ranchi', 'fikar', '#VIRUPANTI', '@StarSportsIndia', 'qwahish', '#Respect', 'Brand', '#sony', 'aaur', 'ground', '#drone', 'Baadal', 'JSCA', 'stadium', 'doston', 'daar', 'lion', 'returning', 'tendulkar', 'arjun', 'promoting', 'swachh', 'abhiyan', '#rohit', 'running', 'runout', 'Australia', 'thikane', 'Rahane', '#virupanti', 'Ager', '#Dhawan', 'opening', 'karga', '#Rohit', 'khilaye', '#AskTheExpert', 'Ishq', '#Goli', '#Run', 'maja', 'stumping', 'heart', 'pumping', 'saman', 'Rajya', 'Sabha', 'watching', 'Sunny', 'Leone', 'Manforce', 'Issue', 'ghanta', 'pani', 'ayye', 'honne', 'Normally', 'boundary', '#RajyaSabha', 'padarshan', '#Hungama', 'hotahai', 'tykse', 'Stagit', 'Iwith', 'cricketing', 'thappad', 'lagake', 'school', 'bheja', 'Jailer', 'fansi', 'akhiri', 'khwaish', 'Khiladiyan', '#VK', 'fo', 'mmorows', 'Bhoomi', 'poojan', '#dhawan', '@GautamGambhir', 'maninform', '#ViratKohli', 'haiii', 'budhaw', 'khilaoge', 'aut', 'talented', '#raishabpanth', 'rakhoge', 'bhumi', '#viratkohli', '#ChampionsTrophy', 'partiality', '#Bhubaneswar', '#SirDinda', '#SRHvRPS', '#Bhuvi', 'boundaries', 'marna', 'ae', 'Tripathi', 'Run', 'karvake', 'Retirement', 'anniversary', 'favourite', 'khwahish', '#ThankYouSachin', 'Paazi', 'Theek', 'Shastri', 'coach', 'sambhalna', 'haare', 'senior', 'player', 'Chaahe', 'chaahe', 'umpire', 'ungli', 'uthayenge', 'lawyer', 'Diwali', 'karwate', 'maathe', '#Ayodhya', '#ShauryaDiwas', '#RCBvRPS', 'break', 'glti', '@RCBTweets', 'haari', 'Chutiya', 'strategy', 'apnaye', '#CaptainKohli', 'Side', 'Marwa', 'Sabko', '#Ipl', '#RPSvRCB', '600', 'rupay', 'buffet', 'mehenga', 'Kohli', 'litre', 'peeta', 'BHAI', 'BATAYENGA', '@RPSupergiants', 'CAPTIAN', '#DHONI', '#Smithy', 'SAARI', 'FIELDINGS', 'TOH', 'DHONI', 'SET', 'KARRA', 'dhone', 'Ball', 'dhoya', 'nahe', 'Kum', 'kum', 'shave', '44', 'Feet', 'Abhishek', 'Satam', 'RM', 'Bhatt', 'Mumbai', 'birthday', 'Alien', 'Huq', 'Farji', 'Useless', 'Your', 'westing', 'aajka', 'jheethna', 'jheethe', 'farak', 'Rohitu', 'rohitu', 'laet', 'jap', 'cool', 'Field', 'Cool', 'hokr', '@msdhoni', 'Rohit', 'daba', 'ke ', 'Sharma', 'legaya', 'impossible', 'happen', 'Inki', 'Mahi', 'uth', 'aadmion', 'inequality', 'admio', 'dialogue', 'Soo', 'kisii', 'Chahe', '#Pujara', 'Whr', 'R', 'those', '#Haters', 'near', '.?', 'Akila', 'Dananjaya', 'Bhuvneshwar', 'Bowler', 'Hue', 'Batsman', '#IndvsSL', 'Mahendra', 'khu', 'Bhuvi', '100+', 'Oree', 'eke', 'keu', 'ekta', 'golden', 'kahegi', 'Cups', 'Chaiye', 'dekhta', 'dekhoonga', 'wapas', '#captain', 'Ms', 'captaincy', 'chhodne', 'cup', 'harenge', '#mahi', 'Itnaa', 'Shock', 'Kaafi', 'Kyaa', 'Swami', 'trending', '..!', 'captani', 'chodhni', 'padhi', 'jealous', 'tweeting', 'retired', 'Maahiya', 'khelega', 'kaptaani', 'chhodi', 'Chilean', 'kalti', 'gile', 'shikwe', '#YJHD', 'taara', 'chamakte', 'Dhuru', 'taare', 'aasmaan', 'Star', 'comparison', 'Dharti', 'doubt', '#noteBandi', 'abhitak', '#ArthikGhotala', '#GafeeboKiKamarTodDi', 'LIC', 'ZINDAGI', 'SATH', 'BAAD', 'Not', 'Pepsi', 'MANGE', 'MORE', 'daye', 'Uttrakhand', '#BringBackMahi', 'Kaptaani', 'Khelna', 'bhula', 'Start', 'Captaincy', 'Chodi', 'Nai', 'Kaash', 'BCCI', 'bdl', 'jesa', 'sunkar', 'Gambhir', 'personal', 'loan', 'apply', 'everything', 'naukari', 'lagwaya', 'MS', 'khasa', 'sone', 'mahi', 'MSD', 'capatincy', 'tyag', 'MSY', 'mulayam', 'tyaagne', 'ready', 'shant', 'rakhu', 'dunge', 'Varna', 'lagauga', 'Keeper', 'role', 'nibhaya', 'skipper', 'spirit', 'Growing', 'thru', 'imp', 'jariye', '#morons', 'Judge', 'Batao', '@thehariom25', 'molvi', 'jine', 'Recently', '#Saurav', 'joining', 'Kaun', 'quit', 'Ratna', 'inevitable', '#IndianCricket', '@Its__Akshay', 'Maahi', 'retire', 'ekdum', '#respect', 'Suresh', 'mt', 'chhodo', '#GauRakshak', 'gumrahi', 'Naya', 'Raas', 'Unhoni', 'HNY', 'thukra', \":'(\", 'raina', 'nov', '#ThankYouDhoni', '#legend', 'rakhana', 'kheliye', 'mukt', 'gyen', 'sachme', 'rhaa', 'jeete', 'pyaar', 'Luv', 'idol', '#FanForever', '#MSDIAN', '#God', 'selfless', 'Yuvraj', 'Srinivasan', 'Meiyappan', 'Bhii', 'Cricket', 'Haii', 'Miss', '#HappyBirthdayCaptainCool', 'choodi', 'Netaji', 'sikhna', 'Izzat', 'Dhyaan', 'indian', 'ussa', 'salute', 'Keep', 'Still', 'Thanks', 'office', 'Rum', '#CaptainCool', 'sikhe', 'efforts', 'aahista', '#MuslimWomenDignity', 'Dhoniya', 'Liter', 'Doodh', 'pita', 'orchestra', 'rahta', 'tabe', 'Etna', 'Insaan', 'Death', 'End', 'Waise', 'Cricketer', 'Soon', 'Karke', 'Dard', 'yew', 'mean', '#Cricketstories', '#bcci', 'Ulti', 'Ginti', 'Shuru', 'â\\x80¦', 'Waqt', 'Chaal', 'awesome', 'Kholi', 'captainship', 'dilya', 'kholi', 'ajke', 'sakshi', 'As', 'Khaali', 'Haath', 'Aaye', 'Legend', 'binny', 'dhavan', 'khiladi', 'sachin', 'Sandooko', 'Kaam', 'Every', '#Captain', 'Honi', '#retirement', 'Khudi', 'buland', 'delivery', 'pooche', 'raza', 'era', 'Cngrts', 'VK', 'rkhna', 'criktr', '#WorldCup', 'jita', 'smjdaar', 'Cheeteh', 'baaz', 'decisions', 'sandeh', 'maat', 'position', 'odi', 'marenge', 'marwate', 'Itani', 'jao,', 'illegal', 'khulkar', '#UCC', 'tataf', 'dhol', 'bajate', 'zabardast', 'shuruaat', 'aadat', 'vishwash', '#Captaincy', 'chhor', 'somebody', 'tell', 'FALSE', '#soravgaguliy', 'paresident', 'YOGRAJ', 'SINGH', 'misbah', 'sikh', 'saahab', 'sambhaavit', 'dukhi', 'Dravid', 'VVS', 'Laxman', 'leejiye', 'usulo', 'takrana', 'jarruri', 'yade', 'bhuli', 'nnhi', 'dilaya', '@anjanaomkashyap!!!#TripleTalaq', '#SpecialReport', '#AOK', 'jesi', 'nehilove', '#MSY', '#DETHRONED', 'nah', 'parivartan', 'finisher', 'khitaab', 'Captainship', 'krdi', 'mene', 'magicition', 'captancy', 'crush', 'shaddi', 'Aasha', 'Lodha', 'saaheb', 'sambandh', 'hatke', 'hameshaa', 'jhatke', '#TeamIndia', 'odd', 'jadega', 'bht', 'Ghatiya', 'loves', 'Daaru', 'kumi', 'Rotlu', 'Fans', 'Gum', 'Pite', 'Thakur', 'Agla', 'banna', 'Pujara', 'tali', 'bajane', 'Jadeja', 'forget', 'lele', 'dilaa', 'Gangaa', 'dheeraj', 'Himalay', 'seena', 'Sone', 'chaandi', 'keemti', 'paseena', 'Maahiyaa', 'rula', 'memories', 'nahy', 'hosake', 'derahe', 'Mardon', 'joo', 'nayee', 'liyee', 'kregee', 'raaz', 'IPL', 'paunga', 'aaram', 'paega', 'Sakshi', 'chodni', 'paged', 'step', 'indias', 'sriniwasan', 'aab', 'chela', '@CNNnews', 'gadho', 'salman', 'matches', 'Jao', 'hoi', 'through', 'naaki', 'whatsapp', 'krke,', 'chitthi', 'gharelu', 'hinsa', 'maarna', 'Kyon', 'Bomb', 'girate', ':/', 'Abey', 'Jyada', 'senty', 'Advani', 'duria', 'Bengal', 'Aa', 'Baduria', 'Gari', 'Petrol', '#WestBengal', '#NotInMyName', '#RahulGandhi', 'papuva', 'reopen', 'holidays', 'gone', 'com', 'TimesNow', 'status', '/883255775837044736Â\\xa0â\\x80¦', 'budhi', 'budhimani', 'sharma', 'Nani', 'madarchod', 'khandan', 'baitho', 'angrezi', 'bhadiya', '#INC', 'aajtak', 'kamjoor', 'israel', 'chote', 'mose', 'rahana', 'LAGTA', 'JAB', '46', 'SEATS', 'CHALE', 'JAYEGI', 'TAB', 'TAKAT', 'CHALEGA', 'planning', 'Mahapanchayat', 'Madhya', 'Pradesh', '9', 'onwards', 'emaa', 'karva', 'àª\\x95à«\\x8bàª\\x82àª\\x97à«\\x8dàª°à«\\x87àª¸_àª¹àª¾àª°à«\\x87_àª\\x9bà«\\x87', '#bjp', 'lucky', '27', 'Haar', '#Rajbabbar', 'badee', 'ummeden', 'Murga', 'anda', 'condition', 'hathi', 'akho', 'dhul', 'dhadam', 'gaddha', 'gaddhe', 'cycle', '#JaiRamji', 'Mummy', 'rokna', '#Rock', '#JasonStatham', 'khulte', 'Bhaisahab', 'launch', 'relaunch', 'hongae', 'YAD', 'KARO', 'DIWALI', 'ROCKET', 'PHUS', 'JATA', 'SAMJAE', 'gst', '28%', 'ch', '**', 'tiya', 'bolti', 'bhure', 'mehaj', 'cartoon', 'rakhdi', 'chamcho', '@abpnewstv', '#Rahulgandhi', 'spotted', 'Dhabli', 'bjate', 'during', 'rath', 'Agarwal', 'Britain', 'burka', 'uljhe', 'blunder', '#rahulgandhi', 'Samhal', 'parivaar', 'aarthik', 'mrityu', 'kagaar', 'chot', 'already', 'ummedwaar', 'milenge', 'rajeev', 'otherwise', 'gadha', 'bachcha', 'watchman', 'row', '#Rammandir', 'shark', 'size', 'ghotala', 'porkho', 'zabab', 'duty', 'acepted', 'kiziye', 'immatured', 'advertise', 'matured', '#RahulVHPAlliance', '#Vadra', '#Hugplomacy', '#SelfGoal', 'mangane', 'Aisi', 'paoge', '#ShameOnRahulGandhi', '#WEF', '#Davos', 'Purani', 'bharti', '1246', 'fees', 'lea', 'ekattha', 'tareeke', 'khojh', 'soya', 'jagaya', 'acting', 'jagaa', 'nani', 'susuri', '#NaniYaadAyi', 'Chief', 'rajnetik', '#SandeepDikshit', 'remark', 'daalte', 'humen', 'daalna', 'sharia', 'sajaa', 'paá¹\\xadhar', 'maarne', 'Rahulji', 'challange', 'Challange', 'platform', 'rashtragan', 'jokes', 'sunne', '...!!!', 'Sahid', 'karbi', 'huen', 'ei', 'hatya', 'Gandhi', 'mitaana', 'chaahta', 'RJD', '@laluprasadrjd', 'factory', 'aloo', 'uga', 'detain', 'patharbaz', 'hureate', 'Walo', 'Milte', 'Rehte', 'kin', 'Raajpooton', 'karara', '#Vultureofpolitics', 'bhiwandi', 'malegaon', 'mubarak', 'batati', 'shroowat', '#TripleTalaqBill', 'really', '#dangerous', '#women', '#childrenrights', '#HumanRights', '#shariat', '#Islam', '#religion', '#Shaheed', 'jaya', 'Divide', 'Rull', 'Mat', 'Bhul', '#Saharanpur', 'jaana', 'rehkr', 'pidito', 'mafi', 'inse', 'kch', 'Papua', 'khichwane', 'Kasam', 'congras', '@AmarUjalaNews', 'puchega', '#Gathbandhan', 'Jinke', 'jyda', 'mitron', 'Ganga', 'Kushinagar', 'Kisaan', 'insecticide', 'bottle', 'sochta', 'jaaun', 'atmahatya', 'karlun', 'kisaan', '#Modiji', 'Ibobiji', 'Naga', 'Accord', 'Modji', 'Imphal', 'AISA', 'Gadha', 'behind', 'gore', 'chitte', 'Hare', '#AzaruddinOwaisi', 'greenery', 'h;', 'Paan', 'h!Matlab', 'lagaoge?', '#TripleTalaq;', '#Halala', 'Gandangi', 'Mitane', 'Bolotab', 'Insha', 'karza', 'kahiye', 'Mallya', 'Deoria', '104', 'Sattelites', 'Chhorne', 'Puncture', 'Cycle', 'Dhakka', 'Rahey', 'degradation', 'reason', '#Buddha', 'Su', 'karela', 'Dharasabhya', 'kari', 'sakse', 'viral', '@rjraunac', 'pariwaar', 'dubo', 'sensibility', 'Yuva', 'sathiyane', '#JonSnow', 'banaane', 'Eventually', 'chodke', 'aasan', 'Gathbandan', 'Cong', 'revival', 'hopayega', '#namonitish', 'dhoka', 'rahkar', '#BiharWithTejashwi', 'doremon', 'swaarth', 'vyakti', '#NitishKumar', 'badhega', 'ulta', 'reha', 'ISYZmzEneg', 'vul', 'cal', 'Nitish', 'Gandi', 'Sabak', 'sikhayegi', '#LaluPrasadYadav', '#Nitish', 'Safal', 'darne', 'jaururat', 'oh', 'naubat', 'rab', 'tph', 'atke', 'zara', 'records', 'nikalkar', 'loota', 'Isliye', 'luksan', 'GDP', 'growth', '#Chidambaram', 'jignes', 'mevani', 'unar', 'khalid', 'Does', 'wants', 'divided', 'taunts', 'Database', 'Haramkhor', 'lad', 'Tukde', 'Deshbhakt', 'Nehru', '2018', 'lna', 'young', 'lokpriya', 'jnta', 'sunti', 'damdaar', 'varsho', 'Hardik', 'patel', 'Alpesh', 'Shehela', 'Rashid', 'indirectly', 'punch', 'karvayega', 'drohiyo', 'banenge', '#Pune', '#MaharashtraBandh', '#ShilpaShettyKundra', '#SalmanKhan', 'walmik', 'jaatiwachak', 'shabdh', 'jante', 'jativad', 'pase', 'rahihe', 'bewkuf', 'naii', 'sune', '#JigneshMevani', '@jigneshmevani', '80', 'Omar', 'Khalid', '#BhimaKoregaonViolence', '#Maharashtra', 'British', 'maze', 'selfie', 'gujarat', 'massage', 'banta', 'ghandi', 'Apase', 'Request', 'Etali', 'rekh', 'chhore', 'iskeliye', 'Narender', 'Sonia', 'rakhe', 'While', 'Baarathi', 'Bajayenge', 'baaja', 'mitr', 'legal', 'cahtey', 'PAPPU', 'kolek', '@ANI__news', 'withdrawal', 'siddhart', 'jhuta', 'thahraoge', 'night', 'majburi', 'Mahatma', 'Majbuti', 'lagne', 'chukana', '#bhim', 'copy', 'darna', 'bhencho', '#makeinindia', '#Prabhu', 'bharose', '#Rail', '#BulletTrains', 'Bagalme', '#Japan', 'badhao', 'desi', 'NHi', 'tiger', 'Hospital', 'tootenge', 'kaum', 'Baaki', 'sage', 'dharam', 'thage', 'Chini', 'terah', 'jaante', 'bikne', 'thug', 'Because', '1499', 'feature', 'chalao', 'chinese', 'boycott', 'LIFE', 'BANANE', 'SE', 'SAAL', 'NIKAL', 'JATE', '#Tripletalaq', 'jaldibaaji', 'file', 'manager', 'Hahhaa', 'sanskari', '#amitshah', '#Kerala', 'dauure', 'samband', '???.', 'Peace', 'brothehood', 'purpose', 'Inka', 'material', 'RamDev', 'satya', 'Satya', 'Hindi', 'buy', 'trade', 'aayegi', 'pahuch', 'huaa', 'Kamal', 'j', 'maulavis', 'loudspeaker', 'azan', 'humhare', 'ladne', 'bewajh', 'dharmkithekedari', 'missiles', '#MakeinIndia', 'whi', 'jha', '#ModiSir', 'sapne', 'zaruri', 'vyapam', 'gawahon', 'auretc', 'kay', 'Asset', 'doosri', 'sati', 'pratha', 'phr', 'bandho', '#saynotocorruption', '#timetochange', 'dummies', 'kahne', 'jumle', 'baazi', 'umeedo', 'Love', '#Smart', 'City', 'Raag', 'chah', 'try', '@ChouhanShivraj', 'karwlo', 'krtey', 'kissano', 'rahat', 'Sahii', 'Benchooo', 'haatho', 'photoshop', 'Bullet', 'sarey', 'currption', 'rashtrwadi', 'joi', 'SaalBemisal', 'fauj', 'Sudhir', 'maharathi', 'unake', 'bhav', 'doge', 'Hope', 'Aapse', 'prarthana', 'aarah', 'RB', 'Rathor', 'bhee', '#MAKEININDIA', 'agee', 'ekbar', 'sunle', 'Made', 'Italy', 'ajtak', 'invalid', 'wife,', 'rehti,', 'balki', 'hojati', 'Piles', 'doctor', 'vyavasay', '#RoGaarYojna', 'tahit', 'Hardick', 'subecha', 'Rakshak', 'Raksha', 'Usi', 'Product', 'Maan', 'lubhawan', 'badhawan', 'decesion', 'khatare', 'ganti', 'bajawan', 'tal', 'nibhawan', 'Namo', 'iPhone', 'badd', 'Babbarsher', 'initiative', 'dolt', 'udaate', 'Jaunpur', 'Gudgaon', 'Timbuktu', 'bhaisaab', 'Seedhe', '#MadeInChina', 'khreedo', 'railways', 'bhrosa', '#whatsappdown', 'american', 'bhagte', 'Make', '@hikeapp', 'awaaj', 'smbhaal', 'rae', 'chize', 'Gurgaon', 'electricity', '#TransformingIndia', 'utpat', 'bharth', 'chahiy', 'computer', 'Tatti', 'tatti', 'portal', 'blue', 'whale', '@PratikDarjee', 'global', 'yogi', 'tantra', 'vyarth', 'print', 'kiosk', 'lagaygi', 'bachpan', 'adult', '#INSKalvari', 'Waitin', '#Mitron', 'kendra', '#JihadinWorld', 'nacho', 'pi6e', 'pargaya', 'sab,', 'shantiduto', 'usiko', '@MeenaKalasuva', 'Biggst', 'Achievemnt', 'jihad', 'Moon', '@NitishKumar', 'jamin', 'kabja', 'croro', 'dekhiye', 'larai', 'Vivo', 'advertisement', '@HardikPatel', 'concept', 'sarkat', 'laya', 'khudka', 'coat', 'pehna', '#FFYT', 'Certification', 'Program', 'local', 'chlta', 'tripple', 'transfer', 'automatically.', 'kharcha', 'jayenge.', 'idiot', 'charging', 'stations', 'doh', 'Gaadi', 'charge', '#MakeEducatedIndia', 'programme', 'programm', 'aurJo', 'upbhog', '@#MakeInIndia', '#iss', '#Bharat', 'Sif', 'chaska', 'infra', 'Nationalism', 'gaumutra', 'Agr', 'chodne', 'jrurat', 'rhegi', '#padmavati', 'yuva', 'prathnidhi', 'chhatraneta', 'utne', '#narendramodi#u', 'gundo', 'udaiye', 'sawarne', 'vali', '#AntiMuslimWomenCONG', '#naishhaasan', 'keha', '#politician', 'chahati', 'raajniti', 'sakne', 'lite', 'Pakudee', 'prashikchand', 'aguaee', 'phale', 'rojgar', 'samashya', 'sudharo', '@', 'zeetv', 'pkode', 'bechta', 'Business', '#Vikas', 'M', 'meter', 'EJ', '330955044', 'IN', 'karwae', 'Nayak', 'Gaon', '#DigitalIndia', 'bideshi', 'bail', 'Bhayio', 'jayega..', 'tumlogo', 'takat', '..Nhi', 'bitar', 'Jharkhand', 'industries', 'incentives', 'utpad', 'quality', 'sanrakshan', 'hamesa', 'puchata', 'khata', 'tuze', 'samajhadaar', 'innings', 'Dukan', 'hogai', 'diesel', 'Gas', 'ghabrahat', 'CONGRESS', 'APNEE', 'GUNAAHOO', 'WAJAH', 'MUKT', 'HUI', 'HAIN', 'BHARAT', 'DOOSROO', 'BAANEGA', 'judges', 'independent', 'samvidhaan', 'oopar', 'congratulations', 'Janata', 'ungaliyone', 'aapake', 'mw', 'Rita', 'anya', 'netaon', '#Mannkibaat', 'talent', 'bajaya', 'Baja', '#FunKiBaat', 'Bajao', 'netayon', 'dholak', 'NIMBU', 'JUICE', 'PI', 'DEKHO', 'DAANT', 'KHATTE', 'JAYENGE', 'divyango', 'slams', 'says', 'Enough', 'Do', '.', 'samajta', 'bolunga', 'padoge', 'ModiGG', 'soja', 'tarha', 'oor', 'pehal...', '#Hawas', '#ShashiTharoor', 'gonna', 'cross', 'limits', 'sunna', 'chaahte', 'manlo', 'bullet', 'khilao', 'citizen', 'ashleel', 'foto', '#molestation', 'monkey', '#AusGP', 'Rishta', 'Kehlata', 'Dadi', 'warns', 'Swarna', 'stay', 'Kartik', 'Zindagi', 'partner', 'Zaroori', 'Radio', 'Pad', 'machaa', 'Deputy', 'Sahab', 'accaha', 'zaara', 'karm', 'karei', 'faal', 'ichaa', '#JantaSaabJanti', 'wt', 'Hmne', 'Kdar', 'Chhod', 'Life', 'Samndar', 'Sala', 'Bha', 'Himat', 'Mje', 'purane', 'feku', 'ribon', 'kaatne', 'Typographical', 'lo!', 'Bill', 'karvane', 'hain!', 'Besieged', 'beseeched', 'joh', 'handle', 'editor', '#MerriamWebsterDictionary', '#OxfordDictionary', 'voters', 'cr', 'mann', 'does', '#DilSe', '#BJPJumloKiSarkar', 'Karta', '#rss', 'karvata', 'sunaya', 'toffee', 'zid', '#aap', 'audio', 'cut', '#ElectionCommission', 'mine', 'Khaana', 'laaya', 'Bag', 'biryani', 'paddi', 'Baby', 'ier', 'azaan', 'Sar', 'mundwalenge', 'hoge', '4429', 'Kat', 'vacancy', 'transparency', 'yesa', 'devta', '#rrbntpc', 'proofs', '@rsprasad', 'Jal', 'tuje', '..#ShameonRavishankar', 'Retweet', 'jii', 'Surgical', 'Ravan', '#Jumla', 'Cats', 'haina', 'Products', 'Naha', 'chhoriye', 'Gun', 'pakistano', 'Support', 'Age', 'Badhte', 'Success', 'Ussi', 'Milti', 'Neck', 'Jhatka', 'Naash', 'Chad', 'Jani', 'modji', 'sunn', 'niral', 'mutna', 'chunni', 'Jawaan', 'sunday', 'Sunna', 'radio', 'firr', 'dummy', 'tabiyat', 'fekk', 'ummid', 'ak', 'banayeg', 'ujjvla', 'labh', 'krhi', 'aai', 'jayda', 'middile', 'karib', 'pidda', 'mahsus', 'Badal', 'safai', 'different', '..:)', 'kyoki', 'paet', 'tavi', 'food', 'grans', 'jamien', 'koshis', 'Lokpal', 'naxali', 'aatankwad', '#SamratModi', 'Mahan', 'Unhone', '#TeenTalaq', '#muslims', '#education', 'zalim', 'hua?', 'rent', 'face', 'padti', 'kiraya', 'books', 'savi', 'costly', 'NCERT', 'pra', 'Force', 'equal', 'suvidha', 'Kitni', 'Successful', 'Jarur', 'Ayega', '#Cartoon', 'Channel', 'Sunte', 'Likhte', 'Likhwaate', '#nidhirazdan', '#NDTVRaids', 'Tutne', 'Futne', 'Nimboo', 'Cut', 'Layak', 'Bacha', 'Shardi', 'Esa', 'Pheli', 'Dekha', 'Jisne', 'Balling', 'Fielding', 'Lakin', 'Batting', '319', 'Bante', 'Dikh', 'hilight', 'pratikriya', '#Doubt', 'DL', '324', 'Diye', 'kissan', 'rajsthan', 'bhastacharse', 'pidithu', 'Shanta', 'pyarchand', 'mandot', 'chitamba', 'bhilwada', '8000054910', 'viswaas', 'PHD', 'rahogey', 'mitorn', 'sunoge', 'Here', 'fathers', 'Pardesh', 'updesh', 'Banayega', 'asliyat', 'chood', '-2', 'najidik', 'Banjara', 'Dharm', '#aamjanta', 'savdhan', 'adhikaro', '#monkeybaat', 'bolege', 'khte', 'pidi', 'Ladki', 'thda', 'GIRLS', 'SECURITY', 'aae', 'chupe', 'saadh', 'lijiya', 'mainy', 'gareb', 'deka', 'bhekh', 'thy', 'puchny', 'bachchy', 'Mujhy', 'unhy', 'jabarjasti', 'mangbai', 'inform', 'bekh', 'mangty', 'Remembering', 'Jaani', 'seese', 'gharo', 'feka', 'learnt', 'understood', 'jikske', 'nayayparnali', 'janha', 'nayay', 'shoshan', 'chaai', 'dukaan', 'zyyada', 'badne', 'jayiyo', '#sadahuabandar', 'Saraswati', 'Kunj', 'members', 'Nyaya', 'Indiamission', 'warse', 'Ahwazhai', 'group', 'majbooti', 'majboot', 'thakat', 'mission', 'Indiahai', 'Yani', 'mandir', 'contract', 'jaaega', 'dange', 'jaaenge', 'board', 'minutes', 'deep', 'go', 'Shatru', 'bagawat', 'Shukriya', 'sunta', 'sbke', 'chchakkr', 'Mast', 'sochni', 'namo', 'Retweeted', 'PMO', '):', 'sopport', '@VijayGoelBJP', 'karawal', 'Nagar', 'Bhot', 'Ambulance', 'sai', 'PA', 'promise', 'candidate', 'deko', 'Ganda', '280', 'characters', 'jaaney', '#MannKibaat', 'nhai', 'aankhon', 'bawaseer', 'jehad', 'romeo', 'squad', 'ram', 'Taj', 'mahal', 'sardi', 'bhet', 'jhar', 'pochh', 'Tin', 'bitane', 'parvah', 'bdbole', 'promose', 'Aiims', 'thikana', 'Kyunke', '#lollipop', '#jawan', '#kisan', 'kosko', 'At', 'least', '#Gorkhaland', 'agitation', 'Kiske', '@rahulkanwal', '#WhoCalledRahulKanwal', '#ConclaveEast', 'Puch', 'upper', 'Sant', 'rampalji', 'shirecharno', 'aasirvad', 'modiaaj', 'anyay', 'horha', 'juthe', 'bapuji', 'modimonhai', 'kaane', 'Festival', 'ruke', 'nahia', 'jawabdehi', 'Saint', 'Rampal', 'CBI', 'chura', 'liya.', 'talaq,', 'mandir,', 'vikas,', 'appeasement', 'kucchh', 'jatiwad', 'gatha', 'ksa', 'Samajik', 'sudar', 'dabaya', 'sunlo', 'justice', 'saint', '@SatlokChannel', 'gaurakchak', 'RSS', 'worker', 'bakhto', 'Liya', 'gareebi', 'mit', 'RAMPALJI', 'unper', 'wrong', 'jach', 'karaegi', 'BHY', 'avega', 'dharti', 'upr', 'kes', 'riha', 'chata', 'ayaga', 'SANT', 'Plz', 'Daily', '7,40', '#satgurrampalji', 'galt', 'kere', 'humko', 'vishwas', '@om', '@aajtaknews', 'Religious', 'daayare', 'dekne', 'kub', 'kalma', 'Qubul', 'kare?!', 'Rajneeti', 'jawo', 'parmarthi', 'mahinonse', '#satgururampalji', 'bagato', 'recording', 'karvaye', 'nyay', 'insaaf', 'umeed', 'investigation', 'Samne', 'ayega@narendramodi', 'smaaj', 'buraiyo', 'daak', 'sisyo', 'jaano', 'mnn', 'Ak', 'chahti', 'aapji', 'wajase', '690', 'Cbi', 'janch', 'karao', 'takki', 'jothe', 'aapane', 'wakahime', 'manki', 'karwayahe', 'pap', 'Rastra', 'lathiya', 'asugas', 'vah', 'dhikarenge', 'Santrampalji', 'sachcha', 'karnewale', 'Followers', 'Suni', 'woo', 'Pm', 'sata', 'santji', 'dhikar', 'janamte', 'billi', 'charon', 'Kutte', 'duum', 'seedhi', 'hoti.', '@INCindia.', 'PTA', 'shajish', 'apradhi', '33', 'jasa', 'Dosi', 'Garhwali', 'Dete', 'Maharaj', 'Nirdos', 'Nadio', 'banai', 'jay', 'Jisse', 'flood', 'hani', 'kishan', '#Kanhayya', '#IndianArmy', 'dhappa', 'Madarchod', '#surgicalstrike', 'maiyya', 'chuda', 'funny', 'behtr', 'manga', 'Tuchche', 'aukaat', 'dikhaate', '#YouTube', 'Need', '@RubikaLiyaquat', '@AkhileshPSingh', 'jents', 'PHIr', '...???', 'ask', '#AntiRomeoSquads', 'minorities', 'mardana', 'kamzori', 'treatment', 'Hakim', 'hai@kauserseema', '@alamgirizvi', 'Aunties', 'kahti', 'Apka', 'chora', '#Cigarette', 'pi', 'azeeb', 'kathore', 'Wale', 'darpok', 'dara', 'nidar', 'Shi', '@kamina', '__', 'chhora', 'daikha', 'Nay', 'Helicopter', 'Say', 'lade', '#surgicalstrikes', 'peeth', 'thapthapane', '#tejbahaduryadav', 'bsf', 'Laden', 'pakda', 'Bachpan', 'hu,', 'background', 'consistency', 'Ghazab.', 'simple', 'Hahahahahahaha', 'Tamasha', 'lagvao', 'Jhooth', 'Mallik', 'chehre', '#DeMon', '#NIAHuriyat', '#ZakirNaik', '#Benami', '#TrippleTalaqBan', 'ghaav', 'ghinone', 'mooh', 'Aiyyar', 'DeshDroh', 'MaaiBap', 'HP', 'Jumlo', 'tej', 'rallies', 'onke', 'fekne', 'bahrosa', 'karen', 'SAALA', 'SAB', 'BUSY', 'AAGE', 'BHADANE', 'LOL', 'KHANOON', 'lets', 'agent', 'deshdrohiyo', 'paridam', 'manti', 'yeto', 'pdi', '#chutiyaThoughts', 'dubai', '80%', 'indain', '#Champions', '#PakistanZindabad', 'Besharmi', 'makkari', 'pet', 'pregnant', 'isay', 'khehtay', 'dunya', 'chitrol', '#BaapBaapHiHotaHai', '@SushmaSwaraj', 'iKZI', 'Vrcit', 'BAAP', '#PAKISTAN', 'kehtey', '#Glorifyingwinningmoment', 'attention', 'divert', '#PakWinCT', 'gHuskar', 'ghul', 'chatai', 'motrma', 'ej', '#IndVsPak', '#surgicalStrike', 'Border', 'hindustaniyo', 'protien', 'Roti', 'mangoge', 'Pizza', 'Denge', 'Mangoge', 'Nipta', '#IshratJahan', 'maloom', 'till', 'avhi', 'Bike', '#UriAttack', 'fujio', 'kashmiryo', 'Ny', 'Must', 'haarte', 'gaa', 'Aree', 'hatehali', 'Dala', ';)', 'jinhine', 'baaji', 'lagai', 'badiya', 'maangne', 'premi', 'xX', 'W', 'kC', 'yaken', '#israelwelcomesModi', 'Tumare', 'fasal', 'kisan', 'aaba', 'pathi', 'sil', '36', 'isis', 'terririost', 'afghanistan', 'hamne', 'aatankwadi', 'waste', 'Faasi', '@Ankita', 'reaction', 'kucch', 'separatist', '#Surgicalstrike', '#AmarnathYatra', 'condemn', '#AbkiModiSarkar', 'Action', 'unpe', '26/11', 'Zyada', 'yaah', 'bhejkar', 'Exactly', '@ImMASKK', 'boliye', 'ho......', '#jha', 'Barha', 'humse', 'panga', 'By', 'phorh', 'utube', 'mast', 'peetne', 'moka', '#pakarmy', 'barastey', 'garjtey', '#Notbandi', '#PatharbazStike', 'dikhaiye', 'Paas', 'Developmnt', 'Chod', '#Demonetization', 'Tak', 'Missile', 'Daage', 'Arry', 'dey', 'rehne', '@FarhanZahoor', '124', '150+', 'paratroopers', 'agye', 'gand', 'ICJ', 'deny', 'stages', '.-', 'unhi', 'ghoomte', 'thhe', 'bahubali', 'badle', 'Prasar', 'Bharti', '@sunilalagh', 'Samir', 'Nair', 'CEO', 'Balaji', 'bharte', 'Paoon', 'sambhalay', 'Jatay', 'Atom', 'Chalaingay', 'noyG', 'xRZKZ', 'bhaio', '#TTKSawal', 'process', 'Quran', 'hisab', 'Maulana', 'fatweh', 'uney', 'shariah', '#SurgicalStrikes', 'Pak', 'Aatankwad', 'KaaleDhan', 'TTT', 'Naxal', 'Vipaksh', 'Scams', 'Chichha', 'bigadey', 'Mitroon', '1000,500', '#surgicalStrikes', '#naaPakis', 'kabar', 'khodni', 'padegi', 'Bharati', 'General', 'Interview', 'Mabni', 'Qisam', 'Qamar', 'Javed', 'Bajwa', '#Pathankot', '19', 'tabaah', '@BJP', 'JYJPMrWZrc', '#taalthokke', '#DNA', '@akshaykumar', '#uriattack', 'kul', 'ego', 'yha..', 'F', 'every', 'sorties', 'karata', 'casino', 'mandovi', 'karayega', 'manifesto', '@manoharparrikar', 'hat', 'rkhi', 'usee', 'asr', 'kavivar', '#kumarVishwas', 'Beghairaton', 'bhonkty', 'rehty', '#IndianMedia', 'WfjO', 'AeB', 'fer', 'Gobhi', 'khod', 'karwayenge', 'Saaar', 'Akhand', 'Chu', '$~>', 'Bhagwan', '#POK', 'Pahli', '#kasganj', 'bastiyon', '#AdarshLiberal', '#secular', '#intellectuals', 'sawaal', 'uthae', '#RainCoat', 'pehen', 'Economist', 'dehat', 'ye...', 'hmlog', 'category', 'alvida', 'dosto', 'Kahna', '#UPKeLadke', 'pataa', '#Elections', 'Proof', '@AAPforINDIA', 'zut', '@YesIamSaffron', 'Dalal', 'gei', 'doglepan', 'hadh', 'Porkistan', 'aayaa', 'dekhen', 'bhoolen', 'Jasodaben', '/26', 'gwzV', 'NlN', 'Usne', 'Kapil', 'Jisko', '#NDTVFrauds', 'Cup', '#ghanta', 'Canada', '#paki', '#chutiye', '#PrecisionStrike', 'Manga', '#GhatiyaAadmi', 'Sathiya', 'prblm', 'hoge...', 'Leki', '#banOnMPL', 'Hafiz', 'Saeed', 'complete', 'surgery', 'dekhai', '#ct', 'padai', 'likhai', 'zoro', 'Sarfaraz', 'english', '#indvspak', '#bleedblue', 'Sharmindagi', 'Modiya', 'huyi', 'Saboot', 'Sharminda', 'haarne', '#INDvPAK', '#CT', 'leken', '#IndvsPak', '@ArvindkejriiwaI', '#StarSports', 'cheerharan?', '21st', 'Mahabharata', 'awry!', '#sonunigam', 'yuvraj', 'ghayal', '@DDNational', '@Sehwa', 'sina', 'tokh', '#TradebanPak', 'uthrahai', 'KASHMIRYUVA', 'JOIN', '#BharatiyaSeNa', 'harane', 'Prove', 'parega', 'GOA', 'paayi', '#palletgun', 'einase', 'durghatana', 'bhali', 'Kadi', 'Dont', 'Uttar', 'shaandaar', 'chakka.', 'Uniform', 'Civil', 'Code', 'lao.', 'ho!', 'mMgchqODA', 'Shurwat', 'Watch', 'liay', 'OK', 'Wesy', 'Gay', 'Bht', 'Bam', 'Pate', 'Ga', 'Endia', 'Bom', 'Coming', 'hahahahah', 'Kry', 'Gy', '#Endia', 'Pr', 'Dekhaye', 'Kesy', 'Strike', 'Endian', 'Long', '#PakArmyZindabad', 'questions', 'robot', '#PakistanMeinGussKarMaro', 'aayu', 'sardar', 'kahein', 'iccha', 'seema', 'remember', 'balidaan', 'jaiga', 'Duniyan', 'loha', 'gadaro', 'deshdrohio', 'tolly', 'hahakar', 'dusman', 'chipa', 'dar', 'saham', 'natak', '@adgpi', 'Keh', '#Kejriwal', 'jhel', 'zarye', 'gujarat ', 'Riot', 'PAAP', 'Praschit', 'karwabe', '#Muslim', 'Awsar', 'Rahe.', 'Taqatwar', 'Muqaabla', 'Sktay', 'Usay', 'Door', 'Wata', 'Maar', 'Nas', 'Parrikar', 'strikes', 'Digvijaya', '#Parrikar', '#Goa', '#Digvijay', 'Saheed', 'Hote', 'Rahenge', '@HMO', 'Sikhane', 'Mange', 'More', 'appka', 'gyaan', 'Nirupam', 'bayaan', 'bahes', 'Atankistan', 'avi', 'issey', 'bika', 'beimano', 'tumhi', 'thena', 'Emotion', 'Divorce', 'usshme', 'matvate', '/Rajnetic', 'Mahilayo', 'sharaph', 'roke.', '#HTP', 'mange', 'gunssa', 'satve', 'aasman', 'dr', '/30', 'gdFJuiTT', 'aakroshit', 'pkda', '#SukmaAttack', '#kupwara', 'sahaj', 'revenge', 'girebaan', '..??', '#CorruptSystem', '28', 'sept', 'Dhamaal', '#American', '#Army', 'dare', '#Naxalites', 'lnCinema', 'DayaMehar', 'chance', 'pocket', '1857', 'ked', 'nailed', 'Latkhor', 'hau', 'damdar', '1947,1965,1971,1999', '#Surgicalstrikes', 'Mallikarjun', 'Kharge', 'LS', 'relationship', '#Mariyam', 'Sarif', 'popular', 'rahaa', 'ruko', '#IndiaFreeCongress', 'Nari', 'Intzar', '#StopTrippleTalaq', 'Sayad', '#BMCresult', 'mangta', 'PMKO', 'rahahain', 'Afridi', 'Ashwin', 'Looks', 'laato', 'bhoot', 'baato', 'maante', 'DO', 'DARE', 'TO', '#SURGICALSTRIKE', 'ON', 'CHINA', 'Blind', 'aapiyon', 'YouTube', 'upa', 'aapiya', 'keval', 'afwah', 'pahunch', 'wiping', 'LSsNplxQ', 'jaison', 'Karan', 'defence', 'varosa', 'pahna', 'Khisiyani', 'khambha', 'noche', '#TerroristanPakistan', 'parts', 'taiyari', '#Kargil', '1965', 'Galib', 'biwi,', 'bahu', 'hai.....', 'Christmas', '5...', 'Patni', '#salaamindianarmy', 'Commandos', 'Sima', 'Ghus', 'Aatanki', 'nrajXy', 'HnQ', 'Pakisthan', 'Shoes', 'Dekhe', '@kumarsamir', '214', 'Darr', 'Block', 'camp', 'bahari', 'Andar', 'Gadaar', '#AAPhole', 'sawal', 'khasi', 'banayi', 'etni', 'aasani', 'mitne', 'badlav', 'almost', '#MPs', 'malum', '#public', 'aazad', 'Bhaiyya', 'Gulam', '(congress)', 'kyoun', 'doonda?', 'auratei', 'entertainment', 'samaagri', '#pak', '#napak', 'irado', '#ind', 'laadle', 'bajaate', 'bhakts', 'yGHbxVAvBr', 'dek', 'dye', 'kaheen', 'ly', '#PakistaniArmy', 'muhtod', 'AAPiye', 'conGOONS', '#ModiWeakestPMever', '#pakistan', 'haven', 'heard', 'long', 'sukud', 'baad,', 'kade', 'banaiye,', 'problem.', 'bakhts', 'puray', 'shour', 'Leta', 'Maut', '#BadlaLo', 'Lete', 'Credit', 'Rajnitik', 'Rotiya', 'Sekni', '#Poonch', '#AwardWapsiGang', 'jeep', '@TrollKejri', '#SanjayNirupam', 'without', 'proff', 'joint', '@RSSOrg', 'Arop', 'Malegaon', 'unk', 'kud', '#MumbaiTerrorAttack', '?7', 'Otr', '#SivsenaBuildingBlast', 'Impact', '#SurgicalStrikeonBlackMoney', 'Terror', '#hafeezsaedjo', '#TAIMUR', 'allah', 'manata', 'principal', '#MumbaiTerr', 'Chinese', 'Tweets', 'Kamino.....', '#RamRahim', 'jakhm', 'khak', 'y', 'abhisav', 'bhule', 'Jese', 'unhen', 'dalal', 'ISI', '@AamAadm', '@yuvadesh', 'chay', 'Kuchh', 'pradhanmantri', 'bologe', 'kehnewale', 'DESHDROHI', 'ZAMAT', 'jut', 'hoke', 'juti', '@LambaAlka', 'ink', 'Khushi', '#Urdu', '@imshamsher', '007', '@Shaye', 'WhatsApp', 'admin', 'ea', 'vi', 'aapna', 'Phale', 'bej', 'vaise', '@KyaUkhaadLega', 'suhagraat', 'SSB', 'karuga', 'farji', 'sochege', '@HISTORYTV', 'jaali', 'Paytm', 'jiye', 'burnol', 'bhejhta', 'loved', 'Maksad', 'chhodna', 'inhone', 'aaj#surgicalstrike', 'ishwar', '8:30 ', 'jimedar', 'Vali', 'chahati??', '#MullonKidalali', 'Abba', '#SurgicalStrikesHISTORYTV', 'suni', 'aram', 'popcorn', 'isee', 'esi', 'atangwad', '#holi', '#diwali', 'Gud', 'morning', '#Diwali', 'Aas', 'Garibi', 'Ahsaas', 'Dila', 'Jata', '#Apple', '#dekho', '#Patanjali', '#almond', '#kesar', '#handwash', '#dosto', 'badam', 'kesar', 'biased', '#NGT', 'behnon', 'Bhakts,', 'Behen', '#HaryanaBurning', 'Race', 'remo', 'water', '#Holi', '#Hawa', '#Barkat', '#Aasiya', '#Bhook', '#Garibi', '#Subah', '#EID', '#Raat', 'Rang', 'Jaiye', 'sang', 'mjak', 'usnke', 'millions', 'panding', 'dikhte', '#Dipawali', '#jalicattu', 'pasuo', 'khao', 'savidhan', 'Vahhh', '#ZeeNews', 'melord', 'patang', 'udane', 'hieght', 'Tay', 'Kayi', 'Socha', 'puchhlu', '#dipawali', 'Badnam', 'bain', 'Google', 'PE', 'daalein', 'Devgn', 'Nigam', '#azaan', 'noise', 'samajhna', 'matt', 'barre', 'pollute', 'behano', 'BABA', 'galla', 'fad', 'chlla', '@ajaydevgn', 'torture', 'makers', '#ROBOT', '2.0', 'hindi', 'belt', 'collec', 'Secular', 'taiyaari', 'Celebrate', '#MithaasKeRang', 'gehre', '#UPElection', 'jitega', 'vhi', 'friends', '#eid', '#biryani', '#sweets', '#bakrid', 'dhumdham', 'mnaya', '#light', '#Eid', '@chetan', 'bhagat', 'bolane', 'buddhijivi', 'mahajan', '#superemecourt', '#highcourt', 'fatwa', '#punjab', '#haryana', 'Metro', 'Auto', 'manmana', 'concrete', 'Plhe', 'jalaane', 'die', '#apnigaadi', 'MumbaiRains', '#STRAYDOGS', '#BakraEid', 'bakre', 'kaatenge', 'swad', 'â\\x80\\x98', 'Anarsa', 'â\\x80\\x99', 'anokhi', 'mithaii', 'Alag', 'texture', 'swaad', '@PoojaB', '1972', '#Festivals', '#Halloween', 'import', 'laaye', 'khelenge', 'Pani', 'opponents', 'patli', '20cr', 'Faisal', 'sunlte', '#RamRahimSingh', 'andh', 'bhak', 'desk', 'hundred', 'saani', '#watersaving', 'twit', '#Bollywood', '#Librals', 'NGOs', 'rahen', 'Taiyaar', 'record', 'todna', 'bonus', 'chhodke', 'Fursat', 'thread', 'khele', 'intellectuals', 'Window', 'seat', 'balloon', 'Gya', 'Wali', 'According', 'Fatwa', 'hypocrites', 'Quint', 'khelne', 'aatankwaadi', '..!!!', '13', '#HOLI', 'thwacha', 'kahelte', 'beauty', 'skin', 'colour', 'allergy', 'waterless', 'baatna', 'Gabbar', 'bataa', 'Rishte', 'Shahenshah', 'Guess', '@Dishoom', '#akshayapatrauk', 'ppl', 'numbered', 'eye', 'glasses', 'chashma', 'dikhna', '#Color', 'channels', 'celebration', 'DALIT', 'SAMAJDAR', 'BAHUTLOG', 'UMMED', 'THEE', 'BAHINJI', 'ISS', 'CRUSIAL', 'STAGE', 'GAREEBON', 'KUCH', 'PAISA', 'BANT', 'DENGI', 'PER', 'BANTA', '@radhacharandas', 'yashodaben', '#divorce', 'kaal', 'zariye', 'aaraha', 'karun', 'EVM', 'chedhchaad', '#mayawati', 'gulal', 'Gazab', 'bhagwa', 'color', 'Mano', 'akhilesh', 'Ramzaade', 'Jeet', 'DJ', 'Shopping', '#deepavali', 'Papu', 'breaking', 'congrats', 'Batyega', 'Wli', 'Light', 'Virodh', 'Ane', 'hai!!', 'Mahilaon', 'Sharia', 'God!', 'Outstanding', '#Lotsoflove', '@TheShilpaShetty', 'manai', 'Phone', 'Pollution', 'dhanda', '#festivals', 'LADKO', 'jalao', 'zero', 'kharaab', 'Manayi', 'Hey', 'guys', 'fode', 'Millions', 'Badhaiyaan', 'khushiyan', '#Bologuruji', 'simple.', 'Needs', 'replaced', 'Khadak', 'khadakane', 'khadakati', \"khidkiyan!!!'\", 'samajdaaro', '#minorities', '#pollution', '?????', '#hindu', 'kisika', 'bigada', 'tyohar', 'pabandi', 'kacheri', 'karani', 'padati', '#nocrackers', '#crackerban', '#DelhiNCR', '#now', '#mumbai', 'Bolo', 'Daag', 'its', 'phenk', 'crackers', 'hamla', 'environmentalist', 'khaskar', 'Shiksha', 'basic', 'shiksha', 'khalifa', 'First', 'edu', 'ush', 'failta', 'aazadi', 'Jalao', 'meva', 'Crackers', '#HappyDiwali', 'nuksan', 'bujargo', 'dogs', 'pakshio', 'vayu', 'jeevan', '#FestivalofLights', 'Pataakhe', 'chidd', 'lagakar', 'chauda', 'phodenge', 'Jupiter', 'Pluto', '#Crackers', 'challenge', 'burst', 'Aurangzeb', 'Aulaadon', 'asthma', 'Amir,', 'sharukh,', 'Salman', 'nhee', 'dete.', 'fekenge', '#ManKiBaat', 'Stay', 'tuned', '#FekuIsComing', 'madarchood', 'cracker', 'betichood', 'cars', 'phatake', 'Direct', 'Point', 'Karlen', 'Meherbaani', 'blog', 'adsense', 'karn', '@ZakaWaqar', '#WaqarZaka', '#Bitcoin', '#bitcoin', 'bigaada', '#cashless', 'karege', '../:', '#Blackmoney', 'ura', '#Ethereum', 'gudgudi', 'lgi', 'bhaging', 'Bitcoin', 'Kamaye', 'behtrin', 'Rasta', 'aakr', 'marjate', 'mardete', '#demonitization', 'crores', '#JaiHindustaan', '#ChildrensDay', 'chocolate', 'Waley', 'Bhaiyo', 'Guzarish', 'Paypal', 'Lagayen', 'GG', 'Dubai', 'Angel', 'priya', 'bit', 'coin', 'virtual', 'khareedna', 'seekhlo', 'Future', 'Bik', 'Gayi', '#BitCoin', 'nukkad', 'saturation', '#mining', 'Lagne', 'hojao', 'pesh', 'raazi', '#Jiocoin', '#KYC', '/2', 'dollar', 'Trading', 'sikke', 'Bitcoins', 'invest', '2010', '1.76', 'pheke', 'Unless', 'Gujrat', '1-1', 'dalwane', 'bitcoin', '#ERROR', 'pradhan', 'mantri', 'relay', 'mulsman', 'hai,khatna', 'unka.', 'Bohat', 'Kutti', 'Rat', 'leagal', 'tender', 'amaanya', '#Scheme', '#Scam', 'Niklne', '@iamsrk', 'pakdi', 'Congrt', 'craze', 'Jinko', 'Bit', 'Ripple', 'Seriously', '#Hilarious', 'Prohibit', 'hauqe.', 'q?#uniformcivilcode', '#1desh1rule', '@Badlega_India', 'Tarike', 'Easily', 'bubble', 'Phle', 'tourist', 'maana', 'sbi', 'pockets', 'Pehele', '#kangna', 'pey', 'gobor', 'fek', 'marungi', '#Fraud', 'going', 'Guru', 'ghamand', '#fraud', 'scams', 'bane.taqi', 'kysa', 'Shame!', 'delivered', 'ship', '#TaxChor', '#MoneyLaundering', '#UPAGovt', 'Malai', 'khai', '?25', 'Anniversary', 'gumrah', 'software', '(9', 'APPS', 'worth', 'lalach', 'krwana', 'dikhanay', 'gaalian', 'Self', 'fulfilling', 'prophecy', 'rola', 'khaki', '#corruption', 'jaein', 'qatal', 'shahadat', '#GTRoadRally', 'arre', 'viru', 'didn', 'stalking', 'himayati', 'laalat', 'rishvat', 'hardwork', 'Harvard', 'ulloo', 'RBI', 'saakh', 'mitti', 'bhadda', 'khoode', 'battar', 'rakkha', 'unhe.', 's#stop', 'Loogoun', 'leye', 'caliber', 'chahiyea', 'calibri', 'gayea', '#JIT', '#PanamaCase', '#GONAWAZGO', 'Hahahahaahaha', 'Queen', 'Divyanka', 'promote', 'btati', '#Shame', 'journalism', 'likne', '#ChaukidarHiChorHai', '#PNBScam', '#LoanKiLanka', 'Jewellery', 'designer', 'Nirav', '#Pen', 'Bank', 'Loan', 'sanction', 'Rotomac', 'Pen', 'Kilometres', 'Chalta', 'Uske', 'Maalik', 'Nikal', 'jogging', 'Chuna', 'Lagage', '#Niravgate', 'success', 'jayen', 'utarne', 'white', 'bhaga', '@niravmodi', 'SANSAD', 'HI', 'BOLEGE', 'ABHI', 'HISTORY', 'DEKH', 'Honey', 'Trap', 'istemal', 'banker', 'wage', 'revision', 'jaraha', 'adikar', '11000', 'samjhta', 'monthly', 'average', '#NiravModiScam', '#NiravModiLootsIndia', '#PNB', 'Scam', '@pnb', 'Sirji', 'passbook', 'karwani', 'mahino', 'pension', 'Official', 'karwao', 'theka', 'karodpati', 'Bollywood', 'kaale', 'kamayi', 'yete', '2011', 'UPA', '#PNBFraud', 'ujaagar', 'Abke', 'referendum', '#NiravModi', 'Till', 'today', 'believed', '#chokidar', 'peso', 'punje', 'girne', 'dege', 'punja', 'nikla', 'Karmayogi', 'worship', 'hour', 'flying', 'dust', 'deception', 'bluff', 'trickery', 'Minute', 'Bramhastra', 'irresponsible', 'misleading', 'distorted', 'Asthra', 'nothing', 'jhooth', '#CongressPNBscam', 'shhhhhhh', 'dheere', '#ChaukidarSoRahaHai', 'DeMo', 'Yojana', 'Cashless', 'FRDI', 'Rahu', '(Rahul)', 'Ketu', '(Keju)', 'bhatkhane', 'heera', 'thakur', 'salamat', 'baksha', 'Part', 'sunaa', 'pen', 'bechtaa', '800', 'Swaziland', 'lane', 'safaid', 'lejane', 'khulaase', '#NaMo', 'Campaign', 'advertisements', 'Chidambaram', 'paayenge', 'becuase', 'cowards', 'bachchan', '....,', 'Bhagaao', 'isilye', 'Bhagnewala', 'Govtnr', 'Chokidaar', 'MD', '...,', 'Gujaraat', 'Module', 'Tumne', 'empire', 'bhrstachaar', 'bhugat', 'nh', 'khoj', '#Twitter', 'hmesa', '#Trend', 'rhta', 'Common', 'jawaan', 'Tamatar', 'maarte', 'Interpol', 'Rakho', '#NiravModiLoot', 'Loya', 'shohrabuddin', 'boby', 'sherni', 'mamla', '#Amit', 'zone', 'danga', '@IndiaToday', '@SirAbhayDubey', '@ANI', '#ManmohanSingh', 'Trains', 'Hardwork', '@bjp', 'Chupchap', '@Sureshpprabhu', '#ManMohanSingh', '#PakistanArmy', 'khus', '#Wait', '#Manmohansingh', 'amazing', '#Yugpurush', '#Khujliwal', 'course', '#SilentMan', 'diikhate', '#RoadShow', 'Janpath', \"Don't\", 'kamm', '#ISRO', 'Presence', 'cabinet', 'milakar', 'Lata', 'Mangeshkar', 'Manmohan', 'Pyar', 'Sanam', '#latamangeshkar', '#manmohansingh', 'kharabi', '#Dumb', 'usase', 'jisane', 'insult', 'khola', 'Ghotala', 'officials', 'nishpaksh', 'patrakarita', 'mitroooooo', 'khaunga', 'George', 'Bush', 'mulle', 'jor', 'garmia', 'statue', '#statue', 'Their', 'Meme', 'raised', 'Ppl', '#SoniaGandhi', 'mirchi', '#media', '#chamche', 'compare', 'puppet', 'Lion', 'hukam', 'jukane', 'sarahti', '#INCIndia', 'grateful', 'fenku', 'Abki', 'Prof', 'escape', 'velocity', 'padhaya', 'brat', 'rakta', 'Jinse', 'MATLAB', 'chaap', 'inaguration', '#AnupamKher', 'former', 'Baru', 'baath', 'kalank', 'Mauni', 'Raincoat', 'fit', 'loge', 'Imandari', 'laoge', 'BhaiyaJi', 'Remote', 'Chalao', 'Pure', 'rahte', 'sehar', 'Big', 'Bazaar', 'aub', 'ManMohanji', 'operate', '..!!', 'starrer', 'gadar', 'prem', 'katha', 'sony', 'aaaa', '??!!!', 'MMS', 'apani', 'bheze', 'andhbhakt', 'kerna', 'fayada', 'economist', 'Sardar', 'kae', 'boltae', 'Sidhu', 'baatlaata', 'darta', 'madat', '@JM', 'Scindia', '#scammers', '#CongressScams', 'ratna', 'indira', 'prize', 'doobi', 'purskar', 'novel', 'dinon', 'gunies', 'Upar', 'jaake', 'Doge', 'puchenge', 'intelligent', 'seems', 'grew', 'kaash', 'Would', 'implemented', 'adequate', 'preparation', '10-15', 'bataiyenge', 'kangi', 'nautanki', 'Manmohn', 'itana', 'Hanji', '#MinimumBalance', 'Bhako', 'Hopes', 'From', 'Vyapan', '#PMModi', '#ArunJaitley', '#OfficeOfRg', '#SambitPatra', '#AhmedPatel', '#TOI', '#shivsena', '#shivrajsinghchouhan', '#cmmp', 'eak', 'padke', 'bolraha', ':-).', 'bida', 'uthae?ye', 'majhabi', 'rajnitik', 'goonga', 'ManmohanSingh', 'Eid', 'Manao', 'kath', 'certicate', 'Ambassador', 'GScamVerdict', 'liyen', 'always', 'JINKE', 'GHAR', 'SHEESHEY', 'HOTE', 'AURO', 'PATHAR', 'FEKA', 'KRTE', 'Sirjee', 'ghotale', 'pot', 'kettle', 'filhal', 'kholne', 'sabra', 'kije', 'oops', 'Maun', '<3', '#GujratElections', '@OfcOfRG', 'hamala', 'thopa', 'beth', 'God', 'retey', 'Jatey', 'finance', 'taaluck', 'naha', 'bachne', 'raincoat', 'pahne', 'wht', 'cus', '#raincoat', '11500', 'Ismein', '5473', 'PNB', '11300', 'doobenge', 'Congression', 'ana', 'Abi', 'Suru', 'kuchla', 'ijjat', 'loans', 'agencies', 'kregi', 'bhaagne', 'dukano', 'taala', 'tow', 'aayega,.', 'tow,', 'per..', 'abolish', 'padhega..', '@UIDAI', 'asking', '#PNBFraudCase', 'SaalFailSarkar', 'Ghotaale', 'Neerav', 'KYC', 'upadate', 'Sonu', 'Sood', 'Snapchat', 'Snapdeal', 'Moody', 'Tom', 'loag', 'Demonetization', 'mahesh', 'amount', 'lagbhag', 'vishay', 'maulanas', 'constitution', 'sharia...', 'bloody', '#hypocrite', 'eh', 'sareh', 'milkeh', 'lootneh', 'master', '#nakhaunganakhanedunga', 'janna', 'Gujarati', 'chooos', 'Socho', 'nirav', 'industrialist', 'EMI', '-_-', 'rupye', 'niklwane', 'ghnto', 'khda', 'pdta', 'btaya', '$1', 'bn', 'dokhe', 'idhr', 'udhr', '#pnb', 'aunty', 'instant #tripletalaq', 'buddhi', 'aayiye,', 'homework', 'thothli', 'kyun??', 'Affair', 'banani', 'Punishment', 'Gira', '@yuvadesh?', 'Gaurav', '#Shameful', 'jeewi', 'convert', 'rage', 'rhegi.Yahan', 'ni.', '9th', '@jalajboy', '@rsaraf007', 'Wow...glad', 'mila.', '#Congrats_Mayor_PreetyAgarwal', 'astha', 'visay', 'batate', 'wah!aur', 'belong', 'TT', 'applied', 'Jashodaben', '@KapilSibal', 'accept', 'vivah.', 'kuritiyan', 'bhale', 'judi', 'kuriti', 'less,', 'nalayak,', 'kaminas', '2004', '2014,', 'kabada', 'Progressive', 'satha', 'Saalon', 'waalon,', 'kuwaaron', 'dekho,', 'jaanoge', 'bakloli', 'Digvijay', 'Sibbal', 'votes', 'milte...jate', '@NDTVRavishKumar', '#DalitAtrocity', 'raftaar', 'Jise', \"ma'am,\", 'gaya..Aur', 'gaya..', '#Talaq', 'sakta,', '#FB', '#WhatsApp', '#iloveyou', 'joke....', 'jail..Beef', 'khayu', 'jail.', 'boss.', 'Dark', 'Phase.#TripleTalaq', 'btaye', 'besahara', 'dharmic', 'denge!!', 'festivals', 'dohre', 'mapdand', 'kyon?', 'rishta', 'Reality', 'Lakh', 'Carore', 'harram', \"lady's\", 'hona.', 'again...#TripleTalaq', 'Trupti', 'desai', 'gai?ladies', 'magne', 'vali,vo', 'zoothi', 'thi.', 'most ', 'foolest', 'kitaabein', '#RIPEnglish', 'jafar', 'sahab.', 'Jada', 'uppr', 'low', 'rakhiye', 'evil', 'whch', 'shd', 'abolished.Kya', 'mazhab', 'rahenge?', 'Khas', 'Ibadat', 'Nake', 'Bhar', 'Stunt', 'Instant', 'khusiya', 'mahilaye,,,,,,', 'Inle', 'pana!Ye', 'disruption', '#sushilvaswani', 'Bcoz', 'Himmat', \"women's\", 'Chinta', 'kiye..', '@BDUTT', 'ki!', 'pheeka,', 'doge?', 'manoge..', 'Biggest', 'Problem', 'Mullah', 'would', 'Beghum', 'chakar', '#BawanaByPoll', 'isiliye.', '*3', 'talaak*', 'gyaa,', '*saat', 'janam*', 'abandon', 'desition', 'matlb', 'diwala', 'thk', 'mahilaoke', 'honewala', 'kabse', 'niyat', 'impletement', 'Election', '#TripleTalaq,', 'laya,', 'banakar', '..kyaa', 'sachch', 'musalmaan', 'auroton', 'package', 'announce', 'kiyaa', 'ji?', 'aur.....', 'to......', 'jayegi....', 'ajadi', 'milegi....', '@indian', 'goverment', 'non-Muslims', '#TripleTalaqBillPassed', 'Tripal', 'Jail', 'hogi,', '#BIWI', 'palegi', 'kya...???', 'sambhalega...??', 'paksitan', 'vahe', 'Sudan', 'choice', 'corporate', 'Vip', 'shreeman', 'debat', 'kase', 'jay.', 'However', 'Population', 'taiyaar', 'modi...', \"That's\", 'very', 'good,', 'mahengayi', 'jayegi,', 'berozgari', 'robbery,', 'jamke', 'Karenge..', 'duba', '#easeofdoingbusiness', '#IndiaRising', '#EoDB', '40%', '#Tax', 'vasuli', 'prapt', 'satr', 'raha.', 'budget', 'session', '21', 'mein14', 'parit', 'hue,', 'bills', 'bhi:', 'Mamaji!', 'sahyog', 'ichha', '#SabkaSaathSabkaVikas', 'Technology', 'sessions', 'Payment', 'Apnao,', 'Vyapar', 'Badhao', '#DigitalforGST', '@praveendel', '#Digitalpayment', 'Apnao', 'Badhao!', '#TradeGoesDigital', '#CAIT', '.@BCBHARTIA', 'educates', '#DigitalPayment', 'vidhan', 'par,', 'he.', 'itself', 'ragistred', 'dubara', 'ragistration', 'kyu?', '256', '144', '#200RupeeNote', 'Burnol', 'shyad', 'ministers/', 'paaye.#GST', 'corporate&', '@abhisar_sharma', 'Srijan', 'ujagar', 'tanha', 'fas', 'thA', 'tamacha', 'ubhre', 'baqi', 'bhai...', 'Kiya...', '#AadharCard', '#rojgar', 'ka...', 'par...', 'ideas', 'hain.!', '@AwardWapasi', 'activated', 'Gaaliyon', 'dhyaan', 'gaaliyaan', 'non-veg', 'hai..jo', 'beda', 'gark', 'jaitly', 'jawaabdaar', 'Sukr', '#ishq', 'koi,', '#had', 'jati.', 'jatiyan', '(cast)', 'hindustani', 'bhartiy', 'benifits.', 'mr.india', 'dec', 'cro', 'vapak', 'thai', '@AMISHDEVGAN', 'hajarcaror', 'banko', 'clause', '#MTV', '#MerryChristmas', '#demonetisation', 'Goonge', 'mehanat', 'padhi.', 'Khair', 'trauma', 'goonge', \"It's\", 'proven.', 'mano', 'issur', 'atak', '#Riyan', 'school,', '#UPelection', '#GujaratElection', '#Demonitization', '#divideandrule', '#templerun', '#RahulSeparatistBhakt', '#CongressNeechPolitics', 'prcharak', 'baitor', 'traitor', 'yeh.', 'effect', 'satata', '#government', 'thi,#gst', 'ke.woo', '#18', 'pr.aab', '#28', 'krdee....ye', 'hai...#aadhaar', 'haal...Sir', '#Bjp', 'eske', '#against', 'thi...', 'ko..No', '..#ManmohanSingh', 'Dhandha', 'bc,', 'Silicone', 'implant', 'Karwa', '#MudraYojana', 'bharna.', 'laga!', 'achhe', 'Hai!', 'toh,', 'Kautilya', '#IndiaToday', '#TheHinduExplains', 'idiotic', 'chutiyaape', 'jord', 'denge...and', '@VCofficeBHU', '#BanarasHinduUniversity', 'all.', 'Beet', '67', 'Kala', 'Past', 'jaad', 'Bhoole', 'na.', 'BJP.', '@punjabimodern1', '@BJP4Gujarat', '#UlluKeCharkhe', '#Ghonchu', 'ghere', 'aya?', '#SoniaKGB', '#Item', '#production', 'choose', 'gabbar singh tax', 'ki...', 'gabbar', '#GujaratElections2017', '#NaredraModiJindabad', 'You', 'Absolutely', 'paresan', 'lout', 'loo', 'angel', '#Chhattisgarh', '#IndiaWithRahulGandhi', 'Laxmi', 'phool', \"hai',\", 'rahi.', '#JoblessGrowth', 'thaa-aap', 'dues', 'karwalo', 'democracy', 'sarkar,', '#bhakt', 'jamkar', 'Mitronnnnnnn', 'coal', 'CWG', 'NH', 'adarsh', 'ager', 'Note', 'Zaroorat', 'hoti...', 'faayeda', 'pahunchega:', 'Himachal', '#VirbhadraSingh', 'assembly', 'passing', 'suvidhaon', 'suvdhayen', '#refund', 'Registration', '45', 'wala..', 'karu..??', '#GSThelpdesk', 'Lagu', '#GujaratRSPolls', '#MLA', 'successfully', 'kharede', 'Jasaje', 'Nateejatan', '#Amitshah', 'Bakaam', '1942,', \"marenge',\", '#today', \"rahenge':\", 'Bataye', 'Asmaji', 'please.', 'koyi', '#GujaratVerdict', '#thoughtoftheday', '#GujaratElection2017', '#HimachalVerdict', '#GujaratResults', '@StarPlus', 'personally', '#Ishqbaaaz', 'restaurant', 'bitha', 'Sir...#GST', 'urgent', 'DEBIT', 'CREDIT', 'visheshagyo', 'salaah', 'lete...', 'Dhanyabad', '#TukdeTukdeGang', 'viswas', 'ab...', '#ache_din', 'liye...', 'aarahe', 'Return', 'File', 'mahapurush', '#GSTRETURN', ':x', '#andherinagrichopatraja', 'bahaane', 'rajasv', 'badhaana', 'Tarikh', 'Tarikh,', 'Milli', 'Jately', 'Mila...............................#GSTR-1', '#GSTR1', 'hats-off', 'do...', '#demonetization', 'waale...', 'bhir', '#vikash', 'Vikash', '#GujratstandwithModi', '#AssemblyElections2017', '#khamosh', 'bhalayee', '2baar', 'necessary', '#sazaa', 'No ', 'casteism', '2000', 'actual', '1200', 'Reham', 'pls.', 'Humne', 'slabs', 'chahiye:', 'Ahmedabad', '#CabinetReshuffle', 'reshuffle', 'kya...18', 'Mehengi', 'Bhai...', 'nil', 'GSTR1', 'smj', 'Disaster', 'modiye', '#GSTLoot', 'passed', 'legislations', 'paving', 'implementation.', 'data,', 'sasti', 'wheelar', '#bs3', '#jioprime', '@ashutosh83B', '@raghav_chadha', 'uthaya', 'okat', 'atm', 'naachegi', 'suiside', '#Harharmodighargharmodi', 'bhuktto', 'jhanda', 'gada', 'ne...', 'sahab...', '#GSTBills', '@WithCongress', '@IYC', 'follower', 'hua...', 'lgane', 'durust', 'nikalsakte', 'manmani', 'jaarahe', '.aap', 'thak', '#FRDI', '#Jobs', 'clarity', 'aagaya.', 'burkha/', 'hijab', '@FinMinIndia', 'huwa', 'KARZ', 'setting', 'INR', 'ka.', 'naam.', 'ki.', 'line.', 'vyapari.', '#Farmers', 'suicide.kar', 'unhone.ho', 'bhatkaya', 'cheeno', 'pls...ab', 'patrol', 'lao', 'zeb', 'Garibonka', 'mantriji', 'petrol/', '#GST.', '#DharmendraPradhan.', '#Anticitizen', '#FAISLA', 'Parties', '#Election', 'Roka', 'truck', 'vasooli', '..jameen', 'jaitley', 'baá¹\\x85á¹\\xadna', 'kijiye!', 'GSTN', 'chalega!', 'diya!', 'prices', '@thewirehindi', '@PatrikaNews', '#petrolPrice', 'Kripya', 'timing', 'khatrnak', '..#GST#', 'Dukandaro', '#faltu', 'formalities#', 'aapaka', 'bhaisaahab', 'bhech', 'khayi', '#GSTNFAILED', 'hataiye', 'mayne', 'Tumko', 'jhatake', 'bhikhmanga', 'diya.Ab', '#BlackMoneyHolder', 'jindagi', 'mangega', '#GST,', '#Demonetisation,', '#BJPWinsGujarat', 'dhanyavad', '100-100000', 'GHNATAAA', '#AcheDinAyeGe', 'Sahi.', '#feku', '#domo', '@bhai_08', 'behatar', 'notebandhi', 'gayaa', 'highest', 'slab', 'chodh', 'kar.', '#seaplane', '#patidar', '#Reservation', '#Gujaratpolls', 'Source', '#Indian', '#Media', 'zakhm', 'mahila', 'badgaya', '#aajtak', '#ABP', '#NDTV', '#RavishKumar', '#HardikPatel', 'sekadoN', 'vyapari', 'Congressi', 'vyavshtha', 'meiN', 'kamaai', 'avsar', 'short-cut', 'chuuk', 'jaayeNgey', 'galiyaaN', 'deNgey!', 'Tiwari', 'muhse', 'berojgari', 'han?', '2crore', '/varsh', 'srajan', 'chhodkar', 'kitno', 'berojgar', 'diya?', 'Barbad', 'karneke', 'JIN', 'maafi', 'maangi', 'UMMID', 'kaise?', 'How?', 'Ye....', 'Seedha', 'na....', 'Jetali', '#LokSabha', 'discussion', '#Jago', '.@abpnewshindi', 'milestone!', 'Petroleum', 'badhte', 'la', 'Temporary', 'bilaspur', 'shehar', 'dhayan', 'Dust', 'sadke,', 'suraksha,', 'drainage', 'padhke', 'bhasa', 'sikhata', 'baniya', 'bootlicker.', 'Laga', '#urja', '#Mukeshambanikebete', '#amitshahkebetejaise', 'urja', 'aaap.', 'Niraasha', 'lagi!', 'Achey', 'ayenge', 'Sir.', 'charges', 'Kijiye', 'Sir!', 'wah!', '@askGST_GoI', 'ure', 'strategy..aap', 'NDA', '#Demonitsation', 'kaamo', 'kiya...', 'unnati', 'dyan', 'koya', 'advisor', '#misguide', 'panama', 'paradise', 'papers', '#SwachhBharat', 'Amitabh', 'Bacchan)', 'rehkar', 'Kyoki', 'benefits', 'systematically', 'mazboot', 'safal', 'asafal', 'rhe.', 'aase', 'jeetenge', 'cards', 'servers', 'ek-do', 'kharido', 'ruling', 'prayogshala', 'aaplog...', 'implementation', 'dekhenge,', 'Bura', 'back..', 'aaplogo', 'sikhe..', 'bekaar', 'Adani', 'kharaab!', 'Everyone', 'nods', 'agreement', 'food!', 'atha', 'TAX', 'Tex', 'kishi', 'batay', 'mahgai', 'thamne', 'rajneta', 'Bro', 'there', 'GUJARTIS', 'sayin', 'Bhencho*', '#DHANDHE', 'watt', '#DEMONITISATION.....', 'ensure', 'unthinkable', 'mer', 'jai,', '#garib', 'rahegi', '#garibi', 'fekte', 'raaste', 'Aankhon', '#Chai', 'dhaara', 'beh', '#Chaiwala', 'bar-2', 'niyam', 'budhiman', 'murakh', 'TCB', 'rakhenge', 'zahan', \"ina'am\", 'GST..', '#History', 'marodne', 'karoge,', '@TrueIndology', 'facts', 'aajayenge.', 'bewakufi', '@dominos', 'matalb', 'juthi', 'ki?', 'hotels', 'kapil', '@sherryontopp', 'hai,character', 'birth', 'paji.', 'Hatayiye...', 'Hai..', 'monsoon', 'received', 'rains', 'normal.', 'Sadharan', 'Manushya', 'Dev', 'Hain.', 'Barish', 'bharne', 'aakhri', 'tareekh', 'overtime', '5000', 'Zero', '#ArunShorry', 'kidnep', 'handwriting', 'another', 'googly', 'khujli', 'fuel', 'keeda', 'Lele', 'lele....', 'man,', 'madir', 'hoon,', 'aah', 'bajale,', 'tooh', 'bajale...', 'thook.', 'mila...', 'mahgain', 'se..', '#petrolprice', 'filhal...', 'Hmra', 'khap', 'pssbl', 'lagayegi', 'Wajha', 'Price', 'Taki', 'Sake', 'petrolprice', 'hike#', 'Syad', 'Century', 'Chate', 'Ushko', 'Fifty', 'Above', 'Tha,Petorl', 'Lagega?', '#BulletTrain', 'Ludhiana', 'vasoolna', 'paid', 'jinka', 'asaliyat', 'AK', 'meditation', 'dena.#GST', '#BulletTrain,', 'Innovative', 'PM!', 'Salary', 'salary', ',lekin', ',#Padmavat', ',#Demonetisation', '#RafaleDeal', 'Jnta', '#khoon', '#choosne', 'chodi..jisne', '#blood', 'lgaya..vo', '#Choosne', 'Sir..', 'ekdam', 'LOONTERE', 'wqt', 'haayyyre..', '#DeMoWins', 'marr', 'dala..', 'Kisko', 'Consumer', 'trader', 'tir', '#Ravan', '#aamadmi', 'samhhal', 'mariyega', 'misfire', 'Choti', '10000', 'rupee', 'latak', 'utilise', 'karu.', 'preparation:', '#ManmohanSingh,', 'Sirji,', 'aate,', 'shuru.', 'August', 'poll', 'anusaar.', 'Negative', '#Middle', 'class', 'Week', 'Hotels', 'jayenga', 'Des', 'Badlo', 'Vidis', 'Restaurant', 'waje', 'Fark', 'actions', 'reform', 'lelo', 'fatafat.', 'manenge.', 'afsar', 'rishwat', 'ga?', '@Modi', '#home', '@singhvarun', 'either', 'stamp', 'boost', '#profit', '#GeneralPublic', '#Government', '@aditi_tyagi', 'phaisale', 'taxe', '@TigerZindaHai', 'ko.samjhe', 'samjhaye', '@BeingSalmanKhan', 'hain.._..', 'hogi!', 'Sounds', \"kid's\", 'dad:', 'papa,', '#sharmauncle', 'Municipal', 'Corporation', '@NNBILASPUR', 'sochalay', 'gaye..', 'Kiske?', '#CAG', '#railways', 'Mehngai', '#Sarkar', '#Politics', 'Dr.', 'boye', 'Jaitely', 'krrhe', 'haikaat', 'hai...!', 'Sat', 'working', 'lagega..', 'sikhaao', 'doge??', 'Islie', 'tha!!', '#Soaps', '#Toothpaste', 'cost', 'less', 'nahayenge', 'brush', 'Income', 'aamdani', '#Elphinstone', 'haadsa', '#Petrol', 'lootna', 'bake', 'Hadd', 'yar.....', 'ane', 'wakai', 'saste', 'aamjanta', 'maangle', 'sujhaav,bahut', 'sujhaav', 'milega,usse', 'user', 'Hai..@GST_Council', 'step...', 'tau', 'demonetization', 'impact', 'km', 'buzurg', 'hogi.', '#GSTSimplified', 'strong.', 'Die', 'hard', 'Diya.sab', 'Agli', 'returns', 'karo,', 'Kii', '#Modibaters', 'affordable', 'Thappad', 'sahab,', 'Announcement', 'Aadhe', '#DeMonetisationDisaster', 'gaye,', 'aadhe', '#IamModi', 'ratne', 'laga.', 'that.', 'Waat', 'lagadi', 'Economy', 'sbko', 'LAGU', 'DAURAN', 'BADLAV', 'HUA', 'TARAH', 'tarkki', 'ghatya', 'fesle', 'brbad', 'like:', 'Itana pyar to meri Maa ne bhi nahi kiya kabhi, rula dega kya pagle', 'recall', '#CoalScam', '#Noteban', '#metrofairincrease', 'pareshaniyon', 'permanent', 'Ajkal', 'hisse', 'coffee', 'samj', 'chalu..', '#petrol', '#diesel', '40â\\x82¹', 'around', 'vese', 'bharvane', 'gae,ab', '#CRACKERS', 'advice', '#delhimetro', 'katne', 'wapis', 'khajane', 'meharbani', 'garibon', 'pat', 'NAYA', 'ADCHANE', 'RAHEGI', 'Guys', 'fatake', 'jalaye...', '#Diwali2017', 'Av', 'advocates', 'h?', '#behtar', '#saral', 'lgake', 'ModiJi', '#Defense', 'sector', 'majabuti', '#Demonitisation', 'no.', 'city', 'giyaan', 'hie', 'naahi', 'ganith', 'aakshron', 'giyan', 'aapkotho', 'commedy', 'lagthi', 'irshad', 'kijiye..', '#BJPMoneyLaunderingDay', 'bdi', 'disaster', 'LITTLE', 'BOY', 'FAT', 'MAN', 'virus', 'handicap', 'majbur', '#BLACK', 'DAY', '#devendra', '#narendra', '9%', 'each!#ontherocks', '#WeekendKaVaar', 'tajmahal', 'muddo', '#failuregoverment', 'clarifications', 'MantriMahodaya', '@SubhashShukla12', 'di,', 'bajayegi', 'HAPPY', 'wala.', 'NoteBandi', '...aisa', 'UK', 'baithee', 'item', 'baad...koi', 'hai..kabhi', 'raashan', '.fir', '#IndianEconomyInICU', 'hai...GST', 'hua..aur', 'specialist', 'Demonetisation', 'failed', 'hai......', 'fault', 'nikalo...', 'denge......#GST', '#hate', 'chadti', 'hai.#GST', '#BharatBand', '#development', '@sureshpprabhu', 'modernising', 'India...', 'accho', 'akal', 'ji..', '1peg', 'samajhne', '#GSTQ', '#GTS', 'proove', 'paresani', 'haai', 'gujrat', '#GST:', 'Tax', 'Registrationâ\\x80\\x8b,', 'Return,', 'Bhugtan.', 'Sugam', 'Kar,', 'Suvidha', \"Pehchan'\", 'Agarbatti', 'Pooja', 'Pooja,', 'Archana,', 'Sadhana', '#GSTCouncil', 'taqleef', 'aankhe', 'jaaye.', 'form', 'gents', 'jao.', '#RahulBotAttack', '#rahulkigandisoch', '#GabbarSinghTax', '#standupcomedy', 'gabbarsingh', 'YOU', 'CANT', 'BE', 'OUR', 'LEADER', 'steps', 'laagoo', '@ShefVaidya', '10%', 'deserve', 'also!', 'abt', 'hike??', '#GST-free', 'nahi!!', '#GST_NotAt18', '#BhaiDooj2017', '#ModivsMersal', '#MersalVsModi', '#Mersal', 'suppose', 'BOtS', 'Smriti', 'vinas', 'kale', 'wiprit', ',jis', 'censor', 'diologue', 'saap', 'phus', 'anar', '#Fire', '#Crakers', '#celebrate', '#Allahabad', 'Ham', '@askGSTech', '@gstindia', 'Finance', 'Chutia', '(#DeMonetisation', '+', 'ICU', 'Jumle', 'julus', '#gujarat', '@ECI_India', 'postpone', 'hawai', 'dubegi', '#DeMo,', 'zimadar', 'Bhool', 'Badhali', 'aaaj', '..Wish', 'happy', '#noteban', 'hi,', 'khulla', 'pahal', 'dikhe.', '#Gajabtraffic', 'CAâ\\x80\\x99s', 'coz', 'misgovernance', '#taxaudit', 'vat', 'atal', 'shining', 'Barbaad', 'jodenge', 'Modiji??', 'Moreover', 'tarike', 'lagoo', 'karneko', '#TajMahal', 'maqsad', '#jaishah', ',asafal', 'bhatkana', 'Gotalo', 'Doobi..', 'Doob', 'He??', 'E', 'ULLU', 'banaving??', 'ko??', '@INCGujarat', 'Middle', '..#GST', 'isss', 'khardine', 'paddh', 'Jabse', 'format', 'felane', 'Chunav', '#Incometaxdepartment', '#channel', '(#kaunJaatwale)', '#Emergency', 'Mitro!', 'deshwasiyo', 'DHANTERAS', 'hardik', 'badhaiya.', 'shopping', 'kariye..', 'Kujh', 'dikhaneki', 'jordaar', '@abpnewshindi', 'bussiness', 'preshani', 'rakhte', 'kinara', 'development', '#fake', '#petrolhike', '#hunger', '12%', 'raha,', 'kisaano', 'dete:', 'Banswara', '(Rajasthan)', 'Pranam!', 'indeed', 'landmark', 'kripya', 'karein.', 'sabsey', 'lot', 'days,', '#Business', 'Maal', 'nahi...', 'Naqli', 'naqli', '#EVMBandi', 'Dunga,', '#IncomeTax', 'Kaat', 'lunga.', 'Colgate.', 'Rate', 'badtey.', '5rs', 'custmer', 'tweets', 'saath..', 'holsale', 'me??.', 'doosre', 'input', 'noida', 'sec', '170', 'khaya,', 'diya,', '#ISupportGST', '#DogFilter', 'hashtags', 'dikhayega.', '#ProPakBukhari', 'mehenge', 'pehle?', 'Surat', 'baaton', 'payega.', '#SanitaryPads', 'Aadha', '*Khoon*', '#narendramodi', 'bevakoof', 'parivar', 'jaiye', 'businessmen', 'aadh', 'me!', 'ramudev', 'right?', 'neutrality', 'paya....', '#NetNeutrality', 'taza', 'misaal', 'aapk', 'thakk', '#GSTCouncilMeet', 'gayi.', 'recession', 'jaega.', 'Gadi', 'bangla', '#swissbank', 'dukandar', 'unpar', 'registration', 'nhi,', 'distribution', 'shivalay', 'market/1', 'boriya', 'unhke', 'khuch', 'pila', 'NO', 'SARKAR!', '#CHUTIYAPA', 'Dec', 'Sanjay', 'Leela', '#Film', 'buisness', 'Aane', 'generations', 'jhela..', '#khakra', 'Chole', 'Bhature,', 'Chilli', 'Potato', 'bargain', 'too.', 'failure!', 'badla,', '#GST!', '#Farsan', 'BAE', '#ModiAnnouncement', 'Farsan', '#Namkeen', 'cheaper', 'Kiski', 'kiski', 'outcome', 'Khushi.', '...Aab', 'jayengi', 'Bhai....', 'means', 'consent', 'meaning', 'Aya', 'whan', 'ayega!', 'confused', 'confused.', '#gstcouncil', '#incometax', '@Swamy39', 'business', 'kahiyye', 'Gasoline', 'dikhaiyye', '#CNBC', '#INDIA', 'dinner', 'h??', 'ki,', 'needless', 'aavaashyak', 'MSME', 'structure', 'weak', 'kaunse', '@muglikar_', 'samza', 'game.', 'rupiya', 'saral', 'kijiye.', 'boot', 'Porbandar', '#GujaratElections', 'gaya!', '@adhia03', 'Ur', 'hasmukh', 'rulate', 'rulaya,', 'choupat,', 'daya', 'gour', 'marrati', '3/4', 'thaa..', 'achchaa', '1/4', 'Namaskar', 'person,', 'khokla', '#Help', 'achievement', '#petrolpricehike', '#Unemployment', 'margin', 'badhadi', 'giri', '#AbKiBaarQuestionYourSarkar', 'bharta', 'bharna', 'bharo', 'katega', '#AbkiBarQuestionYourSarkar', '#ArunJaitely', 'tarakki...', 'Zaroor...', '#Barish', 'barsun', 'baad.....', 'Things', 'blah', 'leekho', 'launched', 'soon...', '#kisanHit', '#Fertilizer', 'laga,', 'suprt', 'kya??', 'swings?', '#BJPevmFraud', '#Voter', '#Vote', '#MobLynching', '#JayShah', 'pillo', 'lut', 'sure,', 'dubegi.', 'bachoge', 'saajish', 'June,', 'announces', 'BHARTIYA', 'UDYOG', 'VYAPAR', 'MANDAL', '@ANI_news', '@indiatvnews', '@ZeeTV', 'bachha', 'draa', 'betha', 'h...#GST', 'hawaa', 'monk', 'mehangha', 'vyaapaar', 'arun', 'jaitely', 'ke.?', 'Bhool...', 'Phool...', 'Chool...', 'Enjoy', 'until', '#Kal', '#khilaf', '#surat', '#textile', '#market', 'sambhavana', 'jana..', 'Advertise', 'samjana', 'he...', 'samjavo', 'ge.', 'prashna', 'Word', 'Chillar', 'puccha', '#misschillar', '#missworld', '#gujrat', 'devanagari', 'mein!', 'btana', 'pde,', 'sandas', 'pdti', 'jaankari', 'de,,', 'jyadatar', 'including', 'til', 'marna,', '50%', 'dijie', 'badhaenge,', 'No.', 'jagha', 'july', 'schemes', 'laati', 'Bachchan', '#chillar', '#AccheDin', 'ayenge...', '#VIKASH', 'castism', '#note_', 'cast', 'column', 'likhne', 'mehnga', 'goshna', 'Badlam', 'La', 'Vyapari', 'Taklif', 'Jagah', '#month', 'mokuf', 'Stong', 'Real', '#Structure', 'Banana', 'Hona', 'Vypari', 'Chillayege', 'Karenge.@ShankersinhBapu', 'karta..', 'denge..', 'pit', 'badalaw', 'Torture', 'wale.', 'badega', 'desh.', 'mauke', 'inflation', 'lo,', 'kafan', 'nahi,', 'kharidne', 'unplanned', 'na,', 'nabj', 'tatol', 'kar,', 'ilaaz', 'anusaar', '#cooker', 'valve', 'kya...?????', 'Sachi', '@SirPareshRawal', '340', '780', 'Gaya.', 'Bhakti', 'Tali!', '#VikasGandoThayoChhe', 'se?', '#WorldCup2018', '#ITASVE', '#ItalySweden', '#newdelhi', '#tuesdayMotivation', 'roll-back', 'zyada-se-zyada', 'anpadh', 'hain,ye', 'ATM-Paytm', 'raha:', 'Lalu', 'zyada ', 'ATM', 'responsible', 'samadhan', 'ghata', 'Master', 'justify', 'chage', 'Turn', 'Lagata', 'rally', 'bulayee', 'ghataya', 'ispar', 'bet', '@BoscoUnchained', 'Wahi', 'tracker', \"rate'\", 'ladho,', 'cap', \"18%'\", 'hove', '#pidi', 'Hahaha!!!#SarvaGyani', 'thi???Jo', 'hai!#Notebandi', 'hoga???', 'chahane', 'bore', '#GabberSinghTax', 'Pawan', 'kheda', 'logic', 'sarvamanya', 'rasatal', 'Fin', 'Min', 'puchh', 'rahan', 'lega', 'karega??', 'tujhe?', 'aari', 'aa..', 'commission', 'rakhni', 'Footbath', 'majdoor', 'bhukhe', '#bhakto', 'dikhaega', 'items?', '0%,', '12%?', 'Yaane', 'Takey', 'Ser', 'Bhaji,', 'Khaja?', 'Aadmi', 'Paagal', 'Ye?!!', '#PagalPappu', 'guzare', 'main...', 'Defence', 'sahi.', 'Durdarshita', 'baji', '#gstlaya', 'hua.', 'Faye', 'napkins', 'jawani', 'liye,', 'confidently', 'CONgress', 'gazab', 'kiya..', 'badhe', 'badhae', 'deduction', 'kiya!', 'Lollipop', 'Lalach', 'chije', '3/4%', 'slot', 'bhadkana', 'Jetli', 'yia', 'ahya', 'expressions', 'jaysa', 'sifarsh', '1%', '#lootloidia', '#GujaratPolls', '#VikasKaLollipop', 'chaurahe', 'Syllabus', '#Change', '#Rate', 'Change', 'padna', 'Dunno', 'living', 'in.', 'Done.', 'Sasta', 'chhod,', 'Samba', 'Aukaat', 'yayyy', 'flat', 'restaurants', 'khilaoo', 'haha!', 'tahnkfully', 'udaoge!', 'apnhi', 'chamkao', 'vasta', 'bikhari', 'smjhkr', 'wjeh', 'nasamajh', 'mark', \"word's...\", '#FM', 'top', '#Congressi', 'lute', '#Gujrati', 'surat', 'jayada', 'dikhaye..', 'Bola', 'diya..', 'frustrated', 'Save', 'tweet.', '#demonization', '#gst..', 'paas??', '@MamtaOfficiaI', '#GUJRAT', 'ZOR', 'DO.!', 'chemist', 'Puchho', 'dawa', 'hain!!', 'hain..', '#EMERGENCY.', 'Condom', 'bategi,', 'Sanitary', 'Pads', 'Dushmani', 'banto????', 'Ulta', 'Tuglaqi', 'chaie', 'disel', 'eksaal', 'upgrade', 'wid', 'rqrmnt', 'hogi?', '#Modisalesvisit', '#ModiInIsrael', '@adhia03,', 'rumours', 'spreading', 'via', 'WA.', '#israelvisit', '#BengalRiots', 'mangenge', 'internally', 'jimmewar', 'bazari', 'vendor', 'items', '#GSTkikalabazari', 'Jub', 'Rikshaw', 'starting', 'adjust', '#Act370', 'Ashok', 'gehlot', 'lage.Ab', 'misunderstanding', '#GSTMasterClass', 'confusing,', 'unworkable,', 'robust', '56000', 'karod', 'dustbeans', 'Muze', 'kachra', 'fenkne', 'shauk', 'Hai.', 'adhyaye', 'jayega,', 'jannat', 'WI', 'tour', 'Rishab', 'Pant', '#IndvsWI', 'wasul', 'RAM', 'RAJYA', 'Na.', 'Hotel', 'karan.', 'Lodge', 'Takla', 'upset', 'Livon', 'Hair', 'Grow', \"Tonic'\", 'mehanga', 'hojaye.', 'sansad', 'bhanti', 'payenge.', 'police!', '2%doosro', 'customer', 'enter', 'US,', 'Bhaiyon', 'Behno,', 'jaunga', 'Paayi', 'hisaab', '#Hitler', 'Fund', 'Saushalay', 'he.....', '#IndianEconomy', 'kama', 'he,', 'taxes', 'boht', 'leli', '#Deshwasiyo', '#GSTTamasha', '#NoHelp', '#confused', '#GSTConfusion', 'jata.', '#GSTForCommonMan', '@narendramodidesh', 'RESERVATION', 'System', 'hatao..', '#CustomerCare', 'available', 'anyone', 'stuck', 'mazedaar', '@ManojTiwariMP', '@dna', 'Kiya,', '#bill', 'dating', 'diye,', 'thode', 'chandi', 'chammach', 'Problems', 'dhoondho', 'Anar', 'saanp', 'Medicine', 'sweet', 'Hahaha..', 'karna.', 'bhai...usme', 'aas', 'tha....#GoodAndSimpleTax', 'Shaadi', 'Tag', 'understanding', 'Service', 'wagerah', 'PhD', 'mail', 'Pre', 'Dali', 'domestic', 'Didi agle mahine se pagaar (salary) badhao.', 'why.', '#GST aa gaya hai. Sab kuchh mehenga ho jayega!', 'mehnge', 'dekhe.....', '@ahmedpatel', 'Karib', 'bataye.', 'nirasha', 'mahol', 'NDTV', 'ofc', '@modivanibharat', 'Vat', 'ST', '15%', 'tha...', 'jayega....', 'Twitter,', 'edit', 'option', 'do!', 'behn,', 'pakti', '@narendramodi,', 'distribute', '_IMPACT', 'hai...TRP', 'jutane', 'distant', 'cousin', '@SunielVShetty:', 'jaun', 'shrahan', 'Bharosa', 'rakiye', 'Samdari', 'Siwana.RJ', 'paththarwazon', 'problm', '-PM', 'bnk', 'cinta', 'kdm', 'skta', '#PresidentialElection', 'chaheya', 'Duckworth', 'Lewis', 'method.', 'kambakhat', 'hosh', 'sambhala', 'tabse', '#protest', 'hao', 'samajhme', 'aate.', '#Despacito', 'Engineer', 'problem,', 'chhate', 'acchi', 'Online', 'Jayegi', '@Flipkart', '@amazonIN', 'mehenga!!', 'gaono', 'dudh-dahi,', 'maas-machi,', 'roti-sabhi', 'kahon', 'aabaadi', 'badhaao.', 'Nano', 'Chip', '#indians', 'calendar', 'samjhaaye', 'inhi', 'benakab', 'Treat', 'nation', '#Rohingyas', 'loug', 'jaisay', 'unkay', 'ruppai', 'Doston', '#GST.....', 'padnewala', 'hai..aur', 'han...', 'ALSO', 'SUPPORT', 'Hmm', 'calculation', 'gareebo', 'Bhai.....', 'Mars', 'idli', 'ghee', 'pongal...', 'topper', 'pine', 'emotional', '#girlfriend', '#Girlfriend_setting_tax', 'pdega', 'protsahit', 'ajj', 'store', 'bolke', 'chlana', 'suggest', 'samjhenge.', 'J&K', 'integrate', 'karlega,', 'Kucch', 'loktantra', 'hai-FM', 'cafes', 'bhook', '#GSTEraBegins', 'huwa,', 'vikash', 'hoga:', 'CAs', 'parha', 'parh', 'wle', 'ksi', 'sukhi', 'jyegi', 'mazra', '#RichardThaler', 'revolution', '@digvijaya_28', 'addict', 'marre', 'gae.', 'Cigratte', 'POP', 'didi.', 'rone', 'ka,', 'aage,', 'sit', 'cry', 'trendy', 'updating', 'kamaate', 'Hamein', 'lifelong', 'smooth', 'guarantee', '#GoodSimpleTareeqa', 'brabr', 'bhedbhav', 'THANKS', 'GROOM,', 'manate', 'loto.', 'laoga.', 'anth', '#Politicsphilosophy', 'Ohh', 'jesus', 'milate', '#ASKMaithunGST', 'makes', 'hell', 'chalayega', 'islam', '#NDTVNews', 'Welcom', 'Went', 'gappe', 'asked', 'Gol', 'gappe?', 'replied', ':Modi', 'humaara', 'niwaala', 'abh.', '#OneNationOneTax', 'sharaab', 'yehaan', 'Afwa', 'Faila', 'Related', 'Jokes', 'Share', 'Battery', 'Hai?', 'Jake', 'swagat', 'rastra', 'zyaadaa', '@yadavakhilesh,', 'rollout', 'pehley', \"B'Day\", 'gayaa!', '#SurgicalStrick', 'sbut', 'kye', 'Gvt', 'hare', '#Mumbai', '#defenceminister', 'zama', 'outrage', 'chalo.', 'vayapriyo', 'udyogo', '1/n', 'Abishek', 'One ', 'Nation,', 'Reservation:', 'Talent', 'chahiye...', 'Kumbh', 'vakalat', 'lollipop', 'chuss', 'feelings', '@0', 'Phool', 'Bhari', '#Jhadoo.', '#OppositionTheseDays', 'Padh', '#gst.', 'smjhiye', 'intezqr', 'samajhni', 'ussay', 'motivate', 'karsaktay', 'Jaano', 'Maano', 'Gst', 'jhaant', 'bhr', 'knowledge', 'Trending', 'hu.', '..@jaalaj1992', '@kit2tyagi', 'RT', 'republic:', 'sanyog', 'Geeta', 'adhyaay', 'Council', 'meetings', 'hui:', '#MidnightGSTLaunch', 'hota,', 'Collected', '#Babus', '#politicians', 'Pockets', 'rahega.', 'aadarniya', 'pradhanamntri', 'yani', 'yug', 'aadharshila', 'Number', 'Shamelessly', 'jaye,', '#Handicapped', '#BLINDS', '#Parliament', '#House', 'Calendar', 'Financial', 'pata,', 'co-operative', 'federalism', 'adhik', 'degi:', 'Liberals', 'kota', 'Ready', 'krege', 'Duckworth-Lewis', 'method...', 'Sun', 'samazhdari', 'likhta', 'Mike', 'muskile', 'bhage', 'act', 'behtreen', 'Bihariyo', 'sadma', 'UPSC', 'padega.', '@BJP4UP', '@BJPLive', '@bjpsamvad', 'Vishwas,', 'injure', 'nikla,', 'Demonitization', 'nai,#GST', 'saath(60)', 'zande', 'gaade', 'baba!!', 'paye!!', '#GSTrollout', 'Bhuk', 'dieting', 'naan', 'pada...', '#Congressiyo', 'midnight', 'bajege', 'watches..', 'Pranab', 'Mukherjee', 'rahe..', 'bajana', 'jaaye,', 'Hall', 'pole', 'badlenge!', 'journalist', 'gowrakshak', 'jode.', 'Joo', 'Bahoot', 'Nafarat', 'Thee,', 'Pyara', 'taiyar', ',ek', '_Swagat', '.Na', 'chhota.', 'registered', 'udeshya', 'poorn', 'images', 'regulations', 'compares', 'Geeta....', 'complicated', 'Geeta.....', 'saar', '...to', 'gaya...', 'pythagoras', 'theorem', 'sudhaar', 'Sanmbhav', 'Present', 'Cabinet', 'Badlaav', 'sadno', 'manjuri', 'Pehale ', 'regular', 'Hema', 'Malini', 'samajh ', 'khamakha', 'wesa', 'jeisa', 'yE', 'sacha', 'Govt.', 'anjaane']\n",
      "[ 0.7177864  -0.16341725  0.22854818 -0.5171079   1.0138243  -0.25973916\n",
      " -0.51955837  0.0316749   0.337751    0.05265347 -0.89225227  1.3355505\n",
      " -0.00194742 -0.60433424 -0.80134004  0.24897096  0.03467508 -0.02169405\n",
      " -0.6247424   0.13556337 -1.4047319   0.8842947  -0.47934815 -0.73741245\n",
      "  0.37551287  0.543539    0.10337385 -0.28660262  0.06955744 -0.7710283\n",
      " -0.20365982  0.9621169 ]\n"
     ]
    }
   ],
   "source": [
    "# Creating word2vec vectors with the corpus\n",
    "\n",
    "from nltk.tokenize import sent_tokenize, word_tokenize\n",
    "\n",
    "\n",
    "import gensim \n",
    "from gensim.models import Word2Vec \n",
    "#model = Word2Vec(documents)\n",
    "\n",
    "documents=sp\n",
    "model1 = gensim.models.Word2Vec(documents, min_count = 1,  size = 32, window = 5)\n",
    "model1.train(documents,total_examples=len(documents),epochs=10)\n",
    "words_1 = list(model1.wv.vocab)\n",
    "print(words_1)\n",
    "print(model1[\"#JoblessGrowth\"])"
   ]
  },
  {
   "cell_type": "markdown",
   "metadata": {
    "colab_type": "text",
    "id": "ngij7SLcBe4k"
   },
   "source": [
    "## Making the word features in a list of list :-"
   ]
  },
  {
   "cell_type": "code",
   "execution_count": 48,
   "metadata": {
    "colab": {
     "base_uri": "https://localhost:8080/",
     "height": 128
    },
    "colab_type": "code",
    "id": "5AEPu-7yidlh",
    "outputId": "365bb7a2-70f0-48a1-8771-eb4efd713207",
    "scrolled": false
   },
   "outputs": [
    {
     "name": "stdout",
     "output_type": "stream",
     "text": [
      "72143\n",
      "72143\n",
      "[0.369484, 1.0963233, 0.62618256, 0.11263324, -0.45463246, -0.30700627, -0.67294943, 0.72202474, -0.47989765, 0.31124085, -1.0682528, 0.46782207, -0.8454104, -0.39047658, -1.1235627, -1.0051827, -0.006575928, 0.98547864, -0.87166893, -0.24569353, -0.1341826, 0.7388874, -0.023156881, -0.14133564, 0.4051071, -0.63868785, 0.060067095, 0.49761784, -0.31237662, 0.3606057, 1.1652691, 0.150006]\n"
     ]
    }
   ],
   "source": [
    "# Putting the word features in a list of list\n",
    "final_X=[]\n",
    "i=0;\n",
    "print (len(X_X))\n",
    "print (len(words_full))\n",
    "\n",
    "for rows in X_X:\n",
    "  t1=[]\n",
    "  temp=[]\n",
    "  p=words_full[i]\n",
    "  temp=list(model1[p])\n",
    "  for j in temp:\n",
    "    t1.append(j)\n",
    "  final_X.append(t1)\n",
    "  i=i+1\n",
    "print(final_X[0])"
   ]
  },
  {
   "cell_type": "markdown",
   "metadata": {
    "colab_type": "text",
    "id": "8DQO21ktBl6L"
   },
   "source": [
    "## Training lstm model using word2vec :-"
   ]
  },
  {
   "cell_type": "code",
   "execution_count": 17,
   "metadata": {
    "colab": {
     "base_uri": "https://localhost:8080/",
     "height": 489
    },
    "colab_type": "code",
    "id": "kQYt8Xhpi3LP",
    "outputId": "ac138cd8-2b47-4e60-8339-2e7612dacb04",
    "scrolled": true
   },
   "outputs": [
    {
     "name": "stdout",
     "output_type": "stream",
     "text": [
      "(72143, 32, 1)\n",
      "72143\n",
      "Train on 57714 samples, validate on 14429 samples\n",
      "Epoch 1/5\n",
      "57714/57714 [==============================] - 267s - loss: 0.4007 - acc: 0.9201 - val_loss: 0.3084 - val_acc: 0.9410\n",
      "Epoch 2/5\n",
      "57714/57714 [==============================] - 242s - loss: 0.3859 - acc: 0.9215 - val_loss: 0.3105 - val_acc: 0.9410\n",
      "Epoch 3/5\n",
      "57714/57714 [==============================] - 245s - loss: 0.3849 - acc: 0.9215 - val_loss: 0.3055 - val_acc: 0.9410\n",
      "Epoch 4/5\n",
      "57714/57714 [==============================] - 234s - loss: 0.3838 - acc: 0.9215 - val_loss: 0.3071 - val_acc: 0.9410\n",
      "Epoch 5/5\n",
      "57714/57714 [==============================] - 230s - loss: 0.3841 - acc: 0.9215 - val_loss: 0.3062 - val_acc: 0.9410\n",
      "_________________________________________________________________\n",
      "Layer (type)                 Output Shape              Param #   \n",
      "=================================================================\n",
      "lstm_2 (LSTM)                (None, 100)               40800     \n",
      "_________________________________________________________________\n",
      "dropout_2 (Dropout)          (None, 100)               0         \n",
      "_________________________________________________________________\n",
      "dense_2 (Dense)              (None, 7)                 707       \n",
      "=================================================================\n",
      "Total params: 41,507\n",
      "Trainable params: 41,507\n",
      "Non-trainable params: 0\n",
      "_________________________________________________________________\n"
     ]
    }
   ],
   "source": [
    "# Training lstm model using word2vec :-\n",
    "\n",
    "X=np.array(final_X)\n",
    "y2=np.array(y1)\n",
    "# print X.shape, Y.shape\n",
    "\n",
    "X = np.reshape(X, (X.shape[0], X.shape[1], 1))\n",
    "print (X.shape)\n",
    "print(len(X))\n",
    "\n",
    "model = Sequential()\n",
    "model.add(LSTM(100, input_shape=(32, 1)))\n",
    "model.add(Dropout(0.3))\n",
    "model.add(Dense(7,activation='softmax')) #7 class classification.\n",
    "model.compile(loss='sparse_categorical_crossentropy', optimizer='adam', metrics = ['accuracy'])\n",
    "model.fit(X, y2, epochs=5, batch_size=32, validation_split = 0.2, verbose=1)\n",
    "\n",
    "model.summary()"
   ]
  },
  {
   "cell_type": "markdown",
   "metadata": {
    "colab_type": "text",
    "id": "ET8MFjK9Bta6"
   },
   "source": [
    "## Training and testing Decision trees, Naive Byes and Random forest using the features generated via Word2Vec :-"
   ]
  },
  {
   "cell_type": "code",
   "execution_count": 18,
   "metadata": {
    "colab": {
     "base_uri": "https://localhost:8080/",
     "height": 889
    },
    "colab_type": "code",
    "id": "6lUeFImTp3pA",
    "outputId": "1d272e51-f64e-4b93-840c-46afde1db312",
    "scrolled": true
   },
   "outputs": [
    {
     "name": "stderr",
     "output_type": "stream",
     "text": [
      "/home/abhishek/anaconda3/lib/python3.6/site-packages/sklearn/ensemble/forest.py:246: FutureWarning: The default value of n_estimators will change from 10 in version 0.20 to 100 in 0.22.\n",
      "  \"10 in version 0.20 to 100 in 0.22.\", FutureWarning)\n"
     ]
    },
    {
     "name": "stdout",
     "output_type": "stream",
     "text": [
      "Results for Decision tree..\n",
      "              precision    recall  f1-score   support\n",
      "\n",
      "       I-Loc       0.00      0.00      0.00        10\n",
      "       B-Org       0.03      0.01      0.02       350\n",
      "       I-Per       0.00      0.00      0.00       153\n",
      "       Other       0.92      0.98      0.95     16653\n",
      "       B-Per       0.03      0.00      0.01       645\n",
      "       I-Org       0.00      0.00      0.00        23\n",
      "       B-Loc       0.00      0.00      0.00       202\n",
      "\n",
      "   micro avg       0.91      0.91      0.91     18036\n",
      "   macro avg       0.14      0.14      0.14     18036\n",
      "weighted avg       0.85      0.91      0.88     18036\n",
      "\n",
      "Decision Tree F1 score: 0.94\n",
      "Results for Naive Bayes...\n"
     ]
    },
    {
     "name": "stderr",
     "output_type": "stream",
     "text": [
      "/home/abhishek/anaconda3/lib/python3.6/site-packages/sklearn/metrics/classification.py:1143: UndefinedMetricWarning: Precision and F-score are ill-defined and being set to 0.0 in labels with no predicted samples.\n",
      "  'precision', 'predicted', average, warn_for)\n",
      "/home/abhishek/anaconda3/lib/python3.6/site-packages/sklearn/metrics/classification.py:1145: UndefinedMetricWarning: F-score is ill-defined and being set to 0.0 in labels with no true samples.\n",
      "  'recall', 'true', average, warn_for)\n"
     ]
    },
    {
     "name": "stdout",
     "output_type": "stream",
     "text": [
      "              precision    recall  f1-score   support\n",
      "\n",
      "       I-Loc       0.00      0.00      0.00        10\n",
      "       B-Org       0.00      0.00      0.00       350\n",
      "       I-Per       0.00      0.00      0.00       153\n",
      "       Other       0.92      0.99      0.95     16653\n",
      "       B-Per       0.00      0.00      0.00       645\n",
      "       I-Org       0.00      0.00      0.00        23\n",
      "       B-Loc       0.00      0.00      0.00       202\n",
      "\n",
      "   micro avg       0.91      0.91      0.91     18036\n",
      "   macro avg       0.13      0.14      0.14     18036\n",
      "weighted avg       0.85      0.91      0.88     18036\n",
      "\n",
      "Naive Bayes F1 score: 0.94\n",
      "Results for Random Forest...\n",
      "              precision    recall  f1-score   support\n",
      "\n",
      "       I-Loc       0.00      0.00      0.00        10\n",
      "       B-Org       0.00      0.00      0.00       350\n",
      "       I-Per       0.00      0.00      0.00       153\n",
      "       Other       0.92      1.00      0.96     16653\n",
      "       B-Per       0.00      0.00      0.00       645\n",
      "       I-Org       0.00      0.00      0.00        23\n",
      "       B-Loc       0.00      0.00      0.00       202\n",
      "\n",
      "   micro avg       0.92      0.92      0.92     18036\n",
      "   macro avg       0.13      0.14      0.14     18036\n",
      "weighted avg       0.85      0.92      0.89     18036\n",
      "\n",
      "random Forest F1 score: 0.96\n"
     ]
    },
    {
     "name": "stderr",
     "output_type": "stream",
     "text": [
      "/home/abhishek/anaconda3/lib/python3.6/site-packages/sklearn/metrics/classification.py:1143: UndefinedMetricWarning: Precision and F-score are ill-defined and being set to 0.0 in labels with no predicted samples.\n",
      "  'precision', 'predicted', average, warn_for)\n",
      "/home/abhishek/anaconda3/lib/python3.6/site-packages/sklearn/metrics/classification.py:1145: UndefinedMetricWarning: F-score is ill-defined and being set to 0.0 in labels with no true samples.\n",
      "  'recall', 'true', average, warn_for)\n"
     ]
    }
   ],
   "source": [
    "# 3 Basic Models using word2vec features :-\n",
    "\n",
    "X_train, X_test, y_train, y_test = train_test_split(final_X, y1, random_state=0)\n",
    "\n",
    "dtc = DecisionTreeClassifier(max_depth=32)\n",
    "gnb = GaussianNB()\n",
    "clf = RandomForestClassifier(max_depth=10)\n",
    "\n",
    "# fit\n",
    "dtc.fit(X_train, y_train)\n",
    "gnb.fit(X_train, y_train)\n",
    "clf.fit(X_train, y_train)\n",
    "\n",
    "# predict\n",
    "y_pred = dtc.predict(X_test)\n",
    "target_names = ['I-Loc', 'B-Org', 'I-Per', 'Other', 'B-Per', 'I-Org', 'B-Loc']\n",
    "\n",
    "# print\n",
    "print (\"Results for Decision tree..\")\n",
    "\n",
    "print(classification_report(y_test, y_pred, target_names=target_names))\n",
    "\n",
    "\n",
    "# f1 score\n",
    "score = f1_score(y_pred, y_test, average='weighted')\n",
    "print (\"Decision Tree F1 score: {:.2f}\".format(score))\n",
    "\n",
    "\n",
    "print (\"Results for Naive Bayes...\")\n",
    "y_pred = gnb.predict(X_test)\n",
    "print(classification_report(y_test, y_pred, target_names=target_names))\n",
    "\n",
    "# f1 score\n",
    "score = f1_score(y_pred, y_test, average='weighted')\n",
    "print (\"Naive Bayes F1 score: {:.2f}\".format(score))\n",
    "\n",
    "\n",
    "\n",
    "print (\"Results for Random Forest...\")\n",
    "y_pred = clf.predict(X_test)\n",
    "print(classification_report(y_test, y_pred, target_names=target_names))\n",
    "\n",
    "# f1 score\n",
    "score = f1_score(y_pred, y_test, average='weighted')\n",
    "print (\"random Forest F1 score: {:.2f}\".format(score))"
   ]
  },
  {
   "cell_type": "markdown",
   "metadata": {},
   "source": [
    "# Glove models :-"
   ]
  },
  {
   "cell_type": "markdown",
   "metadata": {},
   "source": [
    "## Making Feature Vectors from Glove :-"
   ]
  },
  {
   "cell_type": "code",
   "execution_count": 30,
   "metadata": {},
   "outputs": [
    {
     "name": "stdout",
     "output_type": "stream",
     "text": [
      "Performing 30 training epochs with 4 threads\n",
      "Epoch 0\n",
      "Epoch 1\n",
      "Epoch 2\n",
      "Epoch 3\n",
      "Epoch 4\n",
      "Epoch 5\n",
      "Epoch 6\n",
      "Epoch 7\n",
      "Epoch 8\n",
      "Epoch 9\n",
      "Epoch 10\n",
      "Epoch 11\n",
      "Epoch 12\n",
      "Epoch 13\n",
      "Epoch 14\n",
      "Epoch 15\n",
      "Epoch 16\n",
      "Epoch 17\n",
      "Epoch 18\n",
      "Epoch 19\n",
      "Epoch 20\n",
      "Epoch 21\n",
      "Epoch 22\n",
      "Epoch 23\n",
      "Epoch 24\n",
      "Epoch 25\n",
      "Epoch 26\n",
      "Epoch 27\n",
      "Epoch 28\n",
      "Epoch 29\n"
     ]
    }
   ],
   "source": [
    "#importing the glove library\n",
    "from glove import Corpus, Glove\n",
    "\n",
    "# creating a corpus object\n",
    "corpus = Corpus() \n",
    "\n",
    "#training the corpus to generate the co occurence matrix which is used in GloVe\n",
    "corpus.fit(sp, window=10)\n",
    "\n",
    "#creating a Glove object which will use the matrix created in the above lines to create embeddings\n",
    "#We can set the learning rate as it uses Gradient Descent and number of components\n",
    "\n",
    "glove = Glove(no_components=32, learning_rate=0.05)\n",
    " \n",
    "glove.fit(corpus.matrix, epochs=30, no_threads=4, verbose=True)\n",
    "glove.add_dictionary(corpus.dictionary)\n",
    "glove.save('glove.model')"
   ]
  },
  {
   "cell_type": "code",
   "execution_count": 31,
   "metadata": {
    "collapsed": true
   },
   "outputs": [],
   "source": [
    "glove.add_dictionary(corpus.dictionary)"
   ]
  },
  {
   "cell_type": "code",
   "execution_count": 32,
   "metadata": {
    "scrolled": true
   },
   "outputs": [
    {
     "name": "stdout",
     "output_type": "stream",
     "text": [
      "[ 0.02872529  0.20662195 -0.17903314 -0.14968255  0.16822127  0.14187437\n",
      " -0.11454153 -0.08117116  0.11215312  0.24957054  0.24210005  0.10701037\n",
      " -0.01061502 -0.03478623  0.12436971 -0.22915695  0.12502896 -0.02805578\n",
      "  0.10606942  0.36071329 -0.08788866  0.1561623  -0.02311725 -0.08130553\n",
      " -0.04763353  0.25275604 -0.09861156  0.05090155 -0.08836092 -0.07727413\n",
      " -0.22862472  0.16884283]\n"
     ]
    }
   ],
   "source": [
    "print (glove.word_vectors[glove.dictionary[\"#JoblessGrowth\"]])"
   ]
  },
  {
   "cell_type": "markdown",
   "metadata": {},
   "source": [
    "## Putting the word features in a list of list for Glove :-"
   ]
  },
  {
   "cell_type": "code",
   "execution_count": 36,
   "metadata": {},
   "outputs": [
    {
     "name": "stdout",
     "output_type": "stream",
     "text": [
      "72143\n",
      "72143\n",
      "[-0.015190150649196285, -0.0432988379604346, 0.001212441795811093, 0.012979846736635792, 0.03600935030187697, 0.26885049300957137, 0.014004826096759113, 0.020144587631231135, 0.023066546747458547, 0.15793466572125484, 0.09869459549971595, -0.015755623871016526, 0.005483759272304271, 0.032320373235618434, 0.014443618338382381, -0.0471875082214932, 0.03920811741261384, -0.1123086112101862, 0.031846871098031825, 0.16643322122154222, -0.08714539164177486, 0.042833464414314855, -0.07535872103711698, -0.04285884095684721, -0.016688706835664983, -0.14856977958206533, 0.0014084338709110665, 0.04067982381388445, 0.053916643697603954, -0.06633781615266965, 0.01120865429123191, 0.007919790313642773]\n"
     ]
    }
   ],
   "source": [
    "# Putting the word features in a list of list for Glove :-\n",
    "glove_X=[]\n",
    "i=0;\n",
    "print (len(X_X))\n",
    "print (len(words_full))\n",
    "\n",
    "for rows in X_X:\n",
    "  t1=[]\n",
    "  temp=[]\n",
    "  p=words_full[i]\n",
    "  temp=list(glove.word_vectors[glove.dictionary[p]])\n",
    "  for j in temp:\n",
    "    t1.append(j)\n",
    "  glove_X.append(t1)\n",
    "  i=i+1\n",
    "print(glove_X[0])"
   ]
  },
  {
   "cell_type": "markdown",
   "metadata": {},
   "source": [
    "## Training lstm model using glove :-"
   ]
  },
  {
   "cell_type": "code",
   "execution_count": 37,
   "metadata": {},
   "outputs": [
    {
     "name": "stdout",
     "output_type": "stream",
     "text": [
      "(72143, 32, 1)\n",
      "72143\n",
      "Train on 57714 samples, validate on 14429 samples\n",
      "Epoch 1/5\n",
      "57714/57714 [==============================] - 289s - loss: 0.4012 - acc: 0.9209 - val_loss: 0.3106 - val_acc: 0.9410\n",
      "Epoch 2/5\n",
      "57714/57714 [==============================] - 279s - loss: 0.3851 - acc: 0.9215 - val_loss: 0.3084 - val_acc: 0.9410\n",
      "Epoch 3/5\n",
      "57714/57714 [==============================] - 275s - loss: 0.3845 - acc: 0.9215 - val_loss: 0.3091 - val_acc: 0.9410\n",
      "Epoch 4/5\n",
      "57714/57714 [==============================] - 280s - loss: 0.3838 - acc: 0.9215 - val_loss: 0.3091 - val_acc: 0.9410\n",
      "Epoch 5/5\n",
      "57714/57714 [==============================] - 255s - loss: 0.3830 - acc: 0.9215 - val_loss: 0.3067 - val_acc: 0.9410\n",
      "_________________________________________________________________\n",
      "Layer (type)                 Output Shape              Param #   \n",
      "=================================================================\n",
      "lstm_9 (LSTM)                (None, 100)               40800     \n",
      "_________________________________________________________________\n",
      "dropout_6 (Dropout)          (None, 100)               0         \n",
      "_________________________________________________________________\n",
      "dense_9 (Dense)              (None, 7)                 707       \n",
      "=================================================================\n",
      "Total params: 41,507\n",
      "Trainable params: 41,507\n",
      "Non-trainable params: 0\n",
      "_________________________________________________________________\n"
     ]
    }
   ],
   "source": [
    "# Training lstm model using glove :-\n",
    "\n",
    "X=np.array(glove_X)\n",
    "y2=np.array(y1)\n",
    "# print X.shape, Y.shape\n",
    "\n",
    "X = np.reshape(X, (X.shape[0], X.shape[1], 1))\n",
    "print (X.shape)\n",
    "print(len(X))\n",
    "\n",
    "model = Sequential()\n",
    "model.add(LSTM(100, input_shape=(32, 1)))\n",
    "model.add(Dropout(0.3))\n",
    "model.add(Dense(7,activation='softmax')) #7 class classification.\n",
    "model.compile(loss='sparse_categorical_crossentropy', optimizer='adam', metrics = ['accuracy'])\n",
    "model.fit(X, y2, epochs=5, batch_size=32, validation_split = 0.2, verbose=1)\n",
    "\n",
    "model.summary()"
   ]
  },
  {
   "cell_type": "markdown",
   "metadata": {},
   "source": [
    "## Training and testing Decision trees, Naive Byes and Random forest using the features generated via Word2Vec :-"
   ]
  },
  {
   "cell_type": "code",
   "execution_count": 39,
   "metadata": {},
   "outputs": [
    {
     "name": "stderr",
     "output_type": "stream",
     "text": [
      "/home/abhishek/anaconda3/lib/python3.6/site-packages/sklearn/ensemble/forest.py:246: FutureWarning: The default value of n_estimators will change from 10 in version 0.20 to 100 in 0.22.\n",
      "  \"10 in version 0.20 to 100 in 0.22.\", FutureWarning)\n"
     ]
    },
    {
     "name": "stdout",
     "output_type": "stream",
     "text": [
      "Results for Decision tree..\n",
      "              precision    recall  f1-score   support\n",
      "\n",
      "       I-Loc       0.00      0.00      0.00        10\n",
      "       B-Org       0.04      0.01      0.02       350\n",
      "       I-Per       0.00      0.00      0.00       153\n",
      "       Other       0.92      0.99      0.95     16653\n",
      "       B-Per       0.07      0.01      0.02       645\n",
      "       I-Org       0.00      0.00      0.00        23\n",
      "       B-Loc       0.00      0.00      0.00       202\n",
      "\n",
      "   micro avg       0.91      0.91      0.91     18036\n",
      "   macro avg       0.15      0.14      0.14     18036\n",
      "weighted avg       0.86      0.91      0.88     18036\n",
      "\n",
      "Decision Tree F1 score: 0.94\n",
      "Results for Naive Bayes...\n"
     ]
    },
    {
     "name": "stderr",
     "output_type": "stream",
     "text": [
      "/home/abhishek/anaconda3/lib/python3.6/site-packages/sklearn/metrics/classification.py:1143: UndefinedMetricWarning: Precision and F-score are ill-defined and being set to 0.0 in labels with no predicted samples.\n",
      "  'precision', 'predicted', average, warn_for)\n",
      "/home/abhishek/anaconda3/lib/python3.6/site-packages/sklearn/metrics/classification.py:1145: UndefinedMetricWarning: F-score is ill-defined and being set to 0.0 in labels with no true samples.\n",
      "  'recall', 'true', average, warn_for)\n",
      "/home/abhishek/anaconda3/lib/python3.6/site-packages/sklearn/metrics/classification.py:1143: UndefinedMetricWarning: Precision and F-score are ill-defined and being set to 0.0 in labels with no predicted samples.\n",
      "  'precision', 'predicted', average, warn_for)\n",
      "/home/abhishek/anaconda3/lib/python3.6/site-packages/sklearn/metrics/classification.py:1145: UndefinedMetricWarning: F-score is ill-defined and being set to 0.0 in labels with no true samples.\n",
      "  'recall', 'true', average, warn_for)\n"
     ]
    },
    {
     "name": "stdout",
     "output_type": "stream",
     "text": [
      "              precision    recall  f1-score   support\n",
      "\n",
      "       I-Loc       0.00      0.10      0.00        10\n",
      "       B-Org       0.00      0.00      0.00       350\n",
      "       I-Per       0.00      0.00      0.00       153\n",
      "       Other       0.92      0.85      0.88     16653\n",
      "       B-Per       0.00      0.00      0.00       645\n",
      "       I-Org       0.00      0.04      0.00        23\n",
      "       B-Loc       0.00      0.00      0.00       202\n",
      "\n",
      "   micro avg       0.78      0.78      0.78     18036\n",
      "   macro avg       0.13      0.14      0.13     18036\n",
      "weighted avg       0.85      0.78      0.82     18036\n",
      "\n",
      "Naive Bayes F1 score: 0.75\n",
      "Results for Random Forest...\n",
      "              precision    recall  f1-score   support\n",
      "\n",
      "       I-Loc       0.00      0.00      0.00        10\n",
      "       B-Org       0.00      0.00      0.00       350\n",
      "       I-Per       0.00      0.00      0.00       153\n",
      "       Other       0.92      1.00      0.96     16653\n",
      "       B-Per       0.00      0.00      0.00       645\n",
      "       I-Org       0.00      0.00      0.00        23\n",
      "       B-Loc       0.00      0.00      0.00       202\n",
      "\n",
      "   micro avg       0.92      0.92      0.92     18036\n",
      "   macro avg       0.13      0.14      0.14     18036\n",
      "weighted avg       0.85      0.92      0.89     18036\n",
      "\n",
      "random Forest F1 score: 0.96\n"
     ]
    },
    {
     "name": "stderr",
     "output_type": "stream",
     "text": [
      "/home/abhishek/anaconda3/lib/python3.6/site-packages/sklearn/metrics/classification.py:1143: UndefinedMetricWarning: Precision and F-score are ill-defined and being set to 0.0 in labels with no predicted samples.\n",
      "  'precision', 'predicted', average, warn_for)\n",
      "/home/abhishek/anaconda3/lib/python3.6/site-packages/sklearn/metrics/classification.py:1145: UndefinedMetricWarning: F-score is ill-defined and being set to 0.0 in labels with no true samples.\n",
      "  'recall', 'true', average, warn_for)\n"
     ]
    }
   ],
   "source": [
    "# 3 Basic Models using Glove features :-\n",
    "\n",
    "X_train, X_test, y_train, y_test = train_test_split(glove_X, y1, random_state=0)\n",
    "\n",
    "dtc = DecisionTreeClassifier(max_depth=32)\n",
    "gnb = GaussianNB()\n",
    "clf = RandomForestClassifier(max_depth=10)\n",
    "\n",
    "# fit\n",
    "dtc.fit(X_train, y_train)\n",
    "gnb.fit(X_train, y_train)\n",
    "clf.fit(X_train, y_train)\n",
    "\n",
    "# predict\n",
    "y_pred = dtc.predict(X_test)\n",
    "target_names = ['I-Loc', 'B-Org', 'I-Per', 'Other', 'B-Per', 'I-Org', 'B-Loc']\n",
    "\n",
    "# print\n",
    "print (\"Results for Decision tree..\")\n",
    "\n",
    "print(classification_report(y_test, y_pred, target_names=target_names))\n",
    "\n",
    "\n",
    "# f1 score\n",
    "score = f1_score(y_pred, y_test, average='weighted')\n",
    "print (\"Decision Tree F1 score: {:.2f}\".format(score))\n",
    "\n",
    "\n",
    "print (\"Results for Naive Bayes...\")\n",
    "y_pred = gnb.predict(X_test)\n",
    "print(classification_report(y_test, y_pred, target_names=target_names))\n",
    "\n",
    "# f1 score\n",
    "score = f1_score(y_pred, y_test, average='weighted')\n",
    "print (\"Naive Bayes F1 score: {:.2f}\".format(score))\n",
    "\n",
    "\n",
    "\n",
    "print (\"Results for Random Forest...\")\n",
    "y_pred = clf.predict(X_test)\n",
    "print(classification_report(y_test, y_pred, target_names=target_names))\n",
    "\n",
    "# f1 score\n",
    "score = f1_score(y_pred, y_test, average='weighted')\n",
    "print (\"random Forest F1 score: {:.2f}\".format(score))"
   ]
  },
  {
   "cell_type": "code",
   "execution_count": null,
   "metadata": {
    "collapsed": true
   },
   "outputs": [],
   "source": []
  }
 ],
 "metadata": {
  "colab": {
   "collapsed_sections": [],
   "name": "Word2Vec.ipynb",
   "provenance": [],
   "version": "0.3.2"
  },
  "kernelspec": {
   "display_name": "Python 3",
   "language": "python",
   "name": "python3"
  },
  "language_info": {
   "codemirror_mode": {
    "name": "ipython",
    "version": 3
   },
   "file_extension": ".py",
   "mimetype": "text/x-python",
   "name": "python",
   "nbconvert_exporter": "python",
   "pygments_lexer": "ipython3",
   "version": "3.6.3"
  }
 },
 "nbformat": 4,
 "nbformat_minor": 1
}
